{
 "cells": [
  {
   "cell_type": "markdown",
   "metadata": {},
   "source": [
    "# Data Sampling\n",
    "climatrix allows sampling data from a dataset using various strategies, such as uniform sampling (sample_uniform) and normal sampling (sample_normal). This notebook demonstrates these features.\n",
    "\n",
    "\n",
    "\n",
    "\n",
    "\n",
    "\n",
    "\n",
    "\n"
   ],
   "id": "51d9629a52033b0b"
  },
  {
   "cell_type": "code",
   "metadata": {
    "ExecuteTime": {
     "end_time": "2025-05-25T15:31:44.924677Z",
     "start_time": "2025-05-25T15:31:43.647672Z"
    }
   },
   "source": [
    "import climatrix as cm\n",
    "import xarray as xr\n",
    "import numpy as np\n",
    "from climatrix.dataset.domain import SamplingNaNPolicy #\n",
    "from datetime import datetime"
   ],
   "id": "c17a70f26b1b1909",
   "outputs": [],
   "execution_count": 2
  },
  {
   "cell_type": "markdown",
   "metadata": {},
   "source": "## Creation of simple Dataset",
   "id": "76dc37d20401bde5"
  },
  {
   "metadata": {
    "ExecuteTime": {
     "end_time": "2025-05-25T15:33:54.439739Z",
     "start_time": "2025-05-25T15:33:54.433776Z"
    }
   },
   "cell_type": "code",
   "source": [
    "xarray_da = xr.DataArray(\n",
    "    data=np.random.rand(1, 91, 181),\n",
    "    dims=(\"time\", \"latitude\", \"longitude\"),\n",
    "    coords={\n",
    "        \"time\": np.array(\n",
    "            [\n",
    "                datetime(2000, 1, 1),\n",
    "            ],\n",
    "            dtype=\"datetime64\",\n",
    "        ),\n",
    "        \"latitude\": (\n",
    "            (\"latitude\",),\n",
    "            np.arange(-90, 92, 2, dtype=np.float32),\n",
    "        ),\n",
    "        \"longitude\": (\n",
    "            (\"longitude\",),\n",
    "            np.arange(-180, 182, 2, dtype=np.float32),\n",
    "        ),\n",
    "    },\n",
    ")\n",
    "cm_dense = xarray_da.to_dataset(name=\"temperature\").cm\n",
    "print(f\"Domain size: {cm_dense.domain.size}\")"
   ],
   "id": "d2bfd70633b1fec9",
   "outputs": [
    {
     "name": "stdout",
     "output_type": "stream",
     "text": [
      "Domain size: 16471\n"
     ]
    }
   ],
   "execution_count": 7
  },
  {
   "cell_type": "markdown",
   "metadata": {},
   "source": "## Uniform Sampling (`sample_uniform`)",
   "id": "382a39d825622323"
  },
  {
   "cell_type": "code",
   "metadata": {
    "ExecuteTime": {
     "end_time": "2025-05-25T15:47:44.309371Z",
     "start_time": "2025-05-25T15:47:44.299968Z"
    }
   },
   "source": [
    "# Sampling by specifying a portion\n",
    "cm_sampled_uniform_portion = cm_dense.sample_uniform(portion=0.01)  # 1% of the data\n",
    "print(\"Sampled dataset (uniformly, 1% of data):\")\n",
    "print(cm_sampled_uniform_portion.da)\n",
    "print(f\"Number of points in the sampled dataset: {cm_sampled_uniform_portion.domain.size}\")\n",
    "\n",
    "\n",
    "# Sampling by specifying the number of points\n",
    "cm_sampled_uniform_number = cm_dense.sample_uniform(number=15)\n",
    "print(\"\\nSampled dataset (uniformly, 15 points):\")\n",
    "print(cm_sampled_uniform_number.da)\n",
    "print(f\"Number of points: {cm_sampled_uniform_number.domain.size}\")\n"
   ],
   "id": "28fbd51c862ace3d",
   "outputs": [
    {
     "name": "stdout",
     "output_type": "stream",
     "text": [
      "Sampled dataset (uniformly, 1% of data):\n",
      "<xarray.DataArray 'temperature' (point: 164)> Size: 1kB\n",
      "array([0.52712286, 0.63928844, 0.03646083, 0.8241649 , 0.57609229,\n",
      "       0.01474859, 0.6195384 , 0.14689573, 0.51154453, 0.94101298,\n",
      "       0.67256902, 0.54556217, 0.2944918 , 0.02490532, 0.19157309,\n",
      "       0.95268051, 0.78059175, 0.02017985, 0.96598026, 0.33529364,\n",
      "       0.33838272, 0.76792389, 0.89029098, 0.09715077, 0.73804814,\n",
      "       0.62272207, 0.42154448, 0.2208285 , 0.83581114, 0.46591751,\n",
      "       0.55609206, 0.63954741, 0.52492922, 0.92202429, 0.12271198,\n",
      "       0.83099301, 0.36464272, 0.92975865, 0.89890718, 0.53546936,\n",
      "       0.82406661, 0.41654791, 0.69182799, 0.14956867, 0.26567454,\n",
      "       0.05442339, 0.22792661, 0.54056607, 0.97275205, 0.21003985,\n",
      "       0.26660876, 0.99562391, 0.43779213, 0.18616756, 0.87016829,\n",
      "       0.17665773, 0.90638697, 0.9556379 , 0.10803328, 0.35395568,\n",
      "       0.55222438, 0.93422497, 0.70865649, 0.56365971, 0.08950165,\n",
      "       0.13886274, 0.83514772, 0.85946791, 0.01447277, 0.03917245,\n",
      "       0.72031061, 0.21612345, 0.15361161, 0.80972087, 0.43902946,\n",
      "       0.02595739, 0.34806474, 0.38756295, 0.96575404, 0.22463138,\n",
      "       0.46787376, 0.90135421, 0.4475249 , 0.59607781, 0.73899166,\n",
      "       0.69967004, 0.25037631, 0.17490216, 0.505985  , 0.97339874,\n",
      "       0.57869408, 0.74293616, 0.77312683, 0.93793508, 0.82603816,\n",
      "       0.53955778, 0.67732642, 0.56901871, 0.91472103, 0.35724622,\n",
      "       0.78902092, 0.23937735, 0.26467913, 0.86259227, 0.22609278,\n",
      "       0.9555564 , 0.29519509, 0.57972753, 0.38456072, 0.28645968,\n",
      "       0.99798162, 0.71910875, 0.38506064, 0.98948701, 0.09850481,\n",
      "       0.52272387, 0.14368386, 0.48654246, 0.16641817, 0.34822852,\n",
      "       0.21409088, 0.99789397, 0.93132967, 0.48286132, 0.9132042 ,\n",
      "       0.50653409, 0.75936626, 0.72658181, 0.63678753, 0.39679064,\n",
      "       0.33775384, 0.57757008, 0.04940118, 0.15163404, 0.12564534,\n",
      "       0.34138571, 0.47704013, 0.42122607, 0.86935915, 0.14758153,\n",
      "       0.67975598, 0.76268318, 0.31276654, 0.68538147, 0.26310971,\n",
      "       0.10852461, 0.95993486, 0.38784837, 0.86812273, 0.36247369,\n",
      "       0.40078442, 0.67736577, 0.67734853, 0.74081958, 0.17854755,\n",
      "       0.40756349, 0.51007712, 0.52732704, 0.13914203, 0.32213763,\n",
      "       0.1579403 , 0.41350813, 0.5605122 , 0.58280196])\n",
      "Coordinates:\n",
      "    latitude   (point) float32 656B -82.0 -46.0 46.0 -80.0 ... -32.0 -80.0 -68.0\n",
      "    longitude  (point) float32 656B -82.0 40.0 -64.0 74.0 ... 174.0 -22.0 96.0\n",
      "Dimensions without coordinates: point\n",
      "Number of points in the sampled dataset: 164\n",
      "Is the sampled dataset sparse? True\n",
      "\n",
      "Sampled dataset (uniformly, 15 points):\n",
      "<xarray.DataArray 'temperature' (point: 15)> Size: 120B\n",
      "array([0.37969547, 0.07057048, 0.52321215, 0.05690032, 0.27767045,\n",
      "       0.14206269, 0.66740196, 0.37833768, 0.31552537, 0.77901521,\n",
      "       0.50901601, 0.33686414, 0.86299523, 0.99139112, 0.52823878])\n",
      "Coordinates:\n",
      "    latitude   (point) float32 60B -50.0 -36.0 46.0 8.0 ... 88.0 -20.0 -50.0\n",
      "    longitude  (point) float32 60B -180.0 -62.0 -28.0 ... -90.0 -162.0 120.0\n",
      "Dimensions without coordinates: point\n",
      "Number of points: 15\n"
     ]
    }
   ],
   "execution_count": 9
  },
  {
   "cell_type": "markdown",
   "metadata": {},
   "source": "## Normal Sampling (`sample_normal`)",
   "id": "4740c3bcf01263cd"
  },
  {
   "cell_type": "code",
   "metadata": {
    "ExecuteTime": {
     "end_time": "2025-05-25T15:48:25.595697Z",
     "start_time": "2025-05-25T15:48:25.584423Z"
    }
   },
   "source": [
    "center_lon = -95.0\n",
    "center_lat = 35.0\n",
    "sigma_val = 5.0\n",
    "\n",
    "cm_sampled_normal = cm_dense.sample_normal(\n",
    "    number=20,\n",
    "    center_point=(center_lon, center_lat),\n",
    "    sigma=sigma_val\n",
    ")\n",
    "print(\"Sampled dataset (normally, 20 points):\")\n",
    "print(cm_sampled_normal.da)\n",
    "print(f\"Number of points: {cm_sampled_normal.domain.size}\")\n"
   ],
   "id": "a8e9e28f1b01cb37",
   "outputs": [
    {
     "name": "stdout",
     "output_type": "stream",
     "text": [
      "Sampled dataset (normally, 20 points):\n",
      "<xarray.DataArray 'temperature' (point: 20)> Size: 160B\n",
      "array([0.02035756, 0.56597235, 0.19078197, 0.67679772, 0.29520872,\n",
      "       0.38199055, 0.37565171, 0.19078197, 0.29520872, 0.06971324,\n",
      "       0.66248246, 0.16371587, 0.98684646, 0.22591755, 0.94101298,\n",
      "       0.19078197, 0.39942364, 0.51499686, 0.05414148, 0.5965287 ])\n",
      "Coordinates:\n",
      "    latitude   (point) float32 80B 28.0 36.0 30.0 28.0 ... 30.0 40.0 34.0 22.0\n",
      "    longitude  (point) float32 80B -90.0 -108.0 -92.0 ... -100.0 -96.0 -96.0\n",
      "Dimensions without coordinates: point\n",
      "Number of points: 20\n"
     ]
    }
   ],
   "execution_count": 10
  },
  {
   "metadata": {},
   "cell_type": "markdown",
   "source": [
    "## Handling NaN Values During Sampling\n",
    "Sampling methods include a `nan` parameter to control behavior when encountering NaN values.\n",
    "Available strategies (`SamplingNaNPolicy`):\n",
    "- `IGNORE`: Ignores NaNs (default); the sample may contain NaN values.\n",
    "- `RESAMPLE`: If a sampled point contains NaN, it resamples.\n",
    "- `RAISE`: Raises a `ValueError` if any sampled point contains a NaN."
   ],
   "id": "4cd00af82e1443af"
  },
  {
   "metadata": {
    "ExecuteTime": {
     "end_time": "2025-05-25T16:07:02.107581Z",
     "start_time": "2025-05-25T16:07:02.090649Z"
    }
   },
   "cell_type": "code",
   "source": [
    "data_with_nans = np.random.rand(1, 91, 181)\n",
    "data_with_nans[0:20, 0:30] = np.nan\n",
    "\n",
    "xarray_da = xr.DataArray(\n",
    "    data=data_with_nans,\n",
    "    dims=(\"time\", \"latitude\", \"longitude\"),\n",
    "    coords={\n",
    "        \"time\": np.array(\n",
    "            [\n",
    "                datetime(2000, 1, 1),\n",
    "            ],\n",
    "            dtype=\"datetime64\",\n",
    "        ),\n",
    "        \"latitude\": (\n",
    "            (\"latitude\",),\n",
    "            np.arange(-90, 92, 2, dtype=np.float32),\n",
    "        ),\n",
    "        \"longitude\": (\n",
    "            (\"longitude\",),\n",
    "            np.arange(-180, 182, 2, dtype=np.float32),\n",
    "        ),\n",
    "    },\n",
    ")\n",
    "cm_nans = xarray_da.to_dataset(name=\"temperature\").cm\n",
    "\n",
    "print(f\"Dataset size: {cm_nans.domain.size}\")\n",
    "print(f\"Number of NaNs in the original dataset: {np.isnan(cm_nans.da.values).sum()}\")\n",
    "\n",
    "# IGNORE strategy\n",
    "sampled_ignore_nan = cm_nans.sample_uniform(number=10000, nan=SamplingNaNPolicy.IGNORE)\n",
    "print(f\"\\nSampling with IGNORE: number of NaNs in the sample = {np.isnan(sampled_ignore_nan.da.values).sum()}\")\n",
    "\n",
    "# RESAMPLE strategy\n",
    "sampled_resample_nan = cm_nans.sample_uniform(number=10000, nan=SamplingNaNPolicy.RESAMPLE)\n",
    "print(f\"Sampling with RESAMPLE: number of NaNs in the sample = {np.isnan(sampled_resample_nan.da.values).sum()}\")\n",
    "\n",
    "# RAISE strategy\n",
    "try:\n",
    "    cm_nans.sample_uniform(number=12000, nan=SamplingNaNPolicy.RAISE)\n",
    "except ValueError as error:\n",
    "    print(f\"Expected error caught for RAISE: {error}\")"
   ],
   "id": "b1ca1a3415de8c0a",
   "outputs": [
    {
     "name": "stdout",
     "output_type": "stream",
     "text": [
      "Dataset size: 16471\n",
      "Number of NaNs in the original dataset: 5430\n",
      "\n",
      "Sampling with IGNORE: number of NaNs in the sample = 3271\n",
      "Sampling with RESAMPLE: number of NaNs in the sample = 0\n",
      "Expected error caught for RAISE: Not all points have data\n"
     ]
    }
   ],
   "execution_count": 19
  }
 ],
 "metadata": {
  "kernelspec": {
   "display_name": "Python 3",
   "language": "python",
   "name": "python3"
  },
  "language_info": {
   "codemirror_mode": {
    "name": "ipython",
    "version": 3
   },
   "file_extension": ".py",
   "mimetype": "text/x-python",
   "name": "python",
   "nbconvert_exporter": "python",
   "pygments_lexer": "ipython3",
   "version": "3.10.0"
  }
 },
 "nbformat": 4,
 "nbformat_minor": 5
}
