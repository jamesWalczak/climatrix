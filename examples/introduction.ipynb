{
 "cells": [
  {
   "cell_type": "markdown",
   "metadata": {},
   "source": [
    "# Introduction to Climatrix and Basic Operations\n",
    "\n",
    "This notebook demonstrates basic operations using the climatrix library, including creating a BaseClimatrixDataset object, accessing domain and axis information, and performing basic arithmetic operations."
   ],
   "id": "c8e3180b8df2bb67"
  },
  {
   "cell_type": "code",
   "metadata": {
    "ExecuteTime": {
     "end_time": "2025-05-25T12:33:45.885470Z",
     "start_time": "2025-05-25T12:33:45.881680Z"
    }
   },
   "source": [
    "import climatrix as cm\n",
    "import xarray as xr\n",
    "import numpy as np\n",
    "from datetime import datetime"
   ],
   "id": "38c700e32fdda172",
   "outputs": [],
   "execution_count": 51
  },
  {
   "metadata": {},
   "cell_type": "markdown",
   "source": "## Creation of simple Dataset",
   "id": "46956d686d878ffb"
  },
  {
   "metadata": {
    "ExecuteTime": {
     "end_time": "2025-05-25T12:33:45.941580Z",
     "start_time": "2025-05-25T12:33:45.932601Z"
    }
   },
   "cell_type": "code",
   "source": [
    "xarray_da = xr.DataArray(\n",
    "    data=np.random.rand(1, 5, 5),\n",
    "    dims=(\"time\", \"latitude\", \"longitude\"),\n",
    "    coords={\n",
    "        \"time\": np.array(\n",
    "            [\n",
    "                datetime(2000, 1, 1),\n",
    "            ],\n",
    "            dtype=\"datetime64\",\n",
    "        ),\n",
    "        \"latitude\": (\n",
    "            (\"latitude\",),\n",
    "            np.array([-90, -45, 0, 45, 90]),\n",
    "        ),\n",
    "        \"longitude\": (\n",
    "            (\"longitude\",),\n",
    "            np.array([-180, -90, 0, 90, 180]),\n",
    "        ),\n",
    "    },\n",
    ")\n",
    "cm_dense = xarray_da.to_dataset(name=\"temperature\").cm\n",
    "cm_dense"
   ],
   "id": "a1579fea329e798",
   "outputs": [
    {
     "data": {
      "text/plain": [
       "<climatrix.dataset.base.BaseClimatrixDataset at 0x7975000eaf50>"
      ]
     },
     "execution_count": 52,
     "metadata": {},
     "output_type": "execute_result"
    }
   ],
   "execution_count": 52
  },
  {
   "cell_type": "markdown",
   "metadata": {},
   "source": "### Information about the `Domain`",
   "id": "fedea01dd2386000"
  },
  {
   "cell_type": "code",
   "metadata": {
    "ExecuteTime": {
     "end_time": "2025-05-25T12:33:45.993037Z",
     "start_time": "2025-05-25T12:33:45.989968Z"
    }
   },
   "source": [
    "domain = cm_dense.domain\n",
    "\n",
    "print(f\"is the domain sparse? {domain.is_sparse}\")\n",
    "print(f\"is the domain dynamic? {domain.is_dynamic}\")"
   ],
   "id": "459432be95b91d4",
   "outputs": [
    {
     "name": "stdout",
     "output_type": "stream",
     "text": [
      "is the domain sparse? False\n",
      "is the domain dynamic? False\n"
     ]
    }
   ],
   "execution_count": 53
  },
  {
   "cell_type": "markdown",
   "metadata": {},
   "source": [
    "### Accessing Axes\n",
    "Individual axes (such as latitude, longitude, time) can be accessed through the properties of the domain object."
   ],
   "id": "427e287b74b3ddf1"
  },
  {
   "cell_type": "code",
   "metadata": {
    "ExecuteTime": {
     "end_time": "2025-05-25T12:33:46.045424Z",
     "start_time": "2025-05-25T12:33:46.041175Z"
    }
   },
   "source": [
    "print(f\"All axes types available in the domain: {domain.all_axes_types}\")\n",
    "\n",
    "lat_axis = domain.latitude\n",
    "lon_axis = domain.longitude\n",
    "time_axis = domain.time\n",
    "\n",
    "print(f\"\\nCoordinate name: {lat_axis.name}\")\n",
    "print(f\"Values: {lat_axis.values}\")\n",
    "\n",
    "print(f\"\\nCoordinate name: {lon_axis.name}\")\n",
    "print(f\"Values: {lon_axis.values}\")\n",
    "\n",
    "print(f\"\\nCoordinate name: {time_axis.name}\")\n",
    "print(f\"Values: {time_axis.values}\")"
   ],
   "id": "21873a997a87f1a",
   "outputs": [
    {
     "name": "stdout",
     "output_type": "stream",
     "text": [
      "All axes types available in the domain: [<AxisType.TIME: 'time'>, <AxisType.LATITUDE: 'latitude'>, <AxisType.LONGITUDE: 'longitude'>]\n",
      "\n",
      "Coordinate name: latitude\n",
      "Values: [-90. -45.   0.  45.  90.]\n",
      "\n",
      "Coordinate name: longitude\n",
      "Values: [-180.  -90.    0.   90.  180.]\n",
      "\n",
      "Coordinate name: time\n",
      "Values: ['2000-01-01T00:00:00.000000000']\n"
     ]
    }
   ],
   "execution_count": 54
  },
  {
   "cell_type": "markdown",
   "metadata": {},
   "source": "### Axis Size and Axis Presence Check",
   "id": "bf841d6432a362fe"
  },
  {
   "cell_type": "code",
   "metadata": {
    "ExecuteTime": {
     "end_time": "2025-05-25T12:33:46.096158Z",
     "start_time": "2025-05-25T12:33:46.092954Z"
    }
   },
   "source": [
    "from climatrix.dataset.axis import AxisType\n",
    "\n",
    "print(f\"Latitude axis size: {domain.get_size(AxisType.LATITUDE)}\")\n",
    "print(f\"Longitude axis size: {domain.get_size('longitude')}\")\n",
    "print(f\"Time axis size: {domain.get_size(AxisType.TIME)}\")\n",
    "\n",
    "print(f\"\\nDoes the domain have a time axis? {domain.has_axis(AxisType.POINT)}\")\n",
    "print(f\"Does the domain have a vertical axis? {domain.has_axis(AxisType.VERTICAL)}\")"
   ],
   "id": "ca897d52a91dc4c6",
   "outputs": [
    {
     "name": "stdout",
     "output_type": "stream",
     "text": [
      "Latitude axis size: 5\n",
      "Longitude axis size: 5\n",
      "Time axis size: 1\n",
      "\n",
      "Does the domain have a time axis? False\n",
      "Does the domain have a vertical axis? False\n"
     ]
    }
   ],
   "execution_count": 55
  },
  {
   "cell_type": "markdown",
   "metadata": {},
   "source": "### Domain shape and size",
   "id": "1e81366b03154c66"
  },
  {
   "cell_type": "code",
   "metadata": {
    "ExecuteTime": {
     "end_time": "2025-05-25T12:33:46.145669Z",
     "start_time": "2025-05-25T12:33:46.142835Z"
    }
   },
   "source": [
    "print(f\"Domain shape (dimensions): {domain.shape}\")\n",
    "print(f\"Total domain size (number of data points): {domain.size}\")"
   ],
   "id": "b6badf43b4050dc3",
   "outputs": [
    {
     "name": "stdout",
     "output_type": "stream",
     "text": [
      "Domain shape (dimensions): (5, 5)\n",
      "Total domain size (number of data points): 25\n"
     ]
    }
   ],
   "execution_count": 56
  },
  {
   "cell_type": "markdown",
   "metadata": {},
   "source": [
    "### Arithmetic Operations\n",
    "BaseClimatrixDataset supports basic arithmetic operations."
   ],
   "id": "94984a77c7e40871"
  },
  {
   "cell_type": "code",
   "metadata": {
    "ExecuteTime": {
     "end_time": "2025-05-25T12:33:46.207238Z",
     "start_time": "2025-05-25T12:33:46.192831Z"
    }
   },
   "source": [
    "print(f\"Orginal dataset:\\n{cm_dense.da}\")\n",
    "\n",
    "cm_plus_10 = cm_dense + 10\n",
    "print(f\"\\nDataset after adding 10:\\n{cm_plus_10.da}\")\n",
    "\n",
    "cm_multiplied = cm_dense * 2 #\n",
    "print(f\"\\nDataset after multiplying by 2:\\n{cm_multiplied.da}\")"
   ],
   "id": "8039cc87aee2dd34",
   "outputs": [
    {
     "name": "stdout",
     "output_type": "stream",
     "text": [
      "Orginal dataset:\n",
      "<xarray.DataArray 'temperature' (latitude: 5, longitude: 5)> Size: 200B\n",
      "array([[0.73858323, 0.6263338 , 0.16790515, 0.02675058, 0.31968012],\n",
      "       [0.82799214, 0.2827106 , 0.97982982, 0.91588845, 0.86449415],\n",
      "       [0.36546245, 0.92056203, 0.27499391, 0.97504155, 0.46360415],\n",
      "       [0.42710273, 0.17509717, 0.01181027, 0.25986363, 0.63533498],\n",
      "       [0.17049364, 0.94538297, 0.56248504, 0.96208993, 0.75380703]])\n",
      "Coordinates:\n",
      "    time       datetime64[us] 8B 2000-01-01\n",
      "  * latitude   (latitude) int64 40B -90 -45 0 45 90\n",
      "  * longitude  (longitude) int64 40B -180 -90 0 90 180\n",
      "\n",
      "Dataset after adding 10:\n",
      "<xarray.DataArray 'temperature' (latitude: 5, longitude: 5)> Size: 200B\n",
      "array([[10.73858323, 10.6263338 , 10.16790515, 10.02675058, 10.31968012],\n",
      "       [10.82799214, 10.2827106 , 10.97982982, 10.91588845, 10.86449415],\n",
      "       [10.36546245, 10.92056203, 10.27499391, 10.97504155, 10.46360415],\n",
      "       [10.42710273, 10.17509717, 10.01181027, 10.25986363, 10.63533498],\n",
      "       [10.17049364, 10.94538297, 10.56248504, 10.96208993, 10.75380703]])\n",
      "Coordinates:\n",
      "  * latitude   (latitude) float32 20B -90.0 -45.0 0.0 45.0 90.0\n",
      "  * longitude  (longitude) float32 20B -180.0 -90.0 0.0 90.0 180.0\n",
      "    time       datetime64[ns] 8B 2000-01-01\n",
      "\n",
      "Dataset after multiplying by 2:\n",
      "<xarray.DataArray 'temperature' (latitude: 5, longitude: 5)> Size: 200B\n",
      "array([[1.47716646, 1.2526676 , 0.3358103 , 0.05350116, 0.63936025],\n",
      "       [1.65598428, 0.5654212 , 1.95965964, 1.8317769 , 1.72898829],\n",
      "       [0.7309249 , 1.84112406, 0.54998782, 1.9500831 , 0.92720829],\n",
      "       [0.85420546, 0.35019434, 0.02362054, 0.51972727, 1.27066995],\n",
      "       [0.34098728, 1.89076594, 1.12497008, 1.92417985, 1.50761406]])\n",
      "Coordinates:\n",
      "  * latitude   (latitude) float32 20B -90.0 -45.0 0.0 45.0 90.0\n",
      "  * longitude  (longitude) float32 20B -180.0 -90.0 0.0 90.0 180.0\n",
      "    time       datetime64[ns] 8B 2000-01-01\n"
     ]
    }
   ],
   "execution_count": 57
  },
  {
   "cell_type": "markdown",
   "metadata": {},
   "source": "## Creating a Domain Using `Domain.from_lat_lon`",
   "id": "5731b27b849205dc"
  },
  {
   "cell_type": "code",
   "metadata": {
    "ExecuteTime": {
     "end_time": "2025-05-25T12:33:46.264431Z",
     "start_time": "2025-05-25T12:33:46.256087Z"
    }
   },
   "source": [
    "from climatrix.dataset.domain import Domain\n",
    "from climatrix.dataset.axis import AxisType\n",
    "\n",
    "dense_domain_from_func = Domain.from_lat_lon(\n",
    "    lat=slice(40, 50, 1),\n",
    "    lon=slice(-100, -90, 1),\n",
    "    kind='dense'\n",
    ")\n",
    "print(\"Dense domain created using `from_lat_lon`:\")\n",
    "print(f\"Type: {type(dense_domain_from_func)}\")\n",
    "print(f\"Latitudes: {dense_domain_from_func.latitude.values}\")\n",
    "print(f\"Longitudes: {dense_domain_from_func.longitude.values}\")\n",
    "print(f\"Is sparse? {dense_domain_from_func.is_sparse}\")\n",
    "\n",
    "sparse_lat = np.array([40.5, 42.1, 45.3])\n",
    "sparse_lon = np.array([-95.2, -93.0, -90.5])\n",
    "sparse_domain_from_func = Domain.from_lat_lon(\n",
    "    lat=sparse_lat,\n",
    "    lon=sparse_lon,\n",
    "    kind='sparse'\n",
    ")\n",
    "print(\"\\nSparse domain created using `from_lat_lon`:\")\n",
    "print(f\"Type: {type(sparse_domain_from_func)}\")\n",
    "print(f\"Latitudes: {sparse_domain_from_func.latitude.values}\")\n",
    "print(f\"Longitudes: {sparse_domain_from_func.longitude.values}\")\n",
    "print(f\"Is sparse? {sparse_domain_from_func.is_sparse}\")\n",
    "print(f\"Size of 'point' axis: {sparse_domain_from_func.get_size(AxisType.POINT)}\")\n"
   ],
   "id": "68cfb5d27dc66c6c",
   "outputs": [
    {
     "name": "stdout",
     "output_type": "stream",
     "text": [
      "Dense domain created using `from_lat_lon`:\n",
      "Type: <class 'climatrix.dataset.domain.DenseDomain'>\n",
      "Latitudes: [40. 41. 42. 43. 44. 45. 46. 47. 48. 49. 50.]\n",
      "Longitudes: [-100.  -99.  -98.  -97.  -96.  -95.  -94.  -93.  -92.  -91.  -90.]\n",
      "Is sparse? False\n",
      "\n",
      "Sparse domain created using `from_lat_lon`:\n",
      "Type: <class 'climatrix.dataset.domain.SparseDomain'>\n",
      "Latitudes: [40.5 42.1 45.3]\n",
      "Longitudes: [-95.2 -93.  -90.5]\n",
      "Is sparse? True\n",
      "Size of 'point' axis: 3\n"
     ]
    }
   ],
   "execution_count": 58
  }
 ],
 "metadata": {
  "kernelspec": {
   "display_name": "Python 3",
   "language": "python",
   "name": "python3"
  },
  "language_info": {
   "codemirror_mode": {
    "name": "ipython",
    "version": 3
   },
   "file_extension": ".py",
   "mimetype": "text/x-python",
   "name": "python",
   "nbconvert_exporter": "python",
   "pygments_lexer": "ipython3",
   "version": "3.10.0"
  }
 },
 "nbformat": 4,
 "nbformat_minor": 5
}
