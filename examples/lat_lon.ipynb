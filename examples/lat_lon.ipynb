{
 "cells": [
  {
   "cell_type": "markdown",
   "metadata": {},
   "source": [
    "# Longitude Conventions and Data Subsetting\n",
    "This notebook demonstrates how to handle longitude conventions (0–360 and -180–180 degrees) and how to subset spatial and temporal data using climatrix."
   ],
   "id": "8de898c83697b7b3"
  },
  {
   "cell_type": "code",
   "metadata": {
    "ExecuteTime": {
     "end_time": "2025-05-25T15:10:13.700080Z",
     "start_time": "2025-05-25T15:10:11.821565Z"
    }
   },
   "source": [
    "import climatrix as cm\n",
    "import xarray as xr\n",
    "import numpy as np\n",
    "import pandas as pd\n",
    "from climatrix.dataset.axis import AxisType\n",
    "from datetime import datetime"
   ],
   "id": "5c66e58cff5b9943",
   "outputs": [],
   "execution_count": 2
  },
  {
   "cell_type": "markdown",
   "metadata": {},
   "source": "## Creation of simple Dataset",
   "id": "a9a29b5f6041f7fd"
  },
  {
   "metadata": {
    "ExecuteTime": {
     "end_time": "2025-05-25T15:10:13.868833Z",
     "start_time": "2025-05-25T15:10:13.708886Z"
    }
   },
   "cell_type": "code",
   "source": [
    "xarray_da = xr.DataArray(\n",
    "    data=np.random.rand(1, 5, 5),\n",
    "    dims=(\"time\", \"latitude\", \"longitude\"),\n",
    "    coords={\n",
    "        \"time\": np.array(\n",
    "            [\n",
    "                datetime(2000, 1, 1),\n",
    "            ],\n",
    "            dtype=\"datetime64\",\n",
    "        ),\n",
    "        \"latitude\": (\n",
    "            (\"latitude\",),\n",
    "            np.array([-90, -45, 0, 45, 90]),\n",
    "        ),\n",
    "        \"longitude\": (\n",
    "            (\"longitude\",),\n",
    "            np.array([-180, -90, 0, 90, 180]),\n",
    "        ),\n",
    "    },\n",
    ")\n",
    "cm_dset = xarray_da.to_dataset(name=\"temperature\").cm\n",
    "print(\"\\n-180-180 convention dataset:\")\n",
    "print(cm_dset.da.longitude.values)"
   ],
   "id": "61ca5ddec11df144",
   "outputs": [
    {
     "name": "stdout",
     "output_type": "stream",
     "text": [
      "\n",
      "-180-180 convention dataset:\n",
      "[-180  -90    0   90  180]\n"
     ]
    }
   ],
   "execution_count": 3
  },
  {
   "cell_type": "markdown",
   "metadata": {},
   "source": "## Conversion of Longitude Conventions",
   "id": "d040878f773d1a9"
  },
  {
   "cell_type": "code",
   "metadata": {
    "ExecuteTime": {
     "end_time": "2025-05-25T15:10:13.894924Z",
     "start_time": "2025-05-25T15:10:13.887234Z"
    }
   },
   "source": [
    "cm_positive_conv = cm_dset.to_positive_longitude()\n",
    "print(\"\\nConverted to positive longitude convention:\")\n",
    "print(cm_positive_conv.da.longitude.values)\n",
    "\n",
    "\n",
    "cm_signed_conv = cm_positive_conv.to_signed_longitude()\n",
    "print(\"Converted to signed longitude convention::\")\n",
    "print(cm_signed_conv.da.longitude.values)"
   ],
   "id": "e846e18c53049845",
   "outputs": [
    {
     "name": "stdout",
     "output_type": "stream",
     "text": [
      "\n",
      "Converted to positive longitude convention:\n",
      "[ 90 180 180 270   0]\n",
      "Converted to signed longitude convention::\n",
      "[-180  -90    0   90 -180]\n"
     ]
    }
   ],
   "execution_count": 4
  },
  {
   "cell_type": "markdown",
   "metadata": {},
   "source": "## Spatial Subsetting (`subset`)",
   "id": "ffb351541948ae4"
  },
  {
   "metadata": {
    "ExecuteTime": {
     "end_time": "2025-05-25T15:10:13.962514Z",
     "start_time": "2025-05-25T15:10:13.955084Z"
    }
   },
   "cell_type": "code",
   "source": [
    "cm_data_for_subset = cm_dset\n",
    "subset_result = cm_data_for_subset.subset(\n",
    "    north=60, south=10, west=-100, east=-50\n",
    ")\n",
    "\n",
    "print(subset_result.da)"
   ],
   "id": "a58a80ea713bf89d",
   "outputs": [
    {
     "name": "stdout",
     "output_type": "stream",
     "text": [
      "<xarray.DataArray 'temperature' ()> Size: 8B\n",
      "array(0.90811081)\n",
      "Coordinates:\n",
      "    latitude   int64 8B 45\n",
      "    longitude  int64 8B -90\n"
     ]
    }
   ],
   "execution_count": 5
  },
  {
   "cell_type": "markdown",
   "metadata": {},
   "source": "## Temporal Subsetting (`time` and `itime`)",
   "id": "d4335e622ee4946a"
  },
  {
   "cell_type": "code",
   "metadata": {
    "ExecuteTime": {
     "end_time": "2025-05-25T15:15:32.694243Z",
     "start_time": "2025-05-25T15:15:32.608810Z"
    }
   },
   "source": [
    "cm_temporal = cm_dset\n",
    "\n",
    "# TODO it will work only for dynamic datasets move it to dynamic examples\n",
    "selected_time_dt = cm_temporal.time(datetime(2000, 1, 1))\n",
    "print(selected_time_dt.da.time.values)\n",
    "\n",
    "selected_time_slice = cm_temporal.time(slice(\"2000-01-01\", \"2000-01-03\"))\n",
    "print(selected_time_slice.da.time.values)\n",
    "\n",
    "selected_time_list = cm_temporal.time([pd.Timestamp(\"2000-01-01\"), pd.Timestamp(\"2000-01-04\")])\n",
    "print(selected_time_list.da.time.values)\n",
    "\n",
    "selected_itime_single = cm_temporal.itime(0)\n",
    "print(selected_itime_single.da.time.values)\n",
    "\n",
    "selected_itime_slice = cm_temporal.itime(slice(1, 3))\n",
    "print(selected_itime_slice.da.time.values)"
   ],
   "id": "382dea04923959f8",
   "outputs": [
    {
     "ename": "KeyError",
     "evalue": "\"no index found for coordinate 'time'\"",
     "output_type": "error",
     "traceback": [
      "\u001B[31m---------------------------------------------------------------------------\u001B[39m",
      "\u001B[31mKeyError\u001B[39m                                  Traceback (most recent call last)",
      "\u001B[36mCell\u001B[39m\u001B[36m \u001B[39m\u001B[32mIn[11]\u001B[39m\u001B[32m, line 13\u001B[39m\n\u001B[32m      1\u001B[39m cm_temporal = cm_dset\n\u001B[32m      4\u001B[39m \u001B[38;5;66;03m# TODO it will work only for dynamic datasets\u001B[39;00m\n\u001B[32m      5\u001B[39m \u001B[38;5;66;03m# selected_time_dt = cm_temporal.time(datetime(2000, 1, 1))\u001B[39;00m\n\u001B[32m      6\u001B[39m \u001B[38;5;66;03m# print(selected_time_dt.da.time.values)\u001B[39;00m\n\u001B[32m   (...)\u001B[39m\u001B[32m      9\u001B[39m \u001B[38;5;66;03m# selected_time_slice = cm_temporal.time(slice(\"2000-01-01\", \"2000-01-03\")) #\u001B[39;00m\n\u001B[32m     10\u001B[39m \u001B[38;5;66;03m# print(selected_time_slice.da.time.values)\u001B[39;00m\n\u001B[32m---> \u001B[39m\u001B[32m13\u001B[39m selected_time_list = \u001B[43mcm_temporal\u001B[49m\u001B[43m.\u001B[49m\u001B[43mtime\u001B[49m\u001B[43m(\u001B[49m\u001B[43m[\u001B[49m\u001B[43mpd\u001B[49m\u001B[43m.\u001B[49m\u001B[43mTimestamp\u001B[49m\u001B[43m(\u001B[49m\u001B[33;43m\"\u001B[39;49m\u001B[33;43m2000-01-01\u001B[39;49m\u001B[33;43m\"\u001B[39;49m\u001B[43m)\u001B[49m\u001B[43m,\u001B[49m\u001B[43m \u001B[49m\u001B[43mpd\u001B[49m\u001B[43m.\u001B[49m\u001B[43mTimestamp\u001B[49m\u001B[43m(\u001B[49m\u001B[33;43m\"\u001B[39;49m\u001B[33;43m2000-01-04\u001B[39;49m\u001B[33;43m\"\u001B[39;49m\u001B[43m)\u001B[49m\u001B[43m]\u001B[49m\u001B[43m)\u001B[49m \u001B[38;5;66;03m#\u001B[39;00m\n\u001B[32m     14\u001B[39m \u001B[38;5;28mprint\u001B[39m(selected_time_list.da.time.values)\n",
      "\u001B[36mFile \u001B[39m\u001B[32m~/studia/projekty/climatrix/src/climatrix/dataset/base.py:565\u001B[39m, in \u001B[36mBaseClimatrixDataset.time\u001B[39m\u001B[34m(self, time)\u001B[39m\n\u001B[32m    528\u001B[39m \u001B[38;5;28;01mdef\u001B[39;00m\u001B[38;5;250m \u001B[39m\u001B[34mtime\u001B[39m(\n\u001B[32m    529\u001B[39m     \u001B[38;5;28mself\u001B[39m, time: datetime | np.datetime64 | \u001B[38;5;28mslice\u001B[39m | \u001B[38;5;28mlist\u001B[39m | np.ndarray\n\u001B[32m    530\u001B[39m ) -> Self:\n\u001B[32m    531\u001B[39m \u001B[38;5;250m    \u001B[39m\u001B[33;03m\"\"\"\u001B[39;00m\n\u001B[32m    532\u001B[39m \u001B[33;03m    Select data at a specific time or times.\u001B[39;00m\n\u001B[32m    533\u001B[39m \n\u001B[32m   (...)\u001B[39m\u001B[32m    562\u001B[39m \u001B[33;03m    >>> dset.cm.time(slice(datetime(2020, 1, 1), datetime(2020, 1, 2)))\u001B[39;00m\n\u001B[32m    563\u001B[39m \u001B[33;03m    \"\"\"\u001B[39;00m\n\u001B[32m    564\u001B[39m     \u001B[38;5;28;01mreturn\u001B[39;00m \u001B[38;5;28mtype\u001B[39m(\u001B[38;5;28mself\u001B[39m)(\n\u001B[32m--> \u001B[39m\u001B[32m565\u001B[39m         \u001B[38;5;28;43mself\u001B[39;49m\u001B[43m.\u001B[49m\u001B[43mda\u001B[49m\u001B[43m.\u001B[49m\u001B[43msel\u001B[49m\u001B[43m(\u001B[49m\u001B[43m{\u001B[49m\u001B[38;5;28;43mself\u001B[39;49m\u001B[43m.\u001B[49m\u001B[43mdomain\u001B[49m\u001B[43m.\u001B[49m\u001B[43mtime\u001B[49m\u001B[43m.\u001B[49m\u001B[43mname\u001B[49m\u001B[43m:\u001B[49m\u001B[43m \u001B[49m\u001B[43mtime\u001B[49m\u001B[43m}\u001B[49m\u001B[43m,\u001B[49m\u001B[43m \u001B[49m\u001B[43mmethod\u001B[49m\u001B[43m=\u001B[49m\u001B[33;43m\"\u001B[39;49m\u001B[33;43mnearest\u001B[39;49m\u001B[33;43m\"\u001B[39;49m\u001B[43m)\u001B[49m\n\u001B[32m    566\u001B[39m     )\n",
      "\u001B[36mFile \u001B[39m\u001B[32m~/studia/projekty/climatrix/.venv/lib/python3.12/site-packages/xarray/core/dataarray.py:1690\u001B[39m, in \u001B[36mDataArray.sel\u001B[39m\u001B[34m(self, indexers, method, tolerance, drop, **indexers_kwargs)\u001B[39m\n\u001B[32m   1574\u001B[39m \u001B[38;5;28;01mdef\u001B[39;00m\u001B[38;5;250m \u001B[39m\u001B[34msel\u001B[39m(\n\u001B[32m   1575\u001B[39m     \u001B[38;5;28mself\u001B[39m,\n\u001B[32m   1576\u001B[39m     indexers: Mapping[Any, Any] | \u001B[38;5;28;01mNone\u001B[39;00m = \u001B[38;5;28;01mNone\u001B[39;00m,\n\u001B[32m   (...)\u001B[39m\u001B[32m   1580\u001B[39m     **indexers_kwargs: Any,\n\u001B[32m   1581\u001B[39m ) -> Self:\n\u001B[32m   1582\u001B[39m \u001B[38;5;250m    \u001B[39m\u001B[33;03m\"\"\"Return a new DataArray whose data is given by selecting index\u001B[39;00m\n\u001B[32m   1583\u001B[39m \u001B[33;03m    labels along the specified dimension(s).\u001B[39;00m\n\u001B[32m   1584\u001B[39m \n\u001B[32m   (...)\u001B[39m\u001B[32m   1688\u001B[39m \u001B[33;03m    Dimensions without coordinates: points\u001B[39;00m\n\u001B[32m   1689\u001B[39m \u001B[33;03m    \"\"\"\u001B[39;00m\n\u001B[32m-> \u001B[39m\u001B[32m1690\u001B[39m     ds = \u001B[38;5;28;43mself\u001B[39;49m\u001B[43m.\u001B[49m\u001B[43m_to_temp_dataset\u001B[49m\u001B[43m(\u001B[49m\u001B[43m)\u001B[49m\u001B[43m.\u001B[49m\u001B[43msel\u001B[49m\u001B[43m(\u001B[49m\n\u001B[32m   1691\u001B[39m \u001B[43m        \u001B[49m\u001B[43mindexers\u001B[49m\u001B[43m=\u001B[49m\u001B[43mindexers\u001B[49m\u001B[43m,\u001B[49m\n\u001B[32m   1692\u001B[39m \u001B[43m        \u001B[49m\u001B[43mdrop\u001B[49m\u001B[43m=\u001B[49m\u001B[43mdrop\u001B[49m\u001B[43m,\u001B[49m\n\u001B[32m   1693\u001B[39m \u001B[43m        \u001B[49m\u001B[43mmethod\u001B[49m\u001B[43m=\u001B[49m\u001B[43mmethod\u001B[49m\u001B[43m,\u001B[49m\n\u001B[32m   1694\u001B[39m \u001B[43m        \u001B[49m\u001B[43mtolerance\u001B[49m\u001B[43m=\u001B[49m\u001B[43mtolerance\u001B[49m\u001B[43m,\u001B[49m\n\u001B[32m   1695\u001B[39m \u001B[43m        \u001B[49m\u001B[43m*\u001B[49m\u001B[43m*\u001B[49m\u001B[43mindexers_kwargs\u001B[49m\u001B[43m,\u001B[49m\n\u001B[32m   1696\u001B[39m \u001B[43m    \u001B[49m\u001B[43m)\u001B[49m\n\u001B[32m   1697\u001B[39m     \u001B[38;5;28;01mreturn\u001B[39;00m \u001B[38;5;28mself\u001B[39m._from_temp_dataset(ds)\n",
      "\u001B[36mFile \u001B[39m\u001B[32m~/studia/projekty/climatrix/.venv/lib/python3.12/site-packages/xarray/core/dataset.py:2890\u001B[39m, in \u001B[36mDataset.sel\u001B[39m\u001B[34m(self, indexers, method, tolerance, drop, **indexers_kwargs)\u001B[39m\n\u001B[32m   2822\u001B[39m \u001B[38;5;250m\u001B[39m\u001B[33;03m\"\"\"Returns a new dataset with each array indexed by tick labels\u001B[39;00m\n\u001B[32m   2823\u001B[39m \u001B[33;03malong the specified dimension(s).\u001B[39;00m\n\u001B[32m   2824\u001B[39m \n\u001B[32m   (...)\u001B[39m\u001B[32m   2887\u001B[39m \n\u001B[32m   2888\u001B[39m \u001B[33;03m\"\"\"\u001B[39;00m\n\u001B[32m   2889\u001B[39m indexers = either_dict_or_kwargs(indexers, indexers_kwargs, \u001B[33m\"\u001B[39m\u001B[33msel\u001B[39m\u001B[33m\"\u001B[39m)\n\u001B[32m-> \u001B[39m\u001B[32m2890\u001B[39m query_results = \u001B[43mmap_index_queries\u001B[49m\u001B[43m(\u001B[49m\n\u001B[32m   2891\u001B[39m \u001B[43m    \u001B[49m\u001B[38;5;28;43mself\u001B[39;49m\u001B[43m,\u001B[49m\u001B[43m \u001B[49m\u001B[43mindexers\u001B[49m\u001B[43m=\u001B[49m\u001B[43mindexers\u001B[49m\u001B[43m,\u001B[49m\u001B[43m \u001B[49m\u001B[43mmethod\u001B[49m\u001B[43m=\u001B[49m\u001B[43mmethod\u001B[49m\u001B[43m,\u001B[49m\u001B[43m \u001B[49m\u001B[43mtolerance\u001B[49m\u001B[43m=\u001B[49m\u001B[43mtolerance\u001B[49m\n\u001B[32m   2892\u001B[39m \u001B[43m\u001B[49m\u001B[43m)\u001B[49m\n\u001B[32m   2894\u001B[39m \u001B[38;5;28;01mif\u001B[39;00m drop:\n\u001B[32m   2895\u001B[39m     no_scalar_variables = {}\n",
      "\u001B[36mFile \u001B[39m\u001B[32m~/studia/projekty/climatrix/.venv/lib/python3.12/site-packages/xarray/core/indexing.py:188\u001B[39m, in \u001B[36mmap_index_queries\u001B[39m\u001B[34m(obj, indexers, method, tolerance, **indexers_kwargs)\u001B[39m\n\u001B[32m    185\u001B[39m     options = {\u001B[33m\"\u001B[39m\u001B[33mmethod\u001B[39m\u001B[33m\"\u001B[39m: method, \u001B[33m\"\u001B[39m\u001B[33mtolerance\u001B[39m\u001B[33m\"\u001B[39m: tolerance}\n\u001B[32m    187\u001B[39m indexers = either_dict_or_kwargs(indexers, indexers_kwargs, \u001B[33m\"\u001B[39m\u001B[33mmap_index_queries\u001B[39m\u001B[33m\"\u001B[39m)\n\u001B[32m--> \u001B[39m\u001B[32m188\u001B[39m grouped_indexers = \u001B[43mgroup_indexers_by_index\u001B[49m\u001B[43m(\u001B[49m\u001B[43mobj\u001B[49m\u001B[43m,\u001B[49m\u001B[43m \u001B[49m\u001B[43mindexers\u001B[49m\u001B[43m,\u001B[49m\u001B[43m \u001B[49m\u001B[43moptions\u001B[49m\u001B[43m)\u001B[49m\n\u001B[32m    190\u001B[39m results = []\n\u001B[32m    191\u001B[39m \u001B[38;5;28;01mfor\u001B[39;00m index, labels \u001B[38;5;129;01min\u001B[39;00m grouped_indexers:\n",
      "\u001B[36mFile \u001B[39m\u001B[32m~/studia/projekty/climatrix/.venv/lib/python3.12/site-packages/xarray/core/indexing.py:147\u001B[39m, in \u001B[36mgroup_indexers_by_index\u001B[39m\u001B[34m(obj, indexers, options)\u001B[39m\n\u001B[32m    145\u001B[39m     grouped_indexers[index_id][key] = label\n\u001B[32m    146\u001B[39m \u001B[38;5;28;01melif\u001B[39;00m key \u001B[38;5;129;01min\u001B[39;00m obj.coords:\n\u001B[32m--> \u001B[39m\u001B[32m147\u001B[39m     \u001B[38;5;28;01mraise\u001B[39;00m \u001B[38;5;167;01mKeyError\u001B[39;00m(\u001B[33mf\u001B[39m\u001B[33m\"\u001B[39m\u001B[33mno index found for coordinate \u001B[39m\u001B[38;5;132;01m{\u001B[39;00mkey\u001B[38;5;132;01m!r}\u001B[39;00m\u001B[33m\"\u001B[39m)\n\u001B[32m    148\u001B[39m \u001B[38;5;28;01melif\u001B[39;00m key \u001B[38;5;129;01mnot\u001B[39;00m \u001B[38;5;129;01min\u001B[39;00m obj.dims:\n\u001B[32m    149\u001B[39m     \u001B[38;5;28;01mraise\u001B[39;00m \u001B[38;5;167;01mKeyError\u001B[39;00m(\n\u001B[32m    150\u001B[39m         \u001B[33mf\u001B[39m\u001B[33m\"\u001B[39m\u001B[38;5;132;01m{\u001B[39;00mkey\u001B[38;5;132;01m!r}\u001B[39;00m\u001B[33m is not a valid dimension or coordinate for \u001B[39m\u001B[33m\"\u001B[39m\n\u001B[32m    151\u001B[39m         \u001B[33mf\u001B[39m\u001B[33m\"\u001B[39m\u001B[38;5;132;01m{\u001B[39;00mobj.\u001B[34m__class__\u001B[39m.\u001B[34m__name__\u001B[39m\u001B[38;5;132;01m}\u001B[39;00m\u001B[33m with dimensions \u001B[39m\u001B[38;5;132;01m{\u001B[39;00mobj.dims\u001B[38;5;132;01m!r}\u001B[39;00m\u001B[33m\"\u001B[39m\n\u001B[32m    152\u001B[39m     )\n",
      "\u001B[31mKeyError\u001B[39m: \"no index found for coordinate 'time'\""
     ]
    }
   ],
   "execution_count": 11
  },
  {
   "cell_type": "markdown",
   "metadata": {},
   "source": [
    "## Generic Selections `sel` and `isel`\n",
    "These methods allow the use of AxisType or axis names defined in climatrix for data selection."
   ],
   "id": "a38b69e3fc63d2af"
  },
  {
   "cell_type": "code",
   "metadata": {
    "ExecuteTime": {
     "end_time": "2025-05-25T15:22:32.475249Z",
     "start_time": "2025-05-25T15:22:32.468589Z"
    }
   },
   "source": [
    "sel_result = cm_dset.sel({\n",
    "    AxisType.LATITUDE: slice(-45, 45),\n",
    "    'longitude': 0,\n",
    "})\n",
    "print(f\"sel results:\\n{sel_result.da}\")\n",
    "\n",
    "\n",
    "isel_result = cm_temporal.isel({\n",
    "    'latitude': slice(0,2)\n",
    "})\n",
    "print(f\"\\nisel results:\\n{isel_result.da}\")"
   ],
   "id": "5a3398747ec6cd45",
   "outputs": [
    {
     "name": "stdout",
     "output_type": "stream",
     "text": [
      "sel results:\n",
      "<xarray.DataArray 'temperature' (latitude: 3)> Size: 24B\n",
      "array([0.78002562, 0.07385644, 0.60608568])\n",
      "Coordinates:\n",
      "  * latitude   (latitude) int64 24B -45 0 45\n",
      "    longitude  int64 8B 0\n",
      "\n",
      "isel results:\n",
      "<xarray.DataArray 'temperature' (latitude: 2, longitude: 5)> Size: 80B\n",
      "array([[0.46486655, 0.05835932, 0.58324094, 0.80371   , 0.15166639],\n",
      "       [0.91271243, 0.08020387, 0.78002562, 0.24922762, 0.71073751]])\n",
      "Coordinates:\n",
      "  * latitude   (latitude) int64 16B -90 -45\n",
      "  * longitude  (longitude) int64 40B -180 -90 0 90 180\n"
     ]
    }
   ],
   "execution_count": 25
  }
 ],
 "metadata": {
  "kernelspec": {
   "display_name": "Python 3",
   "language": "python",
   "name": "python3"
  },
  "language_info": {
   "codemirror_mode": {
    "name": "ipython",
    "version": 3
   },
   "file_extension": ".py",
   "mimetype": "text/x-python",
   "name": "python",
   "nbconvert_exporter": "python",
   "pygments_lexer": "ipython3",
   "version": "3.10.0"
  }
 },
 "nbformat": 4,
 "nbformat_minor": 5
}
