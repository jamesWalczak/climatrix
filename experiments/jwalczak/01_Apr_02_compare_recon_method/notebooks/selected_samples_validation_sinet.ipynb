{
 "cells": [
  {
   "cell_type": "markdown",
   "id": "7b247b8b",
   "metadata": {},
   "source": [
    "### Selected samples SiNET validation\n",
    "\n",
    "**Author:** Jakub Walczak, PhD\n",
    "\n",
    "This notebook contains validation of the proposed SiNET method against \n",
    "kriging and IDW for a set of validation samples.\n",
    "\n",
    "The notebook was used to upgrade the design of SiNET."
   ]
  },
  {
   "cell_type": "code",
   "execution_count": 1,
   "id": "0d8615ec",
   "metadata": {},
   "outputs": [],
   "source": [
    "import csv\n",
    "import shutil\n",
    "from functools import partial\n",
    "from pathlib import Path\n",
    "from typing import Any, Callable\n",
    "\n",
    "import xarray as xr\n",
    "from rich.console import Console\n",
    "\n",
    "import climatrix as cm\n",
    "\n",
    "%load_ext rich"
   ]
  },
  {
   "cell_type": "code",
   "execution_count": 2,
   "id": "9edcee63",
   "metadata": {},
   "outputs": [
    {
     "data": {
      "text/html": [
       "<pre style=\"white-space:pre;overflow-x:auto;line-height:normal;font-family:Menlo,'DejaVu Sans Mono',consolas,'Courier New',monospace\"><span style=\"color: #008000; text-decoration-color: #008000; font-weight: bold\">Using NaN policy: </span> resample\n",
       "</pre>\n"
      ],
      "text/plain": [
       "\u001b[1;32mUsing NaN policy: \u001b[0m resample\n"
      ]
     },
     "metadata": {},
     "output_type": "display_data"
    },
    {
     "data": {
      "text/html": [
       "<pre style=\"white-space:pre;overflow-x:auto;line-height:normal;font-family:Menlo,'DejaVu Sans Mono',consolas,'Courier New',monospace\"><span style=\"color: #008000; text-decoration-color: #008000; font-weight: bold\">Using seed: </span> <span style=\"color: #008080; text-decoration-color: #008080; font-weight: bold\">1</span>\n",
       "</pre>\n"
      ],
      "text/plain": [
       "\u001b[1;32mUsing seed: \u001b[0m \u001b[1;36m1\u001b[0m\n"
      ]
     },
     "metadata": {},
     "output_type": "display_data"
    },
    {
     "data": {
      "text/html": [
       "<pre style=\"white-space:pre;overflow-x:auto;line-height:normal;font-family:Menlo,'DejaVu Sans Mono',consolas,'Courier New',monospace\"><span style=\"color: #008000; text-decoration-color: #008000; font-weight: bold\">Using dataset path: </span> <span style=\"color: #800080; text-decoration-color: #800080\">/home/jakub/projects/climatrix/experiments/jwalczak/01_Apr_02_compare_recon_method/</span><span style=\"color: #ff00ff; text-decoration-color: #ff00ff\">data</span>\n",
       "</pre>\n"
      ],
      "text/plain": [
       "\u001b[1;32mUsing dataset path: \u001b[0m \u001b[35m/home/jakub/projects/climatrix/experiments/jwalczak/01_Apr_02_compare_recon_method/\u001b[0m\u001b[95mdata\u001b[0m\n"
      ]
     },
     "metadata": {},
     "output_type": "display_data"
    }
   ],
   "source": [
    "console = Console()\n",
    "\n",
    "NAN_POLICY = \"resample\"\n",
    "console.print(\"[bold green]Using NaN policy: [/bold green]\", NAN_POLICY)\n",
    "\n",
    "SEED = 1\n",
    "console.print(\"[bold green]Using seed: [/bold green]\", SEED)\n",
    "\n",
    "DSET_PATH = Path(__session__).parent.parent.joinpath(\"data\")\n",
    "console.print(\"[bold green]Using dataset path: [/bold green]\", DSET_PATH)\n",
    "\n",
    "EUROPE_BOUNDS = {\"north\": 71, \"south\": 36, \"west\": -24, \"east\": 35}\n",
    "EUROPE_DOMAIN = cm.Domain.from_lat_lon(\n",
    "    lat=slice(EUROPE_BOUNDS[\"south\"], EUROPE_BOUNDS[\"north\"], 0.1),\n",
    "    lon=slice(EUROPE_BOUNDS[\"west\"], EUROPE_BOUNDS[\"east\"], 0.1),\n",
    "    kind=\"dense\",\n",
    ")\n",
    "cm.seed_all(SEED)"
   ]
  },
  {
   "cell_type": "code",
   "execution_count": 3,
   "id": "38a16911",
   "metadata": {},
   "outputs": [],
   "source": [
    "def get_all_dataset_idx() -> list[str]:\n",
    "    return sorted(\n",
    "        list({path.stem.split(\"_\")[-1] for path in DSET_PATH.glob(\"*.nc\")})\n",
    "    )"
   ]
  },
  {
   "cell_type": "code",
   "execution_count": 4,
   "id": "fe293711",
   "metadata": {},
   "outputs": [],
   "source": [
    "def run_single_method(\n",
    "    d: str, i: int, method: str, reconstruct_dense: bool = True, **params\n",
    "):\n",
    "    cm.seed_all(SEED)\n",
    "    train_dset = xr.open_dataset(\n",
    "        DSET_PATH / f\"ecad_obs_europe_train_{d}.nc\"\n",
    "    ).cm\n",
    "    val_dset = xr.open_dataset(DSET_PATH / f\"ecad_obs_europe_val_{d}.nc\").cm\n",
    "    reconstructed_dset = train_dset.reconstruct(\n",
    "        val_dset.domain,\n",
    "        method=method,\n",
    "        checkpoint=\"./checkpoint\",\n",
    "        overwrite_checkpoint=True,\n",
    "        validation=val_dset,\n",
    "        **params,\n",
    "    )\n",
    "    if reconstruct_dense:\n",
    "        reconstructed_dense = train_dset.reconstruct(\n",
    "            EUROPE_DOMAIN, method=method, checkpoint=\"./checkpoint\", **params\n",
    "        )\n",
    "    return val_dset, reconstructed_dset, reconstructed_dense"
   ]
  },
  {
   "cell_type": "code",
   "execution_count": 5,
   "id": "70d43dfa-7613-49fa-b3e6-f1e38f9e23d1",
   "metadata": {},
   "outputs": [
    {
     "data": {
      "text/html": [
       "<pre style=\"white-space:pre;overflow-x:auto;line-height:normal;font-family:Menlo,'DejaVu Sans Mono',consolas,'Courier New',monospace\"><span style=\"color: #008000; text-decoration-color: #008000; font-weight: bold\">There is </span><span style=\"color: #808000; text-decoration-color: #808000; font-weight: bold\">100</span><span style=\"color: #008000; text-decoration-color: #008000; font-weight: bold\"> samples available </span>\n",
       "</pre>\n"
      ],
      "text/plain": [
       "\u001b[1;32mThere is \u001b[0m\u001b[1;33m100\u001b[0m\u001b[1;32m samples available \u001b[0m\n"
      ]
     },
     "metadata": {},
     "output_type": "display_data"
    }
   ],
   "source": [
    "dset_idx = get_all_dataset_idx()\n",
    "console.print(\n",
    "    f\"[bold green]There is [bold yellow]{len(dset_idx)}[/bold yellow] samples available [/bold green]\"\n",
    ")"
   ]
  },
  {
   "cell_type": "code",
   "execution_count": 6,
   "id": "9703e971-a500-4a61-805c-2d329dea92de",
   "metadata": {},
   "outputs": [],
   "source": [
    "IDX = 0"
   ]
  },
  {
   "cell_type": "code",
   "execution_count": 7,
   "id": "e9900186-1c3b-4f2d-9299-99fbcc04f1dd",
   "metadata": {
    "scrolled": true
   },
   "outputs": [
    {
     "name": "stdout",
     "output_type": "stream",
     "text": [
      "10-09-2025 15:23:04 INFO | climatrix.reconstruct.nn.base_nn | Using checkpoint path: /home/jakub/projects/climatrix/experiments/jwalczak/01_Apr_02_compare_recon_method/notebooks/checkpoint\n",
      "10-09-2025 15:23:04 INFO | climatrix.reconstruct.sinet.sinet | Initializing SiNET model...\n",
      "10-09-2025 15:23:04 INFO | climatrix.reconstruct.sinet.sinet | Configuring Adam optimizer with learning rate: 0.001000\n",
      "10-09-2025 15:23:09 INFO | climatrix.reconstruct.nn.base_nn | Training SiNET model...\n",
      "10-09-2025 15:23:10 INFO | climatrix.reconstruct.nn.base_nn | Validation dataset is available. Using it for validation.\n"
     ]
    },
    {
     "name": "stderr",
     "output_type": "stream",
     "text": [
      "/home/jakub/projects/climatrix/experiments/jwalczak/01_Apr_02_compare_recon_method/conf/exp1/lib/python3.12/site-packages/torch/autograd/graph.py:825: UserWarning: Attempting to run cuBLAS, but there was no current CUDA context! Attempting to set the primary context... (Triggered internally at ../aten/src/ATen/cuda/CublasHandlePool.cpp:135.)\n",
      "  return Variable._execution_engine.run_backward(  # Calls into the C++ engine to run the backward pass\n"
     ]
    },
    {
     "name": "stdout",
     "output_type": "stream",
     "text": [
      "10-09-2025 15:23:21 INFO | climatrix.reconstruct.nn.base_nn | Reconstructing target domain...\n",
      "10-09-2025 15:23:21 INFO | climatrix.reconstruct.nn.base_nn | Creating mini-batches for surface reconstruction...\n",
      "10-09-2025 15:23:21 INFO | climatrix.reconstruct.nn.base_nn | Processing mini-batch 1/1...\n",
      "10-09-2025 15:23:21 INFO | climatrix.reconstruct.nn.base_nn | Surface finding complete. Concatenating results.\n",
      "10-09-2025 15:23:21 INFO | climatrix.reconstruct.nn.base_nn | Using checkpoint path: /home/jakub/projects/climatrix/experiments/jwalczak/01_Apr_02_compare_recon_method/notebooks/checkpoint\n",
      "10-09-2025 15:23:21 INFO | climatrix.reconstruct.sinet.sinet | Initializing SiNET model...\n",
      "10-09-2025 15:23:21 INFO | climatrix.reconstruct.nn.base_nn | Reconstructing target domain...\n",
      "10-09-2025 15:23:21 INFO | climatrix.reconstruct.nn.base_nn | Creating mini-batches for surface reconstruction...\n"
     ]
    },
    {
     "name": "stderr",
     "output_type": "stream",
     "text": [
      "/home/jakub/projects/climatrix/src/climatrix/reconstruct/nn/base_nn.py:119: FutureWarning: You are using `torch.load` with `weights_only=False` (the current default value), which uses the default pickle module implicitly. It is possible to construct malicious pickle data which will execute arbitrary code during unpickling (See https://github.com/pytorch/pytorch/blob/main/SECURITY.md#untrusted-models for more details). In a future release, the default value for `weights_only` will be flipped to `True`. This limits the functions that could be executed during unpickling. Arbitrary objects will no longer be allowed to be loaded via this mode unless they are explicitly allowlisted by the user via `torch.serialization.add_safe_globals`. We recommend you start setting `weights_only=True` for any use case where you don't have full control of the loaded file. Please open an issue on GitHub for any issues related to this experimental feature.\n",
      "  torch.load(checkpoint, map_location=self.device)\n"
     ]
    },
    {
     "name": "stdout",
     "output_type": "stream",
     "text": [
      "10-09-2025 15:23:22 INFO | climatrix.reconstruct.nn.base_nn | Processing mini-batch 1/5...\n",
      "10-09-2025 15:23:22 INFO | climatrix.reconstruct.nn.base_nn | Processing mini-batch 2/5...\n",
      "10-09-2025 15:23:22 INFO | climatrix.reconstruct.nn.base_nn | Processing mini-batch 3/5...\n",
      "10-09-2025 15:23:23 INFO | climatrix.reconstruct.nn.base_nn | Processing mini-batch 4/5...\n",
      "10-09-2025 15:23:23 INFO | climatrix.reconstruct.nn.base_nn | Processing mini-batch 5/5...\n",
      "10-09-2025 15:23:23 INFO | climatrix.reconstruct.nn.base_nn | Surface finding complete. Concatenating results.\n"
     ]
    }
   ],
   "source": [
    "sinet_val_dset, sinet_reconstructed_dset, sinet_reconstructed_dense = (\n",
    "    run_single_method(\n",
    "        dset_idx[IDX],\n",
    "        IDX,\n",
    "        \"sinet\",\n",
    "        lr=1e-3,\n",
    "        weight_decay=0,\n",
    "        hidden_dim=32,\n",
    "        sorting_group_size=16,\n",
    "        layers=2,\n",
    "        num_epochs=20,\n",
    "        batch_size=20,\n",
    "        num_workers=0,\n",
    "        device=\"cuda\",\n",
    "        gradient_clipping_value=1e2,\n",
    "        mse_loss_weight=2.0,\n",
    "        eikonal_loss_weight=1e-4,\n",
    "        laplace_loss_weight=1e-4,\n",
    "        patience=None,\n",
    "    )\n",
    ")"
   ]
  },
  {
   "cell_type": "code",
   "execution_count": 8,
   "id": "826876b7-c842-4ee7-bc90-64346cce5d59",
   "metadata": {},
   "outputs": [
    {
     "data": {
      "text/html": [
       "<pre style=\"white-space:pre;overflow-x:auto;line-height:normal;font-family:Menlo,'DejaVu Sans Mono',consolas,'Courier New',monospace\"></pre>\n"
      ],
      "text/plain": []
     },
     "metadata": {},
     "output_type": "display_data"
    },
    {
     "data": {
      "text/plain": [
       "\n",
       "\u001b[1m{\u001b[0m\n",
       "    \u001b[32m'RMSE'\u001b[0m: \u001b[1;36m1.308415174484253\u001b[0m,\n",
       "    \u001b[32m'MAE'\u001b[0m: \u001b[1;36m0.8040948510169983\u001b[0m,\n",
       "    \u001b[32m'Max Abs Error'\u001b[0m: \u001b[1;36m5.594202041625977\u001b[0m,\n",
       "    \u001b[32m'R^2'\u001b[0m: \u001b[1;36m0.8809424042701721\u001b[0m\n",
       "\u001b[1m}\u001b[0m"
      ]
     },
     "execution_count": 8,
     "metadata": {},
     "output_type": "execute_result"
    }
   ],
   "source": [
    "cm.Comparison(sinet_val_dset, sinet_reconstructed_dset).compute_report()"
   ]
  },
  {
   "cell_type": "markdown",
   "id": "ba9e64ee-7601-41d6-bed0-a942fda810ec",
   "metadata": {},
   "source": [
    "### After optimising hyperpararmeters"
   ]
  },
  {
   "cell_type": "code",
   "execution_count": null,
   "id": "9776e675-5f71-4d76-aa18-74dbc60ec9f6",
   "metadata": {},
   "outputs": [],
   "source": [
    "BOUNDS = {\n",
    "    \"lr\": (1e-5, 1e-2),\n",
    "    \"num_epochs\": (400, 1000),\n",
    "    \"batch_size\": (2, 2044),\n",
    "    \"mse_loss_weight\": (1e-8, 1e3),\n",
    "    \"eikonal_loss_weight\": (0, 1e-2),\n",
    "    \"laplace_loss_weight\": (0, 1e-2),\n",
    "    \"patience\": (10, 200),\n",
    "    \"scale\": (0.01, 10.0),\n",
    "    \"hidden_dim\": [16, 64, 128, 256],\n",
    "    \"weight_decay\": (0.0, 1e-2)\n",
    "}\n",
    "console.print(\"[bold green]Hyperparameter bounds: [/bold green]\", BOUNDS)\n",
    "\n",
    "OPTIM_INIT_POINTS: int = 50\n",
    "console.print(\n",
    "    \"[bold green]Using nbr initial points for optimization: [/bold green]\",\n",
    "    OPTIM_INIT_POINTS,\n",
    ")\n",
    "\n",
    "OPTIM_N_ITERS: int = 100\n",
    "console.print(\n",
    "    \"[bold green]Using iterations for optimization[/bold green]\", OPTIM_N_ITERS\n",
    ")\n",
    "console.print(\n",
    "    \"[bold green]Dataset: [/bold green]\", dset_idx[IDX]\n",
    ")"
   ]
  },
  {
   "cell_type": "code",
   "execution_count": null,
   "id": "9aa250c9-8552-48bf-a6b0-921045731a84",
   "metadata": {},
   "outputs": [],
   "source": [
    "def find_hyperparameters(\n",
    "    train_dset: cm.BaseClimatrixDataset,\n",
    "    val_dset: cm.BaseClimatrixDataset,\n",
    "    bounds: dict[str, tuple],\n",
    "    n_init_points: int = 30,\n",
    "    n_iter: int = 200,\n",
    "    seed: int = 0,\n",
    "    verbose: int = 2,\n",
    ") -> tuple[float, dict[str, float]]:\n",
    "    finder = cm.optim.HParamFinder(\n",
    "        \"sinet\",\n",
    "        train_dset,\n",
    "        val_dset,\n",
    "        metric=\"mae\",\n",
    "        n_iters=OPTIM_N_ITERS,\n",
    "        bounds=BOUNDS,\n",
    "        random_seed=SEED,\n",
    "    )\n",
    "    result = finder.optimize()\n",
    "    return result\n",
    "\n",
    "\n",
    "def run_single_experiment(d: str):\n",
    "    train_dset = xr.open_dataset(\n",
    "        DSET_PATH / f\"ecad_obs_europe_train_{d}.nc\"\n",
    "    ).cm\n",
    "    val_dset = xr.open_dataset(DSET_PATH / f\"ecad_obs_europe_val_{d}.nc\").cm\n",
    "    result = find_hyperparameters(\n",
    "        train_dset,\n",
    "        val_dset,\n",
    "        BOUNDS,\n",
    "        n_init_points=OPTIM_INIT_POINTS,\n",
    "        n_iter=OPTIM_N_ITERS,\n",
    "        seed=SEED,\n",
    "        verbose=2,\n",
    "    )\n",
    "    console.print(\"[bold yellow]Optimized parameters:[/bold yellow]\")\n",
    "    console.print(\n",
    "        \"[yellow]Learning rate (lr):[/yellow]\", result[\"best_params\"][\"lr\"]\n",
    "    )\n",
    "    console.print(\n",
    "        \"[yellow]Number of epochs:[/yellow]\",\n",
    "        result[\"best_params\"][\"num_epochs\"],\n",
    "    )\n",
    "    console.print(\n",
    "        \"[yellow]Scale:[/yellow]\",\n",
    "        result[\"best_params\"][\"scale\"],\n",
    "    )\n",
    "    console.print(\n",
    "        \"[yellow]Batch size:[/yellow]\", result[\"best_params\"][\"batch_size\"]\n",
    "    )\n",
    "    console.print(\n",
    "        \"[yellow]MSE loss weight:[/yellow]\",\n",
    "        result[\"best_params\"][\"mse_loss_weight\"],\n",
    "    )\n",
    "    console.print(\n",
    "        \"[yellow]Eikonal loss weight:[/yellow]\",\n",
    "        result[\"best_params\"][\"eikonal_loss_weight\"],\n",
    "    )\n",
    "    console.print(\n",
    "        \"[yellow]Laplace loss weight:[/yellow]\",\n",
    "        result[\"best_params\"][\"laplace_loss_weight\"],\n",
    "    )\n",
    "    console.print(\n",
    "        \"[yellow]Early stopping patience:[/yellow]\",\n",
    "        result[\"best_params\"][\"patience\"],\n",
    "    )\n",
    "    console.print(\n",
    "        \"[yellow]Hidden dimension:[/yellow]\",\n",
    "        result[\"best_params\"][\"hidden_dim\"],\n",
    "    )\n",
    "    console.print(\n",
    "        \"[yellow]Weight decay:[/yellow]\",\n",
    "        result[\"best_params\"][\"weight_decay\"],\n",
    "    )    \n",
    "    console.print(\"[yellow]Best loss:[/yellow]\", result[\"best_score\"])\n",
    "    reconstructed_dset = train_dset.reconstruct(\n",
    "        val_dset.domain,\n",
    "        method=\"sinet\",\n",
    "        device=\"cuda\",\n",
    "        lr=result[\"best_params\"][\"lr\"],\n",
    "        weight_decay=result[\"best_params\"][\"weight_decay\"],\n",
    "        num_epochs=result[\"best_params\"][\"num_epochs\"],\n",
    "        batch_size=result[\"best_params\"][\"batch_size\"],\n",
    "        num_workers=0,\n",
    "        scale=result[\"best_params\"][\"scale\"],\n",
    "        mse_loss_weight=result[\"best_params\"][\"mse_loss_weight\"],\n",
    "        eikonal_loss_weight=result[\"best_params\"][\"eikonal_loss_weight\"],\n",
    "        laplace_loss_weight=result[\"best_params\"][\"laplace_loss_weight\"],\n",
    "        patience=result[\"best_params\"][\"patience\"],\n",
    "        hidden_dim=result[\"best_params\"][\"hidden_dim\"],\n",
    "        checkpoint=\"./sinet_checkpoint.pth\",\n",
    "        overwrite_checkpoint=True,\n",
    "    )\n",
    "    cmp = cm.Comparison(reconstructed_dset, val_dset)\n",
    "    metrics = cmp.compute_report()\n",
    "    metrics[\"dataset_id\"] = d\n",
    "    hyperparams = {\n",
    "        \"dataset_id\": d,\n",
    "        \"lr\": result[\"best_params\"][\"lr\"],\n",
    "        \"num_epochs\": result[\"best_params\"][\"num_epochs\"],\n",
    "        \"scale\": result[\"best_params\"][\"scale\"],\n",
    "        \"batch_size\": result[\"best_params\"][\"batch_size\"],\n",
    "        \"mse_loss_weight\": result[\"best_params\"][\"mse_loss_weight\"],\n",
    "        \"eikonal_loss_weight\": result[\"best_params\"][\"eikonal_loss_weight\"],\n",
    "        \"laplace_loss_weight\": result[\"best_params\"][\"laplace_loss_weight\"],\n",
    "        \"patience\": result[\"best_params\"][\"patience\"],\n",
    "        \"hidden_dim\": result[\"best_params\"][\"hidden_dim\"],\n",
    "        \"weight_decay\":result[\"best_params\"][\"weight_decay\"],\n",
    "        \"opt_loss\": result[\"best_score\"],\n",
    "    }\n",
    "    return (metrics, hyperparams)"
   ]
  },
  {
   "cell_type": "code",
   "execution_count": null,
   "id": "2c8efba9-c84b-4393-929c-1f4ff588c9d6",
   "metadata": {
    "scrolled": true
   },
   "outputs": [],
   "source": [
    "metrics, hyperparams = run_single_experiment(dset_idx[IDX])"
   ]
  },
  {
   "cell_type": "code",
   "execution_count": null,
   "id": "b59e1d46-9f26-49c0-a497-e49ee9650c1c",
   "metadata": {},
   "outputs": [],
   "source": [
    "sinet_val_dset, sinet_reconstructed_dset, sinet_reconstructed_dense = (\n",
    "    run_single_method(\n",
    "        dset_idx[IDX],\n",
    "        IDX,\n",
    "        \"sinet\",\n",
    "        lr=hyperparams[\"lr\"],\n",
    "        weight_decay=hyperparams[\"weight_decay\"],\n",
    "        num_epochs=hyperparams[\"num_epochs\"],\n",
    "        batch_size=hyperparams[\"batch_size\"],\n",
    "        num_workers=0,\n",
    "        device=\"cuda\",\n",
    "        mse_loss_weight=hyperparams[\"mse_loss_weight\"],\n",
    "        hidden_dim=hyperparams[\"hidden_dim\"],\n",
    "    )\n",
    ")"
   ]
  },
  {
   "cell_type": "code",
   "execution_count": null,
   "id": "eea9784f-46e9-4b0b-bbb8-5c8e860becb5",
   "metadata": {},
   "outputs": [],
   "source": [
    "sinet_reconstructed_dense.plot()"
   ]
  },
  {
   "cell_type": "code",
   "execution_count": null,
   "id": "a47df248-df07-4468-9657-d70e43ae9006",
   "metadata": {},
   "outputs": [],
   "source": [
    "train_dset = xr.open_dataset(\n",
    "    DSET_PATH / f\"ecad_obs_europe_train_{dset_idx[IDX]}.nc\"\n",
    ").cm.plot()"
   ]
  },
  {
   "cell_type": "code",
   "execution_count": null,
   "id": "783ab7c8-e2bf-41cd-8118-8de775c1c313",
   "metadata": {},
   "outputs": [],
   "source": [
    "sinet_reconstructed_dset.plot()"
   ]
  },
  {
   "cell_type": "code",
   "execution_count": null,
   "id": "5be5e66d-256b-4957-a729-3f0360121454",
   "metadata": {},
   "outputs": [],
   "source": [
    "cm.Comparison(sinet_val_dset, sinet_reconstructed_dset).compute_report()"
   ]
  },
  {
   "cell_type": "code",
   "execution_count": null,
   "id": "a0f287b6-c29b-4e7a-a6cd-f7f037eaf191",
   "metadata": {},
   "outputs": [],
   "source": []
  }
 ],
 "metadata": {
  "kernelspec": {
   "display_name": "Python 3 (ipykernel)",
   "language": "python",
   "name": "python3"
  },
  "language_info": {
   "codemirror_mode": {
    "name": "ipython",
    "version": 3
   },
   "file_extension": ".py",
   "mimetype": "text/x-python",
   "name": "python",
   "nbconvert_exporter": "python",
   "pygments_lexer": "ipython3",
   "version": "3.12.3"
  }
 },
 "nbformat": 4,
 "nbformat_minor": 5
}
