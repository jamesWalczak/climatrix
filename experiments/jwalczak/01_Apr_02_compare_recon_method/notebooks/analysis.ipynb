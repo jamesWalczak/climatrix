{
 "cells": [
  {
   "cell_type": "markdown",
   "id": "ec09dc2c-9cfe-4bbf-833c-3a045b50ec62",
   "metadata": {},
   "source": [
    "# Thorough Comparison of Reconstruction Methods\n",
    "\n",
    "**Author:** Jakub Walczak, PhD\n",
    "\n",
    "The analysis relies on the experiments' results collected for three investigated methods: OK, IDW, and SiNET.\n",
    "For each out of 100 samples the hyper-parameter optimisation was carried out. Having optimised hyperparameters, \n",
    "the evaluation of methods on test test was performed."
   ]
  },
  {
   "cell_type": "code",
   "execution_count": null,
   "id": "79b7d56b-65cb-4485-a8af-e4fc29e15c70",
   "metadata": {},
   "outputs": [],
   "source": [
    "from pathlib import Path\n",
    "\n",
    "import pandas as pd\n",
    "import numpy as np"
   ]
  },
  {
   "cell_type": "code",
   "execution_count": null,
   "id": "a73e7b47-36a0-44b2-aed0-fbee8e9e00da",
   "metadata": {},
   "outputs": [],
   "source": [
    "NOTEBOOK_DIR = Path(__session__).parent.parent"
   ]
  },
  {
   "cell_type": "code",
   "execution_count": null,
   "id": "f6dc18ce-d8e9-45bd-b27c-808a15b27d73",
   "metadata": {},
   "outputs": [],
   "source": [
    "RESULTS_DIR = NOTEBOOK_DIR / \"results\"\n",
    "OK_RESULTS = RESULTS_DIR / \"ok\"\n",
    "SINET_RESULTS = RESULTS_DIR / \"inr\" / \"sinet\"\n",
    "MMGN_RESULTS = RESULTS_DIR / \"inr\" / \"mmgn\"\n",
    "IDW_RESULTS = RESULTS_DIR / \"idw\""
   ]
  },
  {
   "cell_type": "markdown",
   "id": "bebfbb5c-5ccd-4aae-843b-6f0e520d9f69",
   "metadata": {},
   "source": [
    "## 1. Metrics Comparison"
   ]
  },
  {
   "cell_type": "code",
   "execution_count": null,
   "id": "c079e81c-d6c4-4c38-a77d-fbe2ebea4334",
   "metadata": {},
   "outputs": [],
   "source": [
    "ok_data = pd.read_csv(OK_RESULTS / \"metrics.csv\").set_index(\"dataset_id\").add_suffix(\"_ok\", axis=1)\n",
    "idw_data = pd.read_csv(IDW_RESULTS / \"metrics.csv\").drop(\"Unnamed: 0\", axis=1).set_index(\"dataset_id\").add_suffix(\"_idw\", axis=1)\n",
    "mmgn_data = pd.read_csv(MMGN_RESULTS / \"metrics.csv\").set_index(\"dataset_id\").add_suffix(\"_mmgn\", axis=1)\n",
    "sinet_data = pd.read_csv(SINET_RESULTS / \"metrics.csv\").set_index(\"dataset_id\").add_suffix(\"_sinet\", axis=1)"
   ]
  },
  {
   "cell_type": "code",
   "execution_count": null,
   "id": "d269669d-92bb-4647-838b-20a9cba13606",
   "metadata": {},
   "outputs": [],
   "source": [
    "all_data = pd.merge(\n",
    "    idw_data,\n",
    "    ok_data,\n",
    "    how=\"inner\",\n",
    "    on=\"dataset_id\",\n",
    ")\n",
    "all_data = pd.merge(\n",
    "    all_data,\n",
    "    mmgn_data,\n",
    "    how=\"inner\",\n",
    "    on=\"dataset_id\"\n",
    ")\n",
    "all_data = pd.merge(\n",
    "    all_data,\n",
    "    sinet_data,\n",
    "    how=\"inner\",\n",
    "    on=\"dataset_id\"\n",
    ")\n",
    "all_data.head()"
   ]
  },
  {
   "cell_type": "code",
   "execution_count": null,
   "id": "005445bc-93dc-47fe-82b0-63745aad11ae",
   "metadata": {},
   "outputs": [],
   "source": [
    "order = [\"idw\", \"ok\", \"mmgn\", \"sinet\"]\n",
    "rmse_best_idx = np.argmin(\n",
    "    all_data[[\"RMSE_idw\", \"RMSE_ok\", \"RMSE_mmgn\", \"RMSE_sinet\"]], axis=1\n",
    ")\n",
    "r2_best_idx = np.argmax(all_data[[\"R^2_idw\", \"R^2_ok\", \"R^2_mmgn\", \"R^2_sinet\"]], axis=1)\n",
    "mabs_best_idx = np.argmin(\n",
    "    all_data[[\"Max Abs Error_idw\", \"Max Abs Error_ok\", \"Max Abs Error_mmgn\", \"Max Abs Error_sinet\"]],\n",
    "    axis=1,\n",
    ")\n",
    "\n",
    "all_data[\"best_RMSE\"] = [order[i] for i in rmse_best_idx]\n",
    "all_data[\"best_R^2\"] = [order[i] for i in r2_best_idx]\n",
    "all_data[\"best_Max Abs Error\"] = [order[i] for i in mabs_best_idx]"
   ]
  },
  {
   "cell_type": "code",
   "execution_count": null,
   "id": "483bc695-da70-4490-aaf8-b3eedf85b944",
   "metadata": {},
   "outputs": [],
   "source": [
    "all_data = all_data[\n",
    "    [\n",
    "        \"RMSE_idw\",\n",
    "        \"RMSE_ok\",\n",
    "        \"RMSE_mmgn\",\n",
    "        \"RMSE_sinet\",\n",
    "        \"best_RMSE\",\n",
    "        \"Max Abs Error_idw\",\n",
    "        \"Max Abs Error_ok\",\n",
    "        \"Max Abs Error_mmgn\",\n",
    "        \"Max Abs Error_sinet\",\n",
    "        \"best_Max Abs Error\",\n",
    "        \"R^2_idw\",\n",
    "        \"R^2_ok\",\n",
    "        \"R^2_mmgn\",\n",
    "        \"R^2_sinet\",\n",
    "        \"best_R^2\",\n",
    "    ]\n",
    "]"
   ]
  },
  {
   "cell_type": "code",
   "execution_count": null,
   "id": "688df313-0d31-44df-a3d5-3a5016270169",
   "metadata": {},
   "outputs": [],
   "source": [
    "all_data"
   ]
  },
  {
   "cell_type": "markdown",
   "id": "216c0830-acde-4cef-b1cc-f7fc1e623d3b",
   "metadata": {},
   "source": [
    "## 2. Hyperparameters analysis"
   ]
  },
  {
   "cell_type": "code",
   "execution_count": null,
   "id": "e6462051-169f-4905-841e-def4493974f6",
   "metadata": {},
   "outputs": [],
   "source": [
    "import matplotlib.pyplot as plt\n",
    "import seaborn as sns\n",
    "\n",
    "sns.set_style(\"dark\")"
   ]
  },
  {
   "cell_type": "markdown",
   "id": "47db3759-ce87-44ed-a2e1-d5875cb8fc84",
   "metadata": {},
   "source": [
    "### 2a. Ordinary Kriging"
   ]
  },
  {
   "cell_type": "code",
   "execution_count": null,
   "id": "d4e37236-2daf-4056-8b2e-285f50745deb",
   "metadata": {},
   "outputs": [],
   "source": [
    "ok_hparams = pd.read_csv(OK_RESULTS / \"hparams_summary.csv\")"
   ]
  },
  {
   "cell_type": "code",
   "execution_count": null,
   "id": "3fe1ca51-8de0-4ee4-b77c-0ec023a0055f",
   "metadata": {},
   "outputs": [],
   "source": [
    "ok_hparams = ok_hparams.drop(\"dataset_id\", axis=1)\n",
    "ok_hparams.head()"
   ]
  },
  {
   "cell_type": "code",
   "execution_count": null,
   "id": "f5d8cde8-580e-41e8-b57d-2214605ba05e",
   "metadata": {},
   "outputs": [],
   "source": [
    "fig, ax = plt.subplots(figsize=(6, 3))\n",
    "ok_hparams[\"nlags\"].plot.hist(bins=10, ax=ax)\n",
    "ax.set_xlabel(\"No. of lags\");"
   ]
  },
  {
   "cell_type": "code",
   "execution_count": null,
   "id": "1c227a13-6fbc-4e9f-90c4-aff2cbac0402",
   "metadata": {},
   "outputs": [],
   "source": [
    "fig, ax = plt.subplots(figsize=(6, 3))\n",
    "ok_hparams[\"anisotropy_scaling\"].plot.hist(bins=10, ax=ax)\n",
    "ax.set_xlabel(\"Anisotropy scaling factor\");"
   ]
  },
  {
   "cell_type": "code",
   "execution_count": null,
   "id": "d8b3949c-2201-4009-84d6-de20944ca31c",
   "metadata": {},
   "outputs": [],
   "source": [
    "fig, ax = plt.subplots(figsize=(6, 3))\n",
    "ok_hparams.groupby(\"coordinates_type\").count()[\"nlags\"].plot.bar(ax=ax)\n",
    "ax.set_xlabel(\"Coordinate type\");"
   ]
  },
  {
   "cell_type": "code",
   "execution_count": null,
   "id": "fddbad30-b20e-4491-9606-332aafb0c56c",
   "metadata": {},
   "outputs": [],
   "source": [
    "fig, ax = plt.subplots(figsize=(6, 3))\n",
    "ok_hparams.groupby(\"variogram_model\").count()[\"nlags\"].plot.bar(ax=ax)\n",
    "ax.set_xlabel(\"Variogram model\");"
   ]
  },
  {
   "cell_type": "markdown",
   "id": "06f47bbb-78f0-4560-a515-e858fc438edc",
   "metadata": {},
   "source": [
    "### 2b. IDW"
   ]
  },
  {
   "cell_type": "code",
   "execution_count": null,
   "id": "7d57c3c8-bd3f-4c77-b5d2-5b8b399a3074",
   "metadata": {},
   "outputs": [],
   "source": [
    "idw_hparams = pd.read_csv(IDW_RESULTS / \"hparams_summary.csv\")"
   ]
  },
  {
   "cell_type": "code",
   "execution_count": null,
   "id": "376a5088-9903-494d-9098-ccce3d7de070",
   "metadata": {},
   "outputs": [],
   "source": [
    "idw_hparams = idw_hparams.drop(\"dataset_id\", axis=1)\n",
    "idw_hparams.head()"
   ]
  },
  {
   "cell_type": "code",
   "execution_count": null,
   "id": "20c61975-345a-4c78-ac66-7937b2dc05b2",
   "metadata": {},
   "outputs": [],
   "source": [
    "fig, ax = plt.subplots(figsize=(6, 3))\n",
    "idw_hparams[\"k\"].plot.hist(bins=10, ax=ax)\n",
    "ax.set_xlabel(\"No. of neighbours\");"
   ]
  },
  {
   "cell_type": "code",
   "execution_count": null,
   "id": "d70c48bb-0ea9-4caa-bb4d-45e8d966d04c",
   "metadata": {},
   "outputs": [],
   "source": [
    "fig, ax = plt.subplots(figsize=(6, 3))\n",
    "idw_hparams[\"k_min\"].plot.hist(bins=10, ax=ax)\n",
    "ax.set_xlabel(\"Min. no. of neighbours\");"
   ]
  },
  {
   "cell_type": "code",
   "execution_count": null,
   "id": "ff45fad2-f19e-4c5b-b20a-ce6562cc21b0",
   "metadata": {},
   "outputs": [],
   "source": [
    "fig, ax = plt.subplots(figsize=(6, 3))\n",
    "idw_hparams[\"power\"].plot.hist(bins=10, ax=ax)\n",
    "ax.set_xlabel(\"Power factor\");"
   ]
  },
  {
   "cell_type": "markdown",
   "id": "5a47f4b1-0c74-40f1-9265-0a332e13a368",
   "metadata": {},
   "source": [
    "### 2c. MMGN"
   ]
  },
  {
   "cell_type": "code",
   "execution_count": null,
   "id": "224d9d64-de89-476f-8caa-effe0379af39",
   "metadata": {},
   "outputs": [],
   "source": [
    "mmgn_hparams = pd.read_csv(MMGN_RESULTS / \"hparams_summary.csv\")"
   ]
  },
  {
   "cell_type": "code",
   "execution_count": null,
   "id": "262eb328-0175-4230-a8e0-485407bd3283",
   "metadata": {},
   "outputs": [],
   "source": [
    "mmgn_hparams.head()"
   ]
  },
  {
   "cell_type": "code",
   "execution_count": null,
   "id": "47a52348-059f-4125-a758-139638c901c2",
   "metadata": {},
   "outputs": [],
   "source": [
    "fig, ax = plt.subplots(figsize=(6, 3))\n",
    "mmgn_hparams[\"lr\"].plot.hist(bins=10, ax=ax)\n",
    "ax.set_xlabel(\"Learning rate\");"
   ]
  },
  {
   "cell_type": "code",
   "execution_count": null,
   "id": "a2b4f53d-f869-4622-975a-a17162ff470a",
   "metadata": {},
   "outputs": [],
   "source": [
    "fig, ax = plt.subplots(figsize=(6, 3))\n",
    "mmgn_hparams[\"weight_decay\"].plot.hist(bins=10, ax=ax)\n",
    "ax.set_xlabel(\"Weight decay\");"
   ]
  },
  {
   "cell_type": "code",
   "execution_count": null,
   "id": "733a9848-4696-421d-8a88-b278b0c087a0",
   "metadata": {},
   "outputs": [],
   "source": [
    "fig, ax = plt.subplots(figsize=(6, 3))\n",
    "mmgn_hparams[\"hidden_dim\"].plot.hist(bins=10, ax=ax)\n",
    "ax.set_xlabel(\"Hidden dim\");"
   ]
  },
  {
   "cell_type": "code",
   "execution_count": null,
   "id": "a6ab28a6-40ed-4944-a02c-30dbb0b86db2",
   "metadata": {},
   "outputs": [],
   "source": [
    "fig, ax = plt.subplots(figsize=(6, 3))\n",
    "mmgn_hparams[\"latent_dim\"].plot.hist(bins=10, ax=ax)\n",
    "ax.set_xlabel(\"Latent dim\");"
   ]
  },
  {
   "cell_type": "code",
   "execution_count": null,
   "id": "bff1b05e-e14d-47df-8afb-f8c4ae50a57d",
   "metadata": {},
   "outputs": [],
   "source": [
    "fig, ax = plt.subplots(figsize=(6, 3))\n",
    "mmgn_hparams[\"n_layers\"].plot.hist(bins=10, ax=ax)\n",
    "ax.set_xlabel(\"Number of layers\");"
   ]
  },
  {
   "cell_type": "code",
   "execution_count": null,
   "id": "a4762474-6344-4ece-aadf-b881fded37a6",
   "metadata": {},
   "outputs": [],
   "source": [
    "fig, ax = plt.subplots(figsize=(6, 3))\n",
    "mmgn_hparams[\"input_scale\"].plot.hist(bins=10, ax=ax)\n",
    "ax.set_xlabel(\"Input scale\");"
   ]
  },
  {
   "cell_type": "code",
   "execution_count": null,
   "id": "9f7bd5e5-baf3-4922-891a-d1106f1545a8",
   "metadata": {},
   "outputs": [],
   "source": [
    "fig, ax = plt.subplots(figsize=(6, 3))\n",
    "mmgn_hparams[\"alpha\"].plot.hist(bins=10, ax=ax)\n",
    "ax.set_xlabel(\"Alpha\");"
   ]
  },
  {
   "cell_type": "markdown",
   "id": "28878795-2b4b-45ca-a18c-709164b3d912",
   "metadata": {},
   "source": [
    "### 2d. SiNET"
   ]
  },
  {
   "cell_type": "code",
   "execution_count": null,
   "id": "bdba4c0b-676b-4bf7-8f53-e01df22c5036",
   "metadata": {},
   "outputs": [],
   "source": [
    "sinet_hparams = pd.read_csv(SINET_RESULTS / \"hparams_summary.csv\")"
   ]
  },
  {
   "cell_type": "code",
   "execution_count": null,
   "id": "78f25285-4032-4f6c-b26d-435c7a0bf327",
   "metadata": {},
   "outputs": [],
   "source": [
    "sinet_hparams.head()"
   ]
  },
  {
   "cell_type": "code",
   "execution_count": null,
   "id": "92c4ecb4-913f-4430-be8f-d27a3fd6ec04",
   "metadata": {},
   "outputs": [],
   "source": [
    "fig, ax = plt.subplots(figsize=(6, 3))\n",
    "sinet_hparams[\"lr\"].plot.hist(bins=10, ax=ax)\n",
    "ax.set_xlabel(\"Learning rate\");"
   ]
  },
  {
   "cell_type": "code",
   "execution_count": null,
   "id": "424922eb-ccfa-433f-ac1e-ff602a5b066d",
   "metadata": {},
   "outputs": [],
   "source": [
    "fig, ax = plt.subplots(figsize=(6, 3))\n",
    "sinet_hparams[\"weight_decay\"].plot.hist(bins=10, ax=ax)\n",
    "ax.set_xlabel(\"Weight decay\");"
   ]
  },
  {
   "cell_type": "code",
   "execution_count": null,
   "id": "0967d696-53b1-4bbd-9bdb-fd551ce956e9",
   "metadata": {},
   "outputs": [],
   "source": [
    "fig, ax = plt.subplots(figsize=(6, 3))\n",
    "sinet_hparams[\"scale\"].plot.hist(bins=10, ax=ax)\n",
    "ax.set_xlabel(\"Scale\");"
   ]
  },
  {
   "cell_type": "code",
   "execution_count": null,
   "id": "87ff31cc-16cb-4393-9109-5b5b469296e0",
   "metadata": {},
   "outputs": [],
   "source": [
    "fig, ax = plt.subplots(figsize=(6, 3))\n",
    "sinet_hparams[\"num_epochs\"].plot.hist(bins=10, ax=ax)\n",
    "ax.set_xlabel(\"No. of epochs\");"
   ]
  },
  {
   "cell_type": "code",
   "execution_count": null,
   "id": "6dcb95e4-bb3e-42b1-a290-004977d5888c",
   "metadata": {},
   "outputs": [],
   "source": [
    "fig, ax = plt.subplots(figsize=(6, 3))\n",
    "sinet_hparams[\"batch_size\"].plot.hist(bins=10, ax=ax)\n",
    "ax.set_xlabel(\"Batch size\");"
   ]
  },
  {
   "cell_type": "code",
   "execution_count": null,
   "id": "3c2d8d96-1fa9-448c-9ca0-aa20321b977e",
   "metadata": {},
   "outputs": [],
   "source": [
    "fig, ax = plt.subplots(figsize=(6, 3))\n",
    "sinet_hparams[\"hidden_dim\"].plot.hist(bins=10, ax=ax)\n",
    "ax.set_xlabel(\"Hidden dim\");"
   ]
  },
  {
   "cell_type": "code",
   "execution_count": null,
   "id": "315d77bc-2236-4e12-9644-235c05e7b95f",
   "metadata": {},
   "outputs": [],
   "source": [
    "fig, ax = plt.subplots(figsize=(6, 3))\n",
    "sinet_hparams[\"mse_loss_weight\"].plot.hist(bins=10, ax=ax)\n",
    "ax.set_xlabel(\"MSE loss weight\");"
   ]
  },
  {
   "cell_type": "code",
   "execution_count": null,
   "id": "334e58ae-dbc4-45ac-a63d-c1cb0efdd58a",
   "metadata": {},
   "outputs": [],
   "source": [
    "fig, ax = plt.subplots(figsize=(6, 3))\n",
    "sinet_hparams[\"eikonal_loss_weight\"].plot.hist(bins=10, ax=ax)\n",
    "ax.set_xlabel(\"Eikonal loss weight\");"
   ]
  },
  {
   "cell_type": "code",
   "execution_count": null,
   "id": "773ca76f-1517-4e44-9b44-546474d49048",
   "metadata": {},
   "outputs": [],
   "source": [
    "fig, ax = plt.subplots(figsize=(6, 3))\n",
    "sinet_hparams[\"laplace_loss_weight\"].plot.hist(bins=10, ax=ax)\n",
    "ax.set_xlabel(\"Laplace loss weight\");"
   ]
  },
  {
   "cell_type": "code",
   "execution_count": null,
   "id": "385f1e8a-4c51-4e19-b21d-6f9b68d8c9f2",
   "metadata": {},
   "outputs": [],
   "source": []
  }
 ],
 "metadata": {
  "kernelspec": {
   "display_name": "Python 3 (ipykernel)",
   "language": "python",
   "name": "python3"
  },
  "language_info": {
   "codemirror_mode": {
    "name": "ipython",
    "version": 3
   },
   "file_extension": ".py",
   "mimetype": "text/x-python",
   "name": "python",
   "nbconvert_exporter": "python",
   "pygments_lexer": "ipython3",
   "version": "3.12.3"
  }
 },
 "nbformat": 4,
 "nbformat_minor": 5
}
