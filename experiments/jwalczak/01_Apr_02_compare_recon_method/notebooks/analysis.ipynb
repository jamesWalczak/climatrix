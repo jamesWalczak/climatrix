{
 "cells": [
  {
   "cell_type": "markdown",
   "id": "ec09dc2c-9cfe-4bbf-833c-3a045b50ec62",
   "metadata": {},
   "source": [
    "# Thorough Comparison of Reconstruction Methods\n",
    "\n",
    "**Author:** Jakub Walczak, PhD\n",
    "\n",
    "The analysis relies on the experiments' results collected for three investigated methods: OK, IDW, and SiNET.\n",
    "For each out of 100 samples the hyper-parameter optimisation was carried out. Having optimised hyperparameters, \n",
    "the evaluation of methods on test test was performed."
   ]
  },
  {
   "cell_type": "code",
   "execution_count": 44,
   "id": "79b7d56b-65cb-4485-a8af-e4fc29e15c70",
   "metadata": {},
   "outputs": [],
   "source": [
    "from pathlib import Path\n",
    "\n",
    "import pandas as pd\n",
    "import numpy as np"
   ]
  },
  {
   "cell_type": "code",
   "execution_count": 2,
   "id": "a73e7b47-36a0-44b2-aed0-fbee8e9e00da",
   "metadata": {},
   "outputs": [],
   "source": [
    "NOTEBOOK_DIR = Path(__session__).parent.parent"
   ]
  },
  {
   "cell_type": "code",
   "execution_count": 10,
   "id": "f6dc18ce-d8e9-45bd-b27c-808a15b27d73",
   "metadata": {},
   "outputs": [],
   "source": [
    "RESULTS_DIR = NOTEBOOK_DIR / \"results\"\n",
    "OK_RESULTS = RESULTS_DIR / \"ok\"\n",
    "SINET_RESULTS = RESULTS_DIR / \"inr\" / \"sinet\"\n",
    "MMGN_RESULTS = RESULTS_DIR / \"inr\" / \"mmgn\"\n",
    "IDW_RESULTS = RESULTS_DIR / \"idw\""
   ]
  },
  {
   "cell_type": "markdown",
   "id": "bebfbb5c-5ccd-4aae-843b-6f0e520d9f69",
   "metadata": {},
   "source": [
    "## 1. Metrics Comparison"
   ]
  },
  {
   "cell_type": "code",
   "execution_count": 34,
   "id": "c079e81c-d6c4-4c38-a77d-fbe2ebea4334",
   "metadata": {},
   "outputs": [],
   "source": [
    "ok_data = pd.read_csv(OK_RESULTS / \"metrics.csv\").set_index(\"dataset_id\").add_suffix(\"_ok\", axis=1)\n",
    "idw_data = pd.read_csv(IDW_RESULTS / \"metrics.csv\").drop(\"Unnamed: 0\", axis=1).set_index(\"dataset_id\").add_suffix(\"_idw\", axis=1)\n",
    "mmgn_data = pd.read_csv(MMGN_RESULTS / \"metrics.csv\").set_index(\"dataset_id\").add_suffix(\"_mmgn\", axis=1)\n",
    "sinet_data = pd.read_csv(SINET_RESULTS / \"metrics.csv\").set_index(\"dataset_id\").add_suffix(\"_sinet\", axis=1)"
   ]
  },
  {
   "cell_type": "code",
   "execution_count": 35,
   "id": "d269669d-92bb-4647-838b-20a9cba13606",
   "metadata": {},
   "outputs": [
    {
     "data": {
      "text/html": [
       "<div>\n",
       "<style scoped>\n",
       "    .dataframe tbody tr th:only-of-type {\n",
       "        vertical-align: middle;\n",
       "    }\n",
       "\n",
       "    .dataframe tbody tr th {\n",
       "        vertical-align: top;\n",
       "    }\n",
       "\n",
       "    .dataframe thead th {\n",
       "        text-align: right;\n",
       "    }\n",
       "</style>\n",
       "<table border=\"1\" class=\"dataframe\">\n",
       "  <thead>\n",
       "    <tr style=\"text-align: right;\">\n",
       "      <th></th>\n",
       "      <th>RMSE_idw</th>\n",
       "      <th>MAE_idw</th>\n",
       "      <th>Max Abs Error_idw</th>\n",
       "      <th>R^2_idw</th>\n",
       "      <th>RMSE_ok</th>\n",
       "      <th>MAE_ok</th>\n",
       "      <th>Max Abs Error_ok</th>\n",
       "      <th>R^2_ok</th>\n",
       "      <th>RMSE_mmgn</th>\n",
       "      <th>MAE_mmgn</th>\n",
       "      <th>Max Abs Error_mmgn</th>\n",
       "      <th>R^2_mmgn</th>\n",
       "      <th>RMSE_sinet</th>\n",
       "      <th>MAE_sinet</th>\n",
       "      <th>Max Abs Error_sinet</th>\n",
       "      <th>R^2_sinet</th>\n",
       "    </tr>\n",
       "    <tr>\n",
       "      <th>dataset_id</th>\n",
       "      <th></th>\n",
       "      <th></th>\n",
       "      <th></th>\n",
       "      <th></th>\n",
       "      <th></th>\n",
       "      <th></th>\n",
       "      <th></th>\n",
       "      <th></th>\n",
       "      <th></th>\n",
       "      <th></th>\n",
       "      <th></th>\n",
       "      <th></th>\n",
       "      <th></th>\n",
       "      <th></th>\n",
       "      <th></th>\n",
       "      <th></th>\n",
       "    </tr>\n",
       "  </thead>\n",
       "  <tbody>\n",
       "    <tr>\n",
       "      <th>18840905</th>\n",
       "      <td>1.653969</td>\n",
       "      <td>0.539895</td>\n",
       "      <td>10.087725</td>\n",
       "      <td>0.697874</td>\n",
       "      <td>1.960899</td>\n",
       "      <td>1.335547</td>\n",
       "      <td>7.551665</td>\n",
       "      <td>0.085027</td>\n",
       "      <td>1.432186</td>\n",
       "      <td>0.495411</td>\n",
       "      <td>8.756209</td>\n",
       "      <td>0.726941</td>\n",
       "      <td>1.492749</td>\n",
       "      <td>0.570955</td>\n",
       "      <td>9.794591</td>\n",
       "      <td>0.726826</td>\n",
       "    </tr>\n",
       "    <tr>\n",
       "      <th>18870704</th>\n",
       "      <td>1.970164</td>\n",
       "      <td>0.512600</td>\n",
       "      <td>14.194962</td>\n",
       "      <td>0.842000</td>\n",
       "      <td>3.178459</td>\n",
       "      <td>2.259022</td>\n",
       "      <td>19.573852</td>\n",
       "      <td>-0.462073</td>\n",
       "      <td>1.727897</td>\n",
       "      <td>0.557220</td>\n",
       "      <td>11.694089</td>\n",
       "      <td>0.875672</td>\n",
       "      <td>2.405093</td>\n",
       "      <td>0.775432</td>\n",
       "      <td>13.085990</td>\n",
       "      <td>0.764045</td>\n",
       "    </tr>\n",
       "    <tr>\n",
       "      <th>18931102</th>\n",
       "      <td>2.251932</td>\n",
       "      <td>0.621723</td>\n",
       "      <td>17.855036</td>\n",
       "      <td>0.643486</td>\n",
       "      <td>3.042746</td>\n",
       "      <td>1.443131</td>\n",
       "      <td>16.895596</td>\n",
       "      <td>0.551754</td>\n",
       "      <td>3.086553</td>\n",
       "      <td>0.863099</td>\n",
       "      <td>29.147049</td>\n",
       "      <td>0.173935</td>\n",
       "      <td>3.088463</td>\n",
       "      <td>0.890437</td>\n",
       "      <td>29.286058</td>\n",
       "      <td>0.154474</td>\n",
       "    </tr>\n",
       "    <tr>\n",
       "      <th>18960629</th>\n",
       "      <td>1.332282</td>\n",
       "      <td>0.453504</td>\n",
       "      <td>7.211687</td>\n",
       "      <td>0.856173</td>\n",
       "      <td>3.154360</td>\n",
       "      <td>2.332571</td>\n",
       "      <td>17.886671</td>\n",
       "      <td>-1.306745</td>\n",
       "      <td>1.464110</td>\n",
       "      <td>0.553780</td>\n",
       "      <td>5.743105</td>\n",
       "      <td>0.803271</td>\n",
       "      <td>1.898802</td>\n",
       "      <td>0.873283</td>\n",
       "      <td>9.587229</td>\n",
       "      <td>0.608950</td>\n",
       "    </tr>\n",
       "    <tr>\n",
       "      <th>18990407</th>\n",
       "      <td>1.991561</td>\n",
       "      <td>0.661112</td>\n",
       "      <td>12.448601</td>\n",
       "      <td>0.882943</td>\n",
       "      <td>6.624101</td>\n",
       "      <td>4.983832</td>\n",
       "      <td>17.626940</td>\n",
       "      <td>-0.762217</td>\n",
       "      <td>4.203753</td>\n",
       "      <td>1.226080</td>\n",
       "      <td>39.442589</td>\n",
       "      <td>0.599226</td>\n",
       "      <td>3.169906</td>\n",
       "      <td>1.141294</td>\n",
       "      <td>21.160767</td>\n",
       "      <td>0.623415</td>\n",
       "    </tr>\n",
       "  </tbody>\n",
       "</table>\n",
       "</div>"
      ],
      "text/plain": [
       "            RMSE_idw   MAE_idw  Max Abs Error_idw   R^2_idw   RMSE_ok  \\\n",
       "dataset_id                                                              \n",
       "18840905    1.653969  0.539895          10.087725  0.697874  1.960899   \n",
       "18870704    1.970164  0.512600          14.194962  0.842000  3.178459   \n",
       "18931102    2.251932  0.621723          17.855036  0.643486  3.042746   \n",
       "18960629    1.332282  0.453504           7.211687  0.856173  3.154360   \n",
       "18990407    1.991561  0.661112          12.448601  0.882943  6.624101   \n",
       "\n",
       "              MAE_ok  Max Abs Error_ok    R^2_ok  RMSE_mmgn  MAE_mmgn  \\\n",
       "dataset_id                                                              \n",
       "18840905    1.335547          7.551665  0.085027   1.432186  0.495411   \n",
       "18870704    2.259022         19.573852 -0.462073   1.727897  0.557220   \n",
       "18931102    1.443131         16.895596  0.551754   3.086553  0.863099   \n",
       "18960629    2.332571         17.886671 -1.306745   1.464110  0.553780   \n",
       "18990407    4.983832         17.626940 -0.762217   4.203753  1.226080   \n",
       "\n",
       "            Max Abs Error_mmgn  R^2_mmgn  RMSE_sinet  MAE_sinet  \\\n",
       "dataset_id                                                        \n",
       "18840905              8.756209  0.726941    1.492749   0.570955   \n",
       "18870704             11.694089  0.875672    2.405093   0.775432   \n",
       "18931102             29.147049  0.173935    3.088463   0.890437   \n",
       "18960629              5.743105  0.803271    1.898802   0.873283   \n",
       "18990407             39.442589  0.599226    3.169906   1.141294   \n",
       "\n",
       "            Max Abs Error_sinet  R^2_sinet  \n",
       "dataset_id                                  \n",
       "18840905               9.794591   0.726826  \n",
       "18870704              13.085990   0.764045  \n",
       "18931102              29.286058   0.154474  \n",
       "18960629               9.587229   0.608950  \n",
       "18990407              21.160767   0.623415  "
      ]
     },
     "execution_count": 35,
     "metadata": {},
     "output_type": "execute_result"
    }
   ],
   "source": [
    "all_data = pd.merge(\n",
    "    idw_data,\n",
    "    ok_data,\n",
    "    how=\"inner\",\n",
    "    on=\"dataset_id\",\n",
    ")\n",
    "all_data = pd.merge(\n",
    "    all_data,\n",
    "    mmgn_data,\n",
    "    how=\"inner\",\n",
    "    on=\"dataset_id\"\n",
    ")\n",
    "all_data = pd.merge(\n",
    "    all_data,\n",
    "    sinet_data,\n",
    "    how=\"inner\",\n",
    "    on=\"dataset_id\"\n",
    ")\n",
    "all_data.head()"
   ]
  },
  {
   "cell_type": "code",
   "execution_count": 36,
   "id": "005445bc-93dc-47fe-82b0-63745aad11ae",
   "metadata": {},
   "outputs": [],
   "source": [
    "order = [\"idw\", \"ok\", \"mmgn\", \"sinet\"]\n",
    "rmse_best_idx = np.argmin(\n",
    "    all_data[[\"RMSE_idw\", \"RMSE_ok\", \"RMSE_mmgn\", \"RMSE_sinet\"]], axis=1\n",
    ")\n",
    "r2_best_idx = np.argmax(all_data[[\"R^2_idw\", \"R^2_ok\", \"R^2_mmgn\", \"R^2_sinet\"]], axis=1)\n",
    "mabs_best_idx = np.argmin(\n",
    "    all_data[[\"Max Abs Error_idw\", \"Max Abs Error_ok\", \"Max Abs Error_mmgn\", \"Max Abs Error_sinet\"]],\n",
    "    axis=1,\n",
    ")\n",
    "\n",
    "all_data[\"best_RMSE\"] = [order[i] for i in rmse_best_idx]\n",
    "all_data[\"best_R^2\"] = [order[i] for i in r2_best_idx]\n",
    "all_data[\"best_Max Abs Error\"] = [order[i] for i in mabs_best_idx]"
   ]
  },
  {
   "cell_type": "code",
   "execution_count": 38,
   "id": "483bc695-da70-4490-aaf8-b3eedf85b944",
   "metadata": {},
   "outputs": [],
   "source": [
    "all_data = all_data[\n",
    "    [\n",
    "        \"RMSE_idw\",\n",
    "        \"RMSE_ok\",\n",
    "        \"RMSE_sinet\",\n",
    "        \"best_RMSE\",\n",
    "        \"Max Abs Error_idw\",\n",
    "        \"Max Abs Error_ok\",\n",
    "        \"Max Abs Error_sinet\",\n",
    "        \"best_Max Abs Error\",\n",
    "        \"R^2_idw\",\n",
    "        \"R^2_ok\",\n",
    "        \"R^2_sinet\",\n",
    "        \"best_R^2\",\n",
    "    ]\n",
    "]"
   ]
  },
  {
   "cell_type": "code",
   "execution_count": 8,
   "id": "688df313-0d31-44df-a3d5-3a5016270169",
   "metadata": {},
   "outputs": [
    {
     "data": {
      "text/html": [
       "<div>\n",
       "<style scoped>\n",
       "    .dataframe tbody tr th:only-of-type {\n",
       "        vertical-align: middle;\n",
       "    }\n",
       "\n",
       "    .dataframe tbody tr th {\n",
       "        vertical-align: top;\n",
       "    }\n",
       "\n",
       "    .dataframe thead th {\n",
       "        text-align: right;\n",
       "    }\n",
       "</style>\n",
       "<table border=\"1\" class=\"dataframe\">\n",
       "  <thead>\n",
       "    <tr style=\"text-align: right;\">\n",
       "      <th></th>\n",
       "      <th>dataset_id</th>\n",
       "      <th>RMSE_idw</th>\n",
       "      <th>RMSE_ok</th>\n",
       "      <th>RMSE_sinet</th>\n",
       "      <th>best_RMSE</th>\n",
       "      <th>Max Abs Error_idw</th>\n",
       "      <th>Max Abs Error_ok</th>\n",
       "      <th>Max Abs Error_sinet</th>\n",
       "      <th>best_Max Abs Error</th>\n",
       "      <th>R^2_idw</th>\n",
       "      <th>R^2_ok</th>\n",
       "      <th>R^2_sinet</th>\n",
       "      <th>best_R^2</th>\n",
       "    </tr>\n",
       "  </thead>\n",
       "  <tbody>\n",
       "    <tr>\n",
       "      <th>0</th>\n",
       "      <td>18840905</td>\n",
       "      <td>1.653969</td>\n",
       "      <td>1.960899</td>\n",
       "      <td>1.492749</td>\n",
       "      <td>sinet</td>\n",
       "      <td>10.087725</td>\n",
       "      <td>7.551665</td>\n",
       "      <td>9.794591</td>\n",
       "      <td>ok</td>\n",
       "      <td>0.697874</td>\n",
       "      <td>0.085027</td>\n",
       "      <td>0.726826</td>\n",
       "      <td>sinet</td>\n",
       "    </tr>\n",
       "    <tr>\n",
       "      <th>1</th>\n",
       "      <td>18870704</td>\n",
       "      <td>1.970164</td>\n",
       "      <td>3.178459</td>\n",
       "      <td>2.405093</td>\n",
       "      <td>idw</td>\n",
       "      <td>14.194962</td>\n",
       "      <td>19.573852</td>\n",
       "      <td>13.085990</td>\n",
       "      <td>sinet</td>\n",
       "      <td>0.842000</td>\n",
       "      <td>-0.462073</td>\n",
       "      <td>0.764045</td>\n",
       "      <td>idw</td>\n",
       "    </tr>\n",
       "    <tr>\n",
       "      <th>2</th>\n",
       "      <td>18931102</td>\n",
       "      <td>2.251932</td>\n",
       "      <td>3.042746</td>\n",
       "      <td>3.088463</td>\n",
       "      <td>idw</td>\n",
       "      <td>17.855036</td>\n",
       "      <td>16.895596</td>\n",
       "      <td>29.286058</td>\n",
       "      <td>ok</td>\n",
       "      <td>0.643486</td>\n",
       "      <td>0.551754</td>\n",
       "      <td>0.154474</td>\n",
       "      <td>idw</td>\n",
       "    </tr>\n",
       "    <tr>\n",
       "      <th>3</th>\n",
       "      <td>18960629</td>\n",
       "      <td>1.332282</td>\n",
       "      <td>3.154360</td>\n",
       "      <td>1.898802</td>\n",
       "      <td>idw</td>\n",
       "      <td>7.211687</td>\n",
       "      <td>17.886671</td>\n",
       "      <td>9.587229</td>\n",
       "      <td>idw</td>\n",
       "      <td>0.856173</td>\n",
       "      <td>-1.306745</td>\n",
       "      <td>0.608950</td>\n",
       "      <td>idw</td>\n",
       "    </tr>\n",
       "    <tr>\n",
       "      <th>4</th>\n",
       "      <td>18990407</td>\n",
       "      <td>1.991561</td>\n",
       "      <td>6.624101</td>\n",
       "      <td>3.169906</td>\n",
       "      <td>idw</td>\n",
       "      <td>12.448601</td>\n",
       "      <td>17.626940</td>\n",
       "      <td>21.160767</td>\n",
       "      <td>idw</td>\n",
       "      <td>0.882943</td>\n",
       "      <td>-0.762217</td>\n",
       "      <td>0.623415</td>\n",
       "      <td>idw</td>\n",
       "    </tr>\n",
       "    <tr>\n",
       "      <th>5</th>\n",
       "      <td>19030303</td>\n",
       "      <td>2.453619</td>\n",
       "      <td>4.412405</td>\n",
       "      <td>3.850734</td>\n",
       "      <td>idw</td>\n",
       "      <td>15.774864</td>\n",
       "      <td>17.708659</td>\n",
       "      <td>35.525627</td>\n",
       "      <td>idw</td>\n",
       "      <td>0.796378</td>\n",
       "      <td>-0.086903</td>\n",
       "      <td>0.382309</td>\n",
       "      <td>idw</td>\n",
       "    </tr>\n",
       "    <tr>\n",
       "      <th>6</th>\n",
       "      <td>19030524</td>\n",
       "      <td>2.660117</td>\n",
       "      <td>4.299132</td>\n",
       "      <td>2.490350</td>\n",
       "      <td>sinet</td>\n",
       "      <td>15.692790</td>\n",
       "      <td>14.902642</td>\n",
       "      <td>14.858397</td>\n",
       "      <td>sinet</td>\n",
       "      <td>0.665341</td>\n",
       "      <td>-1.345124</td>\n",
       "      <td>0.647534</td>\n",
       "      <td>idw</td>\n",
       "    </tr>\n",
       "    <tr>\n",
       "      <th>7</th>\n",
       "      <td>19041114</td>\n",
       "      <td>2.093660</td>\n",
       "      <td>6.514665</td>\n",
       "      <td>3.546838</td>\n",
       "      <td>idw</td>\n",
       "      <td>14.331111</td>\n",
       "      <td>22.270920</td>\n",
       "      <td>17.214996</td>\n",
       "      <td>idw</td>\n",
       "      <td>0.832069</td>\n",
       "      <td>-1.385387</td>\n",
       "      <td>0.448634</td>\n",
       "      <td>idw</td>\n",
       "    </tr>\n",
       "    <tr>\n",
       "      <th>8</th>\n",
       "      <td>19080304</td>\n",
       "      <td>2.835205</td>\n",
       "      <td>6.384993</td>\n",
       "      <td>3.548349</td>\n",
       "      <td>idw</td>\n",
       "      <td>26.772500</td>\n",
       "      <td>40.078375</td>\n",
       "      <td>25.766455</td>\n",
       "      <td>sinet</td>\n",
       "      <td>0.839483</td>\n",
       "      <td>-0.524495</td>\n",
       "      <td>0.715420</td>\n",
       "      <td>idw</td>\n",
       "    </tr>\n",
       "    <tr>\n",
       "      <th>9</th>\n",
       "      <td>19100728</td>\n",
       "      <td>1.702642</td>\n",
       "      <td>3.891747</td>\n",
       "      <td>2.132593</td>\n",
       "      <td>idw</td>\n",
       "      <td>11.634690</td>\n",
       "      <td>20.603644</td>\n",
       "      <td>12.402524</td>\n",
       "      <td>idw</td>\n",
       "      <td>0.824083</td>\n",
       "      <td>-2.491723</td>\n",
       "      <td>0.673957</td>\n",
       "      <td>idw</td>\n",
       "    </tr>\n",
       "    <tr>\n",
       "      <th>10</th>\n",
       "      <td>19111201</td>\n",
       "      <td>2.932292</td>\n",
       "      <td>5.494210</td>\n",
       "      <td>4.994746</td>\n",
       "      <td>idw</td>\n",
       "      <td>23.956320</td>\n",
       "      <td>29.023039</td>\n",
       "      <td>35.736874</td>\n",
       "      <td>idw</td>\n",
       "      <td>0.736028</td>\n",
       "      <td>-3.056647</td>\n",
       "      <td>-0.013427</td>\n",
       "      <td>idw</td>\n",
       "    </tr>\n",
       "    <tr>\n",
       "      <th>11</th>\n",
       "      <td>19121101</td>\n",
       "      <td>2.435173</td>\n",
       "      <td>4.330832</td>\n",
       "      <td>4.849524</td>\n",
       "      <td>idw</td>\n",
       "      <td>19.100000</td>\n",
       "      <td>22.945134</td>\n",
       "      <td>33.856243</td>\n",
       "      <td>idw</td>\n",
       "      <td>0.860933</td>\n",
       "      <td>0.398595</td>\n",
       "      <td>0.216251</td>\n",
       "      <td>idw</td>\n",
       "    </tr>\n",
       "    <tr>\n",
       "      <th>12</th>\n",
       "      <td>19141003</td>\n",
       "      <td>1.369563</td>\n",
       "      <td>3.258488</td>\n",
       "      <td>1.600005</td>\n",
       "      <td>idw</td>\n",
       "      <td>8.405865</td>\n",
       "      <td>17.702935</td>\n",
       "      <td>9.263309</td>\n",
       "      <td>idw</td>\n",
       "      <td>0.916476</td>\n",
       "      <td>-0.167782</td>\n",
       "      <td>0.864033</td>\n",
       "      <td>idw</td>\n",
       "    </tr>\n",
       "    <tr>\n",
       "      <th>13</th>\n",
       "      <td>19151205</td>\n",
       "      <td>3.952106</td>\n",
       "      <td>9.970894</td>\n",
       "      <td>6.572952</td>\n",
       "      <td>idw</td>\n",
       "      <td>24.963534</td>\n",
       "      <td>36.754538</td>\n",
       "      <td>36.571396</td>\n",
       "      <td>idw</td>\n",
       "      <td>0.890942</td>\n",
       "      <td>0.085327</td>\n",
       "      <td>0.683960</td>\n",
       "      <td>idw</td>\n",
       "    </tr>\n",
       "    <tr>\n",
       "      <th>14</th>\n",
       "      <td>19180123</td>\n",
       "      <td>4.442341</td>\n",
       "      <td>5.693712</td>\n",
       "      <td>5.289258</td>\n",
       "      <td>idw</td>\n",
       "      <td>29.099999</td>\n",
       "      <td>26.060557</td>\n",
       "      <td>36.828033</td>\n",
       "      <td>ok</td>\n",
       "      <td>0.779271</td>\n",
       "      <td>0.562150</td>\n",
       "      <td>0.636952</td>\n",
       "      <td>idw</td>\n",
       "    </tr>\n",
       "    <tr>\n",
       "      <th>15</th>\n",
       "      <td>19180528</td>\n",
       "      <td>2.606376</td>\n",
       "      <td>4.984568</td>\n",
       "      <td>2.737680</td>\n",
       "      <td>idw</td>\n",
       "      <td>18.922855</td>\n",
       "      <td>21.994189</td>\n",
       "      <td>17.576336</td>\n",
       "      <td>sinet</td>\n",
       "      <td>0.626343</td>\n",
       "      <td>-0.127206</td>\n",
       "      <td>0.478058</td>\n",
       "      <td>idw</td>\n",
       "    </tr>\n",
       "    <tr>\n",
       "      <th>16</th>\n",
       "      <td>19210209</td>\n",
       "      <td>2.761026</td>\n",
       "      <td>5.647116</td>\n",
       "      <td>3.039192</td>\n",
       "      <td>idw</td>\n",
       "      <td>17.842419</td>\n",
       "      <td>16.241027</td>\n",
       "      <td>22.431940</td>\n",
       "      <td>ok</td>\n",
       "      <td>0.783740</td>\n",
       "      <td>-0.369841</td>\n",
       "      <td>0.696224</td>\n",
       "      <td>idw</td>\n",
       "    </tr>\n",
       "    <tr>\n",
       "      <th>17</th>\n",
       "      <td>19220612</td>\n",
       "      <td>1.466047</td>\n",
       "      <td>3.159277</td>\n",
       "      <td>1.507558</td>\n",
       "      <td>idw</td>\n",
       "      <td>9.335058</td>\n",
       "      <td>21.367423</td>\n",
       "      <td>10.221316</td>\n",
       "      <td>idw</td>\n",
       "      <td>0.847208</td>\n",
       "      <td>-0.612653</td>\n",
       "      <td>0.820505</td>\n",
       "      <td>idw</td>\n",
       "    </tr>\n",
       "    <tr>\n",
       "      <th>18</th>\n",
       "      <td>19230301</td>\n",
       "      <td>2.550495</td>\n",
       "      <td>6.296139</td>\n",
       "      <td>3.325414</td>\n",
       "      <td>idw</td>\n",
       "      <td>23.799999</td>\n",
       "      <td>24.926798</td>\n",
       "      <td>19.002850</td>\n",
       "      <td>sinet</td>\n",
       "      <td>0.931564</td>\n",
       "      <td>0.435650</td>\n",
       "      <td>0.875846</td>\n",
       "      <td>idw</td>\n",
       "    </tr>\n",
       "    <tr>\n",
       "      <th>19</th>\n",
       "      <td>19240731</td>\n",
       "      <td>1.825885</td>\n",
       "      <td>3.152428</td>\n",
       "      <td>2.199819</td>\n",
       "      <td>idw</td>\n",
       "      <td>10.768592</td>\n",
       "      <td>11.385561</td>\n",
       "      <td>14.820774</td>\n",
       "      <td>idw</td>\n",
       "      <td>0.726199</td>\n",
       "      <td>-1.575817</td>\n",
       "      <td>0.567063</td>\n",
       "      <td>idw</td>\n",
       "    </tr>\n",
       "    <tr>\n",
       "      <th>20</th>\n",
       "      <td>19241012</td>\n",
       "      <td>2.248725</td>\n",
       "      <td>3.628188</td>\n",
       "      <td>2.989986</td>\n",
       "      <td>idw</td>\n",
       "      <td>14.405914</td>\n",
       "      <td>17.784866</td>\n",
       "      <td>14.385323</td>\n",
       "      <td>sinet</td>\n",
       "      <td>0.787202</td>\n",
       "      <td>0.307334</td>\n",
       "      <td>0.510584</td>\n",
       "      <td>idw</td>\n",
       "    </tr>\n",
       "    <tr>\n",
       "      <th>21</th>\n",
       "      <td>19260826</td>\n",
       "      <td>2.382504</td>\n",
       "      <td>5.869228</td>\n",
       "      <td>2.707931</td>\n",
       "      <td>idw</td>\n",
       "      <td>16.400001</td>\n",
       "      <td>19.576202</td>\n",
       "      <td>13.750889</td>\n",
       "      <td>sinet</td>\n",
       "      <td>0.711981</td>\n",
       "      <td>-0.662890</td>\n",
       "      <td>0.621389</td>\n",
       "      <td>idw</td>\n",
       "    </tr>\n",
       "    <tr>\n",
       "      <th>22</th>\n",
       "      <td>19270210</td>\n",
       "      <td>3.313228</td>\n",
       "      <td>9.013043</td>\n",
       "      <td>3.977733</td>\n",
       "      <td>idw</td>\n",
       "      <td>25.960084</td>\n",
       "      <td>31.301070</td>\n",
       "      <td>21.162119</td>\n",
       "      <td>sinet</td>\n",
       "      <td>0.802705</td>\n",
       "      <td>-0.686970</td>\n",
       "      <td>0.640762</td>\n",
       "      <td>idw</td>\n",
       "    </tr>\n",
       "    <tr>\n",
       "      <th>23</th>\n",
       "      <td>19270527</td>\n",
       "      <td>2.758872</td>\n",
       "      <td>4.848318</td>\n",
       "      <td>2.936657</td>\n",
       "      <td>idw</td>\n",
       "      <td>17.600000</td>\n",
       "      <td>16.466015</td>\n",
       "      <td>13.601742</td>\n",
       "      <td>sinet</td>\n",
       "      <td>0.695751</td>\n",
       "      <td>-2.940611</td>\n",
       "      <td>0.516316</td>\n",
       "      <td>idw</td>\n",
       "    </tr>\n",
       "    <tr>\n",
       "      <th>24</th>\n",
       "      <td>19271105</td>\n",
       "      <td>2.797248</td>\n",
       "      <td>6.525813</td>\n",
       "      <td>4.495061</td>\n",
       "      <td>idw</td>\n",
       "      <td>18.694281</td>\n",
       "      <td>21.444608</td>\n",
       "      <td>18.939011</td>\n",
       "      <td>idw</td>\n",
       "      <td>0.859031</td>\n",
       "      <td>-0.551242</td>\n",
       "      <td>0.606616</td>\n",
       "      <td>idw</td>\n",
       "    </tr>\n",
       "    <tr>\n",
       "      <th>25</th>\n",
       "      <td>19280804</td>\n",
       "      <td>1.921144</td>\n",
       "      <td>5.372572</td>\n",
       "      <td>3.015507</td>\n",
       "      <td>idw</td>\n",
       "      <td>9.484384</td>\n",
       "      <td>15.289609</td>\n",
       "      <td>16.034098</td>\n",
       "      <td>idw</td>\n",
       "      <td>0.825342</td>\n",
       "      <td>-2.018666</td>\n",
       "      <td>0.574517</td>\n",
       "      <td>idw</td>\n",
       "    </tr>\n",
       "    <tr>\n",
       "      <th>26</th>\n",
       "      <td>19300320</td>\n",
       "      <td>2.623270</td>\n",
       "      <td>5.058198</td>\n",
       "      <td>3.953319</td>\n",
       "      <td>idw</td>\n",
       "      <td>17.000000</td>\n",
       "      <td>16.189331</td>\n",
       "      <td>23.985466</td>\n",
       "      <td>ok</td>\n",
       "      <td>0.766085</td>\n",
       "      <td>-0.515310</td>\n",
       "      <td>0.483261</td>\n",
       "      <td>idw</td>\n",
       "    </tr>\n",
       "  </tbody>\n",
       "</table>\n",
       "</div>"
      ],
      "text/plain": [
       "    dataset_id  RMSE_idw   RMSE_ok  RMSE_sinet best_RMSE  Max Abs Error_idw  \\\n",
       "0     18840905  1.653969  1.960899    1.492749     sinet          10.087725   \n",
       "1     18870704  1.970164  3.178459    2.405093       idw          14.194962   \n",
       "2     18931102  2.251932  3.042746    3.088463       idw          17.855036   \n",
       "3     18960629  1.332282  3.154360    1.898802       idw           7.211687   \n",
       "4     18990407  1.991561  6.624101    3.169906       idw          12.448601   \n",
       "5     19030303  2.453619  4.412405    3.850734       idw          15.774864   \n",
       "6     19030524  2.660117  4.299132    2.490350     sinet          15.692790   \n",
       "7     19041114  2.093660  6.514665    3.546838       idw          14.331111   \n",
       "8     19080304  2.835205  6.384993    3.548349       idw          26.772500   \n",
       "9     19100728  1.702642  3.891747    2.132593       idw          11.634690   \n",
       "10    19111201  2.932292  5.494210    4.994746       idw          23.956320   \n",
       "11    19121101  2.435173  4.330832    4.849524       idw          19.100000   \n",
       "12    19141003  1.369563  3.258488    1.600005       idw           8.405865   \n",
       "13    19151205  3.952106  9.970894    6.572952       idw          24.963534   \n",
       "14    19180123  4.442341  5.693712    5.289258       idw          29.099999   \n",
       "15    19180528  2.606376  4.984568    2.737680       idw          18.922855   \n",
       "16    19210209  2.761026  5.647116    3.039192       idw          17.842419   \n",
       "17    19220612  1.466047  3.159277    1.507558       idw           9.335058   \n",
       "18    19230301  2.550495  6.296139    3.325414       idw          23.799999   \n",
       "19    19240731  1.825885  3.152428    2.199819       idw          10.768592   \n",
       "20    19241012  2.248725  3.628188    2.989986       idw          14.405914   \n",
       "21    19260826  2.382504  5.869228    2.707931       idw          16.400001   \n",
       "22    19270210  3.313228  9.013043    3.977733       idw          25.960084   \n",
       "23    19270527  2.758872  4.848318    2.936657       idw          17.600000   \n",
       "24    19271105  2.797248  6.525813    4.495061       idw          18.694281   \n",
       "25    19280804  1.921144  5.372572    3.015507       idw           9.484384   \n",
       "26    19300320  2.623270  5.058198    3.953319       idw          17.000000   \n",
       "\n",
       "    Max Abs Error_ok  Max Abs Error_sinet best_Max Abs Error   R^2_idw  \\\n",
       "0           7.551665             9.794591                 ok  0.697874   \n",
       "1          19.573852            13.085990              sinet  0.842000   \n",
       "2          16.895596            29.286058                 ok  0.643486   \n",
       "3          17.886671             9.587229                idw  0.856173   \n",
       "4          17.626940            21.160767                idw  0.882943   \n",
       "5          17.708659            35.525627                idw  0.796378   \n",
       "6          14.902642            14.858397              sinet  0.665341   \n",
       "7          22.270920            17.214996                idw  0.832069   \n",
       "8          40.078375            25.766455              sinet  0.839483   \n",
       "9          20.603644            12.402524                idw  0.824083   \n",
       "10         29.023039            35.736874                idw  0.736028   \n",
       "11         22.945134            33.856243                idw  0.860933   \n",
       "12         17.702935             9.263309                idw  0.916476   \n",
       "13         36.754538            36.571396                idw  0.890942   \n",
       "14         26.060557            36.828033                 ok  0.779271   \n",
       "15         21.994189            17.576336              sinet  0.626343   \n",
       "16         16.241027            22.431940                 ok  0.783740   \n",
       "17         21.367423            10.221316                idw  0.847208   \n",
       "18         24.926798            19.002850              sinet  0.931564   \n",
       "19         11.385561            14.820774                idw  0.726199   \n",
       "20         17.784866            14.385323              sinet  0.787202   \n",
       "21         19.576202            13.750889              sinet  0.711981   \n",
       "22         31.301070            21.162119              sinet  0.802705   \n",
       "23         16.466015            13.601742              sinet  0.695751   \n",
       "24         21.444608            18.939011                idw  0.859031   \n",
       "25         15.289609            16.034098                idw  0.825342   \n",
       "26         16.189331            23.985466                 ok  0.766085   \n",
       "\n",
       "      R^2_ok  R^2_sinet best_R^2  \n",
       "0   0.085027   0.726826    sinet  \n",
       "1  -0.462073   0.764045      idw  \n",
       "2   0.551754   0.154474      idw  \n",
       "3  -1.306745   0.608950      idw  \n",
       "4  -0.762217   0.623415      idw  \n",
       "5  -0.086903   0.382309      idw  \n",
       "6  -1.345124   0.647534      idw  \n",
       "7  -1.385387   0.448634      idw  \n",
       "8  -0.524495   0.715420      idw  \n",
       "9  -2.491723   0.673957      idw  \n",
       "10 -3.056647  -0.013427      idw  \n",
       "11  0.398595   0.216251      idw  \n",
       "12 -0.167782   0.864033      idw  \n",
       "13  0.085327   0.683960      idw  \n",
       "14  0.562150   0.636952      idw  \n",
       "15 -0.127206   0.478058      idw  \n",
       "16 -0.369841   0.696224      idw  \n",
       "17 -0.612653   0.820505      idw  \n",
       "18  0.435650   0.875846      idw  \n",
       "19 -1.575817   0.567063      idw  \n",
       "20  0.307334   0.510584      idw  \n",
       "21 -0.662890   0.621389      idw  \n",
       "22 -0.686970   0.640762      idw  \n",
       "23 -2.940611   0.516316      idw  \n",
       "24 -0.551242   0.606616      idw  \n",
       "25 -2.018666   0.574517      idw  \n",
       "26 -0.515310   0.483261      idw  "
      ]
     },
     "execution_count": 8,
     "metadata": {},
     "output_type": "execute_result"
    }
   ],
   "source": [
    "all_data"
   ]
  },
  {
   "cell_type": "markdown",
   "id": "216c0830-acde-4cef-b1cc-f7fc1e623d3b",
   "metadata": {},
   "source": [
    "## 2. Hyperparameters analysis"
   ]
  },
  {
   "cell_type": "code",
   "execution_count": 45,
   "id": "e6462051-169f-4905-841e-def4493974f6",
   "metadata": {},
   "outputs": [],
   "source": [
    "import matplotlib.pyplot as plt\n",
    "import seaborn as sns\n",
    "\n",
    "sns.set_style(\"dark\")"
   ]
  },
  {
   "cell_type": "markdown",
   "id": "47db3759-ce87-44ed-a2e1-d5875cb8fc84",
   "metadata": {},
   "source": [
    "### 2a. Ordinary Kriging"
   ]
  },
  {
   "cell_type": "code",
   "execution_count": 89,
   "id": "d4e37236-2daf-4056-8b2e-285f50745deb",
   "metadata": {},
   "outputs": [],
   "source": [
    "ok_hparams = pd.read_csv(OK_RESULTS / \"hparams_summary.csv\")"
   ]
  },
  {
   "cell_type": "code",
   "execution_count": 90,
   "id": "3fe1ca51-8de0-4ee4-b77c-0ec023a0055f",
   "metadata": {},
   "outputs": [
    {
     "data": {
      "text/html": [
       "<div>\n",
       "<style scoped>\n",
       "    .dataframe tbody tr th:only-of-type {\n",
       "        vertical-align: middle;\n",
       "    }\n",
       "\n",
       "    .dataframe tbody tr th {\n",
       "        vertical-align: top;\n",
       "    }\n",
       "\n",
       "    .dataframe thead th {\n",
       "        text-align: right;\n",
       "    }\n",
       "</style>\n",
       "<table border=\"1\" class=\"dataframe\">\n",
       "  <thead>\n",
       "    <tr style=\"text-align: right;\">\n",
       "      <th></th>\n",
       "      <th>nlags</th>\n",
       "      <th>anisotropy_scaling</th>\n",
       "      <th>coordinates_type</th>\n",
       "      <th>variogram_model</th>\n",
       "      <th>opt_loss</th>\n",
       "    </tr>\n",
       "  </thead>\n",
       "  <tbody>\n",
       "    <tr>\n",
       "      <th>0</th>\n",
       "      <td>11</td>\n",
       "      <td>5.000000</td>\n",
       "      <td>euclidean</td>\n",
       "      <td>exponential</td>\n",
       "      <td>-1.895713</td>\n",
       "    </tr>\n",
       "    <tr>\n",
       "      <th>1</th>\n",
       "      <td>30</td>\n",
       "      <td>1.574664</td>\n",
       "      <td>euclidean</td>\n",
       "      <td>power</td>\n",
       "      <td>-1.891351</td>\n",
       "    </tr>\n",
       "    <tr>\n",
       "      <th>2</th>\n",
       "      <td>12</td>\n",
       "      <td>1.480598</td>\n",
       "      <td>euclidean</td>\n",
       "      <td>spherical</td>\n",
       "      <td>-8.552612</td>\n",
       "    </tr>\n",
       "    <tr>\n",
       "      <th>3</th>\n",
       "      <td>35</td>\n",
       "      <td>2.801148</td>\n",
       "      <td>euclidean</td>\n",
       "      <td>power</td>\n",
       "      <td>-1.727236</td>\n",
       "    </tr>\n",
       "    <tr>\n",
       "      <th>4</th>\n",
       "      <td>2</td>\n",
       "      <td>4.542677</td>\n",
       "      <td>euclidean</td>\n",
       "      <td>spherical</td>\n",
       "      <td>-2.734977</td>\n",
       "    </tr>\n",
       "  </tbody>\n",
       "</table>\n",
       "</div>"
      ],
      "text/plain": [
       "   nlags  anisotropy_scaling coordinates_type variogram_model  opt_loss\n",
       "0     11            5.000000        euclidean     exponential -1.895713\n",
       "1     30            1.574664        euclidean           power -1.891351\n",
       "2     12            1.480598        euclidean       spherical -8.552612\n",
       "3     35            2.801148        euclidean           power -1.727236\n",
       "4      2            4.542677        euclidean       spherical -2.734977"
      ]
     },
     "execution_count": 90,
     "metadata": {},
     "output_type": "execute_result"
    }
   ],
   "source": [
    "ok_hparams = ok_hparams.drop(\"dataset_id\", axis=1)\n",
    "ok_hparams.head()"
   ]
  },
  {
   "cell_type": "code",
   "execution_count": 91,
   "id": "f5d8cde8-580e-41e8-b57d-2214605ba05e",
   "metadata": {},
   "outputs": [
    {
     "data": {
      "image/png": "[encoded data removed]",
      "text/plain": [
       "<Figure size 600x300 with 1 Axes>"
      ]
     },
     "metadata": {},
     "output_type": "display_data"
    }
   ],
   "source": [
    "fig, ax = plt.subplots(figsize=(6, 3))\n",
    "ok_hparams[\"nlags\"].plot.hist(bins=10, ax=ax)\n",
    "ax.set_xlabel(\"No. of lags\");"
   ]
  },
  {
   "cell_type": "code",
   "execution_count": 92,
   "id": "1c227a13-6fbc-4e9f-90c4-aff2cbac0402",
   "metadata": {},
   "outputs": [
    {
     "data": {
      "image/png": "[encoded data removed]",
      "text/plain": [
       "<Figure size 600x300 with 1 Axes>"
      ]
     },
     "metadata": {},
     "output_type": "display_data"
    }
   ],
   "source": [
    "fig, ax = plt.subplots(figsize=(6, 3))\n",
    "ok_hparams[\"anisotropy_scaling\"].plot.hist(bins=10, ax=ax)\n",
    "ax.set_xlabel(\"Anisotropy scaling factor\");"
   ]
  },
  {
   "cell_type": "code",
   "execution_count": 93,
   "id": "d8b3949c-2201-4009-84d6-de20944ca31c",
   "metadata": {},
   "outputs": [
    {
     "data": {
      "image/png": "[encoded data removed]",
      "text/plain": [
       "<Figure size 600x300 with 1 Axes>"
      ]
     },
     "metadata": {},
     "output_type": "display_data"
    }
   ],
   "source": [
    "fig, ax = plt.subplots(figsize=(6, 3))\n",
    "ok_hparams.groupby(\"coordinates_type\").count()[\"nlags\"].plot.bar(ax=ax)\n",
    "ax.set_xlabel(\"Coordinate type\");"
   ]
  },
  {
   "cell_type": "code",
   "execution_count": 94,
   "id": "fddbad30-b20e-4491-9606-332aafb0c56c",
   "metadata": {},
   "outputs": [
    {
     "data": {
      "image/png": "[encoded data removed]",
      "text/plain": [
       "<Figure size 600x300 with 1 Axes>"
      ]
     },
     "metadata": {},
     "output_type": "display_data"
    }
   ],
   "source": [
    "fig, ax = plt.subplots(figsize=(6, 3))\n",
    "ok_hparams.groupby(\"variogram_model\").count()[\"nlags\"].plot.bar(ax=ax)\n",
    "ax.set_xlabel(\"Variogram model\");"
   ]
  },
  {
   "cell_type": "markdown",
   "id": "06f47bbb-78f0-4560-a515-e858fc438edc",
   "metadata": {},
   "source": [
    "### 2b. IDW"
   ]
  },
  {
   "cell_type": "code",
   "execution_count": null,
   "id": "7d57c3c8-bd3f-4c77-b5d2-5b8b399a3074",
   "metadata": {},
   "outputs": [],
   "source": [
    "idw_hparams = pd.read_csv(IDW_RESULTS / \"hparams_summary.csv\")"
   ]
  },
  {
   "cell_type": "code",
   "execution_count": null,
   "id": "376a5088-9903-494d-9098-ccce3d7de070",
   "metadata": {},
   "outputs": [],
   "source": [
    "idw_hparams = sinet_hparams.drop(\"dataset_id\", axis=1)\n",
    "idw_hparams.head()"
   ]
  },
  {
   "cell_type": "code",
   "execution_count": null,
   "id": "20c61975-345a-4c78-ac66-7937b2dc05b2",
   "metadata": {},
   "outputs": [],
   "source": [
    "fig, ax = plt.subplots(figsize=(6, 3))\n",
    "idw_hparams[\"k\"].plot.hist(bins=10, ax=ax)\n",
    "ax.set_xlabel(\"No. of neighbours\");"
   ]
  },
  {
   "cell_type": "code",
   "execution_count": null,
   "id": "d70c48bb-0ea9-4caa-bb4d-45e8d966d04c",
   "metadata": {},
   "outputs": [],
   "source": [
    "fig, ax = plt.subplots(figsize=(6, 3))\n",
    "idw_hparams[\"k_min\"].plot.hist(bins=10, ax=ax)\n",
    "ax.set_xlabel(\"Min. no. of neighbours\");"
   ]
  },
  {
   "cell_type": "code",
   "execution_count": null,
   "id": "ff45fad2-f19e-4c5b-b20a-ce6562cc21b0",
   "metadata": {},
   "outputs": [],
   "source": [
    "fig, ax = plt.subplots(figsize=(6, 3))\n",
    "idw_hparams[\"power\"].plot.hist(bins=10, ax=ax)\n",
    "ax.set_xlabel(\"Power factor\");"
   ]
  },
  {
   "cell_type": "markdown",
   "id": "5a47f4b1-0c74-40f1-9265-0a332e13a368",
   "metadata": {},
   "source": [
    "### 2c. MMGN"
   ]
  },
  {
   "cell_type": "code",
   "execution_count": 58,
   "id": "224d9d64-de89-476f-8caa-effe0379af39",
   "metadata": {},
   "outputs": [],
   "source": [
    "mmgn_hparams = pd.read_csv(MMGN_RESULTS / \"hparams_summary.csv\")"
   ]
  },
  {
   "cell_type": "code",
   "execution_count": 59,
   "id": "262eb328-0175-4230-a8e0-485407bd3283",
   "metadata": {},
   "outputs": [
    {
     "data": {
      "text/html": [
       "<div>\n",
       "<style scoped>\n",
       "    .dataframe tbody tr th:only-of-type {\n",
       "        vertical-align: middle;\n",
       "    }\n",
       "\n",
       "    .dataframe tbody tr th {\n",
       "        vertical-align: top;\n",
       "    }\n",
       "\n",
       "    .dataframe thead th {\n",
       "        text-align: right;\n",
       "    }\n",
       "</style>\n",
       "<table border=\"1\" class=\"dataframe\">\n",
       "  <thead>\n",
       "    <tr style=\"text-align: right;\">\n",
       "      <th></th>\n",
       "      <th>dataset_id</th>\n",
       "      <th>lr</th>\n",
       "      <th>weight_decay</th>\n",
       "      <th>num_epochs</th>\n",
       "      <th>batch_size</th>\n",
       "      <th>hidden_dim</th>\n",
       "      <th>latent_dim</th>\n",
       "      <th>n_layers</th>\n",
       "      <th>input_scale</th>\n",
       "      <th>alpha</th>\n",
       "      <th>opt_loss</th>\n",
       "    </tr>\n",
       "  </thead>\n",
       "  <tbody>\n",
       "    <tr>\n",
       "      <th>0</th>\n",
       "      <td>18840905</td>\n",
       "      <td>0.005825</td>\n",
       "      <td>0.00</td>\n",
       "      <td>500</td>\n",
       "      <td>32</td>\n",
       "      <td>512</td>\n",
       "      <td>32</td>\n",
       "      <td>2</td>\n",
       "      <td>512</td>\n",
       "      <td>0</td>\n",
       "      <td>0.492158</td>\n",
       "    </tr>\n",
       "    <tr>\n",
       "      <th>1</th>\n",
       "      <td>18870704</td>\n",
       "      <td>0.005153</td>\n",
       "      <td>0.00</td>\n",
       "      <td>500</td>\n",
       "      <td>42</td>\n",
       "      <td>512</td>\n",
       "      <td>211</td>\n",
       "      <td>5</td>\n",
       "      <td>512</td>\n",
       "      <td>0</td>\n",
       "      <td>0.708231</td>\n",
       "    </tr>\n",
       "    <tr>\n",
       "      <th>2</th>\n",
       "      <td>18931102</td>\n",
       "      <td>0.010000</td>\n",
       "      <td>0.00</td>\n",
       "      <td>500</td>\n",
       "      <td>293</td>\n",
       "      <td>128</td>\n",
       "      <td>32</td>\n",
       "      <td>5</td>\n",
       "      <td>512</td>\n",
       "      <td>0</td>\n",
       "      <td>0.610652</td>\n",
       "    </tr>\n",
       "    <tr>\n",
       "      <th>3</th>\n",
       "      <td>18960629</td>\n",
       "      <td>0.010000</td>\n",
       "      <td>0.00</td>\n",
       "      <td>500</td>\n",
       "      <td>32</td>\n",
       "      <td>256</td>\n",
       "      <td>32</td>\n",
       "      <td>5</td>\n",
       "      <td>512</td>\n",
       "      <td>0</td>\n",
       "      <td>0.561994</td>\n",
       "    </tr>\n",
       "    <tr>\n",
       "      <th>4</th>\n",
       "      <td>18990407</td>\n",
       "      <td>0.010000</td>\n",
       "      <td>0.01</td>\n",
       "      <td>500</td>\n",
       "      <td>32</td>\n",
       "      <td>1024</td>\n",
       "      <td>32</td>\n",
       "      <td>5</td>\n",
       "      <td>512</td>\n",
       "      <td>1</td>\n",
       "      <td>0.776227</td>\n",
       "    </tr>\n",
       "  </tbody>\n",
       "</table>\n",
       "</div>"
      ],
      "text/plain": [
       "   dataset_id        lr  weight_decay  num_epochs  batch_size  hidden_dim  \\\n",
       "0    18840905  0.005825          0.00         500          32         512   \n",
       "1    18870704  0.005153          0.00         500          42         512   \n",
       "2    18931102  0.010000          0.00         500         293         128   \n",
       "3    18960629  0.010000          0.00         500          32         256   \n",
       "4    18990407  0.010000          0.01         500          32        1024   \n",
       "\n",
       "   latent_dim  n_layers  input_scale  alpha  opt_loss  \n",
       "0          32         2          512      0  0.492158  \n",
       "1         211         5          512      0  0.708231  \n",
       "2          32         5          512      0  0.610652  \n",
       "3          32         5          512      0  0.561994  \n",
       "4          32         5          512      1  0.776227  "
      ]
     },
     "execution_count": 59,
     "metadata": {},
     "output_type": "execute_result"
    }
   ],
   "source": [
    "mmgn_hparams.head()"
   ]
  },
  {
   "cell_type": "code",
   "execution_count": 60,
   "id": "47a52348-059f-4125-a758-139638c901c2",
   "metadata": {},
   "outputs": [
    {
     "data": {
      "image/png": "[encoded data removed]",
      "text/plain": [
       "<Figure size 600x300 with 1 Axes>"
      ]
     },
     "metadata": {},
     "output_type": "display_data"
    }
   ],
   "source": [
    "fig, ax = plt.subplots(figsize=(6, 3))\n",
    "mmgn_hparams[\"lr\"].plot.hist(bins=10, ax=ax)\n",
    "ax.set_xlabel(\"Learning rate\");"
   ]
  },
  {
   "cell_type": "code",
   "execution_count": 61,
   "id": "a2b4f53d-f869-4622-975a-a17162ff470a",
   "metadata": {},
   "outputs": [
    {
     "data": {
      "image/png": "[encoded data removed]",
      "text/plain": [
       "<Figure size 600x300 with 1 Axes>"
      ]
     },
     "metadata": {},
     "output_type": "display_data"
    }
   ],
   "source": [
    "fig, ax = plt.subplots(figsize=(6, 3))\n",
    "mmgn_hparams[\"weight_decay\"].plot.hist(bins=10, ax=ax)\n",
    "ax.set_xlabel(\"Weight decay\");"
   ]
  },
  {
   "cell_type": "code",
   "execution_count": 62,
   "id": "733a9848-4696-421d-8a88-b278b0c087a0",
   "metadata": {},
   "outputs": [
    {
     "data": {
      "image/png": "[encoded data removed]",
      "text/plain": [
       "<Figure size 600x300 with 1 Axes>"
      ]
     },
     "metadata": {},
     "output_type": "display_data"
    }
   ],
   "source": [
    "fig, ax = plt.subplots(figsize=(6, 3))\n",
    "mmgn_hparams[\"hidden_dim\"].plot.hist(bins=10, ax=ax)\n",
    "ax.set_xlabel(\"Hidden dim\");"
   ]
  },
  {
   "cell_type": "code",
   "execution_count": 63,
   "id": "a6ab28a6-40ed-4944-a02c-30dbb0b86db2",
   "metadata": {},
   "outputs": [
    {
     "data": {
      "image/png": "[encoded data removed]",
      "text/plain": [
       "<Figure size 600x300 with 1 Axes>"
      ]
     },
     "metadata": {},
     "output_type": "display_data"
    }
   ],
   "source": [
    "fig, ax = plt.subplots(figsize=(6, 3))\n",
    "mmgn_hparams[\"latent_dim\"].plot.hist(bins=10, ax=ax)\n",
    "ax.set_xlabel(\"Latent dim\");"
   ]
  },
  {
   "cell_type": "code",
   "execution_count": 64,
   "id": "bff1b05e-e14d-47df-8afb-f8c4ae50a57d",
   "metadata": {},
   "outputs": [
    {
     "data": {
      "image/png": "[encoded data removed]",
      "text/plain": [
       "<Figure size 600x300 with 1 Axes>"
      ]
     },
     "metadata": {},
     "output_type": "display_data"
    }
   ],
   "source": [
    "fig, ax = plt.subplots(figsize=(6, 3))\n",
    "mmgn_hparams[\"n_layers\"].plot.hist(bins=10, ax=ax)\n",
    "ax.set_xlabel(\"Number of layers\");"
   ]
  },
  {
   "cell_type": "code",
   "execution_count": 65,
   "id": "a4762474-6344-4ece-aadf-b881fded37a6",
   "metadata": {},
   "outputs": [
    {
     "data": {
      "image/png": "[encoded data removed]",
      "text/plain": [
       "<Figure size 600x300 with 1 Axes>"
      ]
     },
     "metadata": {},
     "output_type": "display_data"
    }
   ],
   "source": [
    "fig, ax = plt.subplots(figsize=(6, 3))\n",
    "mmgn_hparams[\"input_scale\"].plot.hist(bins=10, ax=ax)\n",
    "ax.set_xlabel(\"Input scale\");"
   ]
  },
  {
   "cell_type": "code",
   "execution_count": 66,
   "id": "9f7bd5e5-baf3-4922-891a-d1106f1545a8",
   "metadata": {},
   "outputs": [
    {
     "data": {
      "image/png": "[encoded data removed]",
      "text/plain": [
       "<Figure size 600x300 with 1 Axes>"
      ]
     },
     "metadata": {},
     "output_type": "display_data"
    }
   ],
   "source": [
    "fig, ax = plt.subplots(figsize=(6, 3))\n",
    "mmgn_hparams[\"alpha\"].plot.hist(bins=10, ax=ax)\n",
    "ax.set_xlabel(\"Alpha\");"
   ]
  },
  {
   "cell_type": "code",
   "execution_count": null,
   "id": "93207e9d-a535-4edd-a2f5-e2087874f477",
   "metadata": {},
   "outputs": [],
   "source": []
  },
  {
   "cell_type": "markdown",
   "id": "28878795-2b4b-45ca-a18c-709164b3d912",
   "metadata": {},
   "source": [
    "### 2d. SiNET"
   ]
  },
  {
   "cell_type": "code",
   "execution_count": 39,
   "id": "bdba4c0b-676b-4bf7-8f53-e01df22c5036",
   "metadata": {},
   "outputs": [],
   "source": [
    "sinet_hparams = pd.read_csv(SINET_RESULTS / \"hparams_summary.csv\")"
   ]
  },
  {
   "cell_type": "code",
   "execution_count": 48,
   "id": "78f25285-4032-4f6c-b26d-435c7a0bf327",
   "metadata": {},
   "outputs": [
    {
     "data": {
      "text/html": [
       "<div>\n",
       "<style scoped>\n",
       "    .dataframe tbody tr th:only-of-type {\n",
       "        vertical-align: middle;\n",
       "    }\n",
       "\n",
       "    .dataframe tbody tr th {\n",
       "        vertical-align: top;\n",
       "    }\n",
       "\n",
       "    .dataframe thead th {\n",
       "        text-align: right;\n",
       "    }\n",
       "</style>\n",
       "<table border=\"1\" class=\"dataframe\">\n",
       "  <thead>\n",
       "    <tr style=\"text-align: right;\">\n",
       "      <th></th>\n",
       "      <th>lr</th>\n",
       "      <th>weight_decay</th>\n",
       "      <th>num_epochs</th>\n",
       "      <th>scale</th>\n",
       "      <th>batch_size</th>\n",
       "      <th>mse_loss_weight</th>\n",
       "      <th>eikonal_loss_weight</th>\n",
       "      <th>laplace_loss_weight</th>\n",
       "      <th>patience</th>\n",
       "      <th>hidden_dim</th>\n",
       "      <th>opt_loss</th>\n",
       "    </tr>\n",
       "  </thead>\n",
       "  <tbody>\n",
       "    <tr>\n",
       "      <th>0</th>\n",
       "      <td>0.001947</td>\n",
       "      <td>0.000000</td>\n",
       "      <td>500</td>\n",
       "      <td>2.490679</td>\n",
       "      <td>1024</td>\n",
       "      <td>1.0</td>\n",
       "      <td>0.000000</td>\n",
       "      <td>0.0</td>\n",
       "      <td>10</td>\n",
       "      <td>128</td>\n",
       "      <td>0.444247</td>\n",
       "    </tr>\n",
       "    <tr>\n",
       "      <th>1</th>\n",
       "      <td>0.005793</td>\n",
       "      <td>0.000000</td>\n",
       "      <td>422</td>\n",
       "      <td>10.000000</td>\n",
       "      <td>1024</td>\n",
       "      <td>1.0</td>\n",
       "      <td>0.000000</td>\n",
       "      <td>0.0</td>\n",
       "      <td>200</td>\n",
       "      <td>64</td>\n",
       "      <td>0.715411</td>\n",
       "    </tr>\n",
       "    <tr>\n",
       "      <th>2</th>\n",
       "      <td>0.005813</td>\n",
       "      <td>0.010000</td>\n",
       "      <td>500</td>\n",
       "      <td>8.686217</td>\n",
       "      <td>1024</td>\n",
       "      <td>1.0</td>\n",
       "      <td>0.000000</td>\n",
       "      <td>0.0</td>\n",
       "      <td>49</td>\n",
       "      <td>128</td>\n",
       "      <td>0.658417</td>\n",
       "    </tr>\n",
       "    <tr>\n",
       "      <th>3</th>\n",
       "      <td>0.005640</td>\n",
       "      <td>0.006019</td>\n",
       "      <td>500</td>\n",
       "      <td>5.219253</td>\n",
       "      <td>782</td>\n",
       "      <td>1.0</td>\n",
       "      <td>0.003419</td>\n",
       "      <td>0.0</td>\n",
       "      <td>10</td>\n",
       "      <td>64</td>\n",
       "      <td>0.505999</td>\n",
       "    </tr>\n",
       "    <tr>\n",
       "      <th>4</th>\n",
       "      <td>0.009769</td>\n",
       "      <td>0.000000</td>\n",
       "      <td>307</td>\n",
       "      <td>4.419235</td>\n",
       "      <td>1024</td>\n",
       "      <td>1.0</td>\n",
       "      <td>0.010000</td>\n",
       "      <td>0.0</td>\n",
       "      <td>106</td>\n",
       "      <td>128</td>\n",
       "      <td>0.831679</td>\n",
       "    </tr>\n",
       "  </tbody>\n",
       "</table>\n",
       "</div>"
      ],
      "text/plain": [
       "         lr  weight_decay  num_epochs      scale  batch_size  mse_loss_weight  \\\n",
       "0  0.001947      0.000000         500   2.490679        1024              1.0   \n",
       "1  0.005793      0.000000         422  10.000000        1024              1.0   \n",
       "2  0.005813      0.010000         500   8.686217        1024              1.0   \n",
       "3  0.005640      0.006019         500   5.219253         782              1.0   \n",
       "4  0.009769      0.000000         307   4.419235        1024              1.0   \n",
       "\n",
       "   eikonal_loss_weight  laplace_loss_weight  patience  hidden_dim  opt_loss  \n",
       "0             0.000000                  0.0        10         128  0.444247  \n",
       "1             0.000000                  0.0       200          64  0.715411  \n",
       "2             0.000000                  0.0        49         128  0.658417  \n",
       "3             0.003419                  0.0        10          64  0.505999  \n",
       "4             0.010000                  0.0       106         128  0.831679  "
      ]
     },
     "execution_count": 48,
     "metadata": {},
     "output_type": "execute_result"
    }
   ],
   "source": [
    "sinet_hparams.head()"
   ]
  },
  {
   "cell_type": "code",
   "execution_count": 49,
   "id": "92c4ecb4-913f-4430-be8f-d27a3fd6ec04",
   "metadata": {},
   "outputs": [
    {
     "data": {
      "image/png": "[encoded data removed]",
      "text/plain": [
       "<Figure size 600x300 with 1 Axes>"
      ]
     },
     "metadata": {},
     "output_type": "display_data"
    }
   ],
   "source": [
    "fig, ax = plt.subplots(figsize=(6, 3))\n",
    "sinet_hparams[\"lr\"].plot.hist(bins=10, ax=ax)\n",
    "ax.set_xlabel(\"Learning rate\");"
   ]
  },
  {
   "cell_type": "code",
   "execution_count": 50,
   "id": "424922eb-ccfa-433f-ac1e-ff602a5b066d",
   "metadata": {},
   "outputs": [
    {
     "data": {
      "image/png": "[encoded data removed]",
      "text/plain": [
       "<Figure size 600x300 with 1 Axes>"
      ]
     },
     "metadata": {},
     "output_type": "display_data"
    }
   ],
   "source": [
    "fig, ax = plt.subplots(figsize=(6, 3))\n",
    "sinet_hparams[\"weight_decay\"].plot.hist(bins=10, ax=ax)\n",
    "ax.set_xlabel(\"Weight decay\");"
   ]
  },
  {
   "cell_type": "code",
   "execution_count": 51,
   "id": "0967d696-53b1-4bbd-9bdb-fd551ce956e9",
   "metadata": {},
   "outputs": [
    {
     "data": {
      "image/png": "[encoded data removed]",
      "text/plain": [
       "<Figure size 600x300 with 1 Axes>"
      ]
     },
     "metadata": {},
     "output_type": "display_data"
    }
   ],
   "source": [
    "fig, ax = plt.subplots(figsize=(6, 3))\n",
    "sinet_hparams[\"scale\"].plot.hist(bins=10, ax=ax)\n",
    "ax.set_xlabel(\"Scale\");"
   ]
  },
  {
   "cell_type": "code",
   "execution_count": 52,
   "id": "87ff31cc-16cb-4393-9109-5b5b469296e0",
   "metadata": {},
   "outputs": [
    {
     "data": {
      "image/png": "[encoded data removed]",
      "text/plain": [
       "<Figure size 600x300 with 1 Axes>"
      ]
     },
     "metadata": {},
     "output_type": "display_data"
    }
   ],
   "source": [
    "fig, ax = plt.subplots(figsize=(6, 3))\n",
    "sinet_hparams[\"num_epochs\"].plot.hist(bins=10, ax=ax)\n",
    "ax.set_xlabel(\"No. of epochs\");"
   ]
  },
  {
   "cell_type": "code",
   "execution_count": 53,
   "id": "6dcb95e4-bb3e-42b1-a290-004977d5888c",
   "metadata": {},
   "outputs": [
    {
     "data": {
      "image/png": "[encoded data removed]",
      "text/plain": [
       "<Figure size 600x300 with 1 Axes>"
      ]
     },
     "metadata": {},
     "output_type": "display_data"
    }
   ],
   "source": [
    "fig, ax = plt.subplots(figsize=(6, 3))\n",
    "sinet_hparams[\"batch_size\"].plot.hist(bins=10, ax=ax)\n",
    "ax.set_xlabel(\"Batch size\");"
   ]
  },
  {
   "cell_type": "code",
   "execution_count": 54,
   "id": "3c2d8d96-1fa9-448c-9ca0-aa20321b977e",
   "metadata": {},
   "outputs": [
    {
     "data": {
      "image/png": "[encoded data removed]",
      "text/plain": [
       "<Figure size 600x300 with 1 Axes>"
      ]
     },
     "metadata": {},
     "output_type": "display_data"
    }
   ],
   "source": [
    "fig, ax = plt.subplots(figsize=(6, 3))\n",
    "sinet_hparams[\"hidden_dim\"].plot.hist(bins=10, ax=ax)\n",
    "ax.set_xlabel(\"Hidden dim\");"
   ]
  },
  {
   "cell_type": "code",
   "execution_count": 55,
   "id": "315d77bc-2236-4e12-9644-235c05e7b95f",
   "metadata": {},
   "outputs": [
    {
     "data": {
      "image/png": "[encoded data removed]",
      "text/plain": [
       "<Figure size 600x300 with 1 Axes>"
      ]
     },
     "metadata": {},
     "output_type": "display_data"
    }
   ],
   "source": [
    "fig, ax = plt.subplots(figsize=(6, 3))\n",
    "sinet_hparams[\"mse_loss_weight\"].plot.hist(bins=10, ax=ax)\n",
    "ax.set_xlabel(\"MSE loss weight\");"
   ]
  },
  {
   "cell_type": "code",
   "execution_count": 56,
   "id": "334e58ae-dbc4-45ac-a63d-c1cb0efdd58a",
   "metadata": {},
   "outputs": [
    {
     "data": {
      "image/png": "[encoded data removed]",
      "text/plain": [
       "<Figure size 600x300 with 1 Axes>"
      ]
     },
     "metadata": {},
     "output_type": "display_data"
    }
   ],
   "source": [
    "fig, ax = plt.subplots(figsize=(6, 3))\n",
    "sinet_hparams[\"eikonal_loss_weight\"].plot.hist(bins=10, ax=ax)\n",
    "ax.set_xlabel(\"Eikonal loss weight\");"
   ]
  },
  {
   "cell_type": "code",
   "execution_count": 57,
   "id": "773ca76f-1517-4e44-9b44-546474d49048",
   "metadata": {},
   "outputs": [
    {
     "data": {
      "image/png": "[encoded data removed]",
      "text/plain": [
       "<Figure size 600x300 with 1 Axes>"
      ]
     },
     "metadata": {},
     "output_type": "display_data"
    }
   ],
   "source": [
    "fig, ax = plt.subplots(figsize=(6, 3))\n",
    "sinet_hparams[\"laplace_loss_weight\"].plot.hist(bins=10, ax=ax)\n",
    "ax.set_xlabel(\"Laplace loss weight\");"
   ]
  },
  {
   "cell_type": "code",
   "execution_count": null,
   "id": "385f1e8a-4c51-4e19-b21d-6f9b68d8c9f2",
   "metadata": {},
   "outputs": [],
   "source": []
  }
 ],
 "metadata": {
  "kernelspec": {
   "display_name": "Python 3 (ipykernel)",
   "language": "python",
   "name": "python3"
  },
  "language_info": {
   "codemirror_mode": {
    "name": "ipython",
    "version": 3
   },
   "file_extension": ".py",
   "mimetype": "text/x-python",
   "name": "python",
   "nbconvert_exporter": "python",
   "pygments_lexer": "ipython3",
   "version": "3.12.3"
  }
 },
 "nbformat": 4,
 "nbformat_minor": 5
}
