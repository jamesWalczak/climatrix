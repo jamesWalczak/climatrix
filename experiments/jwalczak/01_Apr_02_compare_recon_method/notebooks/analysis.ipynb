{
 "cells": [
  {
   "cell_type": "markdown",
   "id": "ec09dc2c-9cfe-4bbf-833c-3a045b50ec62",
   "metadata": {},
   "source": [
    "# Thorough Comparison of Reconstruction Methods\n",
    "\n",
    "**Author:** Jakub Walczak, PhD\n",
    "\n",
    "The analysis relies on the experiments' results collected for three investigated methods: OK, IDW, and SiNET.\n",
    "For each out of 100 samples the hyper-parameter optimisation was carried out. Having optimised hyperparameters, \n",
    "the evaluation of methods on test test was performed."
   ]
  },
  {
   "cell_type": "code",
   "execution_count": 1,
   "id": "79b7d56b-65cb-4485-a8af-e4fc29e15c70",
   "metadata": {},
   "outputs": [],
   "source": [
    "from pathlib import Path\n",
    "\n",
    "import pandas as pd\n",
    "import numpy as np"
   ]
  },
  {
   "cell_type": "code",
   "execution_count": 2,
   "id": "a73e7b47-36a0-44b2-aed0-fbee8e9e00da",
   "metadata": {},
   "outputs": [],
   "source": [
    "NOTEBOOK_DIR = Path(__session__).parent.parent"
   ]
  },
  {
   "cell_type": "code",
   "execution_count": 3,
   "id": "f6dc18ce-d8e9-45bd-b27c-808a15b27d73",
   "metadata": {},
   "outputs": [],
   "source": [
    "RESULTS_DIR = NOTEBOOK_DIR / \"results\"\n",
    "OK_RESULTS = RESULTS_DIR / \"ok\"\n",
    "SINET_RESULTS = RESULTS_DIR / \"inr\" / \"sinet\"\n",
    "MMGN_RESULTS = RESULTS_DIR / \"inr\" / \"mmgn\"\n",
    "IDW_RESULTS = RESULTS_DIR / \"idw\""
   ]
  },
  {
   "cell_type": "markdown",
   "id": "bebfbb5c-5ccd-4aae-843b-6f0e520d9f69",
   "metadata": {},
   "source": [
    "## 1. Metrics Comparison"
   ]
  },
  {
   "cell_type": "code",
   "execution_count": 4,
   "id": "c079e81c-d6c4-4c38-a77d-fbe2ebea4334",
   "metadata": {},
   "outputs": [],
   "source": [
    "ok_data = pd.read_csv(OK_RESULTS / \"metrics.csv\").set_index(\"dataset_id\").add_suffix(\"_ok\", axis=1)\n",
    "idw_data = pd.read_csv(IDW_RESULTS / \"metrics.csv\").drop(\"Unnamed: 0\", axis=1).set_index(\"dataset_id\").add_suffix(\"_idw\", axis=1)\n",
    "mmgn_data = pd.read_csv(MMGN_RESULTS / \"metrics.csv\").set_index(\"dataset_id\").add_suffix(\"_mmgn\", axis=1)"
   ]
  },
  {
   "cell_type": "code",
   "execution_count": 5,
   "id": "d269669d-92bb-4647-838b-20a9cba13606",
   "metadata": {},
   "outputs": [
    {
     "data": {
      "text/html": [
       "<div>\n",
       "<style scoped>\n",
       "    .dataframe tbody tr th:only-of-type {\n",
       "        vertical-align: middle;\n",
       "    }\n",
       "\n",
       "    .dataframe tbody tr th {\n",
       "        vertical-align: top;\n",
       "    }\n",
       "\n",
       "    .dataframe thead th {\n",
       "        text-align: right;\n",
       "    }\n",
       "</style>\n",
       "<table border=\"1\" class=\"dataframe\">\n",
       "  <thead>\n",
       "    <tr style=\"text-align: right;\">\n",
       "      <th></th>\n",
       "      <th>RMSE_idw</th>\n",
       "      <th>MAE_idw</th>\n",
       "      <th>Max Abs Error_idw</th>\n",
       "      <th>R^2_idw</th>\n",
       "      <th>RMSE_ok</th>\n",
       "      <th>MAE_ok</th>\n",
       "      <th>Max Abs Error_ok</th>\n",
       "      <th>R^2_ok</th>\n",
       "      <th>RMSE_mmgn</th>\n",
       "      <th>MAE_mmgn</th>\n",
       "      <th>Max Abs Error_mmgn</th>\n",
       "      <th>R^2_mmgn</th>\n",
       "    </tr>\n",
       "    <tr>\n",
       "      <th>dataset_id</th>\n",
       "      <th></th>\n",
       "      <th></th>\n",
       "      <th></th>\n",
       "      <th></th>\n",
       "      <th></th>\n",
       "      <th></th>\n",
       "      <th></th>\n",
       "      <th></th>\n",
       "      <th></th>\n",
       "      <th></th>\n",
       "      <th></th>\n",
       "      <th></th>\n",
       "    </tr>\n",
       "  </thead>\n",
       "  <tbody>\n",
       "    <tr>\n",
       "      <th>18840905</th>\n",
       "      <td>1.632345</td>\n",
       "      <td>0.541123</td>\n",
       "      <td>9.919333</td>\n",
       "      <td>0.702479</td>\n",
       "      <td>2.211450</td>\n",
       "      <td>1.611181</td>\n",
       "      <td>7.867488</td>\n",
       "      <td>-0.891108</td>\n",
       "      <td>1.492393</td>\n",
       "      <td>0.534051</td>\n",
       "      <td>9.027256</td>\n",
       "      <td>0.695957</td>\n",
       "    </tr>\n",
       "    <tr>\n",
       "      <th>18870704</th>\n",
       "      <td>1.970543</td>\n",
       "      <td>0.512244</td>\n",
       "      <td>14.195013</td>\n",
       "      <td>0.841997</td>\n",
       "      <td>3.201369</td>\n",
       "      <td>2.283635</td>\n",
       "      <td>19.535840</td>\n",
       "      <td>-0.531824</td>\n",
       "      <td>1.926431</td>\n",
       "      <td>0.583434</td>\n",
       "      <td>11.726861</td>\n",
       "      <td>0.841992</td>\n",
       "    </tr>\n",
       "    <tr>\n",
       "      <th>18931102</th>\n",
       "      <td>2.366137</td>\n",
       "      <td>0.648505</td>\n",
       "      <td>17.715671</td>\n",
       "      <td>0.578012</td>\n",
       "      <td>3.042758</td>\n",
       "      <td>1.443137</td>\n",
       "      <td>16.895563</td>\n",
       "      <td>0.551751</td>\n",
       "      <td>4.279555</td>\n",
       "      <td>1.124812</td>\n",
       "      <td>44.820801</td>\n",
       "      <td>-0.347935</td>\n",
       "    </tr>\n",
       "    <tr>\n",
       "      <th>18960629</th>\n",
       "      <td>1.331481</td>\n",
       "      <td>0.463859</td>\n",
       "      <td>6.904200</td>\n",
       "      <td>0.855982</td>\n",
       "      <td>3.154360</td>\n",
       "      <td>2.332571</td>\n",
       "      <td>17.886671</td>\n",
       "      <td>-1.306745</td>\n",
       "      <td>1.810096</td>\n",
       "      <td>0.728006</td>\n",
       "      <td>6.759269</td>\n",
       "      <td>0.710604</td>\n",
       "    </tr>\n",
       "    <tr>\n",
       "      <th>18990407</th>\n",
       "      <td>2.006628</td>\n",
       "      <td>0.665399</td>\n",
       "      <td>12.885067</td>\n",
       "      <td>0.879137</td>\n",
       "      <td>6.625489</td>\n",
       "      <td>4.984438</td>\n",
       "      <td>17.690434</td>\n",
       "      <td>-0.760759</td>\n",
       "      <td>3.886483</td>\n",
       "      <td>1.150425</td>\n",
       "      <td>26.785406</td>\n",
       "      <td>0.592009</td>\n",
       "    </tr>\n",
       "  </tbody>\n",
       "</table>\n",
       "</div>"
      ],
      "text/plain": [
       "            RMSE_idw   MAE_idw  Max Abs Error_idw   R^2_idw   RMSE_ok  \\\n",
       "dataset_id                                                              \n",
       "18840905    1.632345  0.541123           9.919333  0.702479  2.211450   \n",
       "18870704    1.970543  0.512244          14.195013  0.841997  3.201369   \n",
       "18931102    2.366137  0.648505          17.715671  0.578012  3.042758   \n",
       "18960629    1.331481  0.463859           6.904200  0.855982  3.154360   \n",
       "18990407    2.006628  0.665399          12.885067  0.879137  6.625489   \n",
       "\n",
       "              MAE_ok  Max Abs Error_ok    R^2_ok  RMSE_mmgn  MAE_mmgn  \\\n",
       "dataset_id                                                              \n",
       "18840905    1.611181          7.867488 -0.891108   1.492393  0.534051   \n",
       "18870704    2.283635         19.535840 -0.531824   1.926431  0.583434   \n",
       "18931102    1.443137         16.895563  0.551751   4.279555  1.124812   \n",
       "18960629    2.332571         17.886671 -1.306745   1.810096  0.728006   \n",
       "18990407    4.984438         17.690434 -0.760759   3.886483  1.150425   \n",
       "\n",
       "            Max Abs Error_mmgn  R^2_mmgn  \n",
       "dataset_id                                \n",
       "18840905              9.027256  0.695957  \n",
       "18870704             11.726861  0.841992  \n",
       "18931102             44.820801 -0.347935  \n",
       "18960629              6.759269  0.710604  \n",
       "18990407             26.785406  0.592009  "
      ]
     },
     "execution_count": 5,
     "metadata": {},
     "output_type": "execute_result"
    }
   ],
   "source": [
    "all_data = pd.merge(\n",
    "    idw_data,\n",
    "    ok_data,\n",
    "    how=\"inner\",\n",
    "    on=\"dataset_id\",\n",
    ")\n",
    "all_data = pd.merge(\n",
    "    all_data,\n",
    "    mmgn_data,\n",
    "    how=\"inner\",\n",
    "    on=\"dataset_id\"\n",
    ")\n",
    "all_data.head()"
   ]
  },
  {
   "cell_type": "code",
   "execution_count": 6,
   "id": "005445bc-93dc-47fe-82b0-63745aad11ae",
   "metadata": {},
   "outputs": [],
   "source": [
    "order = [\"idw\", \"ok\", \"mmgn\"]\n",
    "rmse_best_idx = np.argmin(\n",
    "    all_data[[\"RMSE_idw\", \"RMSE_ok\", \"RMSE_mmgn\"]], axis=1\n",
    ")\n",
    "mae_best_idx = np.argmin(\n",
    "    all_data[[\"MAE_idw\", \"MAE_ok\", \"MAE_mmgn\"]], axis=1\n",
    ")\n",
    "r2_best_idx = np.argmax(all_data[[\"R^2_idw\", \"R^2_ok\", \"R^2_mmgn\"]], axis=1)\n",
    "mabs_best_idx = np.argmin(\n",
    "    all_data[[\"Max Abs Error_idw\", \"Max Abs Error_ok\", \"Max Abs Error_mmgn\"]],\n",
    "    axis=1,\n",
    ")\n",
    "all_data[\"best_MAE\"] = [order[i] for i in mae_best_idx]\n",
    "all_data[\"best_RMSE\"] = [order[i] for i in rmse_best_idx]\n",
    "all_data[\"best_R^2\"] = [order[i] for i in r2_best_idx]\n",
    "all_data[\"best_Max Abs Error\"] = [order[i] for i in mabs_best_idx]"
   ]
  },
  {
   "cell_type": "code",
   "execution_count": 7,
   "id": "483bc695-da70-4490-aaf8-b3eedf85b944",
   "metadata": {},
   "outputs": [],
   "source": [
    "all_data = all_data[\n",
    "    [\n",
    "        \"RMSE_idw\",\n",
    "        \"RMSE_ok\",\n",
    "        \"RMSE_mmgn\",\n",
    "        \"best_RMSE\",\n",
    "        \"MAE_idw\",\n",
    "        \"MAE_ok\",\n",
    "        \"MAE_mmgn\",\n",
    "        \"best_MAE\",        \n",
    "        \"Max Abs Error_idw\",\n",
    "        \"Max Abs Error_ok\",\n",
    "        \"Max Abs Error_mmgn\",\n",
    "        \"best_Max Abs Error\",\n",
    "        \"R^2_idw\",\n",
    "        \"R^2_ok\",\n",
    "        \"R^2_mmgn\",\n",
    "        \"best_R^2\",\n",
    "    ]\n",
    "]"
   ]
  },
  {
   "cell_type": "code",
   "execution_count": 8,
   "id": "688df313-0d31-44df-a3d5-3a5016270169",
   "metadata": {},
   "outputs": [
    {
     "data": {
      "text/html": [
       "<div>\n",
       "<style scoped>\n",
       "    .dataframe tbody tr th:only-of-type {\n",
       "        vertical-align: middle;\n",
       "    }\n",
       "\n",
       "    .dataframe tbody tr th {\n",
       "        vertical-align: top;\n",
       "    }\n",
       "\n",
       "    .dataframe thead th {\n",
       "        text-align: right;\n",
       "    }\n",
       "</style>\n",
       "<table border=\"1\" class=\"dataframe\">\n",
       "  <thead>\n",
       "    <tr style=\"text-align: right;\">\n",
       "      <th></th>\n",
       "      <th>RMSE_idw</th>\n",
       "      <th>RMSE_ok</th>\n",
       "      <th>RMSE_mmgn</th>\n",
       "      <th>best_RMSE</th>\n",
       "      <th>MAE_idw</th>\n",
       "      <th>MAE_ok</th>\n",
       "      <th>MAE_mmgn</th>\n",
       "      <th>best_MAE</th>\n",
       "      <th>Max Abs Error_idw</th>\n",
       "      <th>Max Abs Error_ok</th>\n",
       "      <th>Max Abs Error_mmgn</th>\n",
       "      <th>best_Max Abs Error</th>\n",
       "      <th>R^2_idw</th>\n",
       "      <th>R^2_ok</th>\n",
       "      <th>R^2_mmgn</th>\n",
       "      <th>best_R^2</th>\n",
       "    </tr>\n",
       "    <tr>\n",
       "      <th>dataset_id</th>\n",
       "      <th></th>\n",
       "      <th></th>\n",
       "      <th></th>\n",
       "      <th></th>\n",
       "      <th></th>\n",
       "      <th></th>\n",
       "      <th></th>\n",
       "      <th></th>\n",
       "      <th></th>\n",
       "      <th></th>\n",
       "      <th></th>\n",
       "      <th></th>\n",
       "      <th></th>\n",
       "      <th></th>\n",
       "      <th></th>\n",
       "      <th></th>\n",
       "    </tr>\n",
       "  </thead>\n",
       "  <tbody>\n",
       "    <tr>\n",
       "      <th>18840905</th>\n",
       "      <td>1.632345</td>\n",
       "      <td>2.211450</td>\n",
       "      <td>1.492393</td>\n",
       "      <td>mmgn</td>\n",
       "      <td>0.541123</td>\n",
       "      <td>1.611181</td>\n",
       "      <td>0.534051</td>\n",
       "      <td>mmgn</td>\n",
       "      <td>9.919333</td>\n",
       "      <td>7.867488</td>\n",
       "      <td>9.027256</td>\n",
       "      <td>ok</td>\n",
       "      <td>0.702479</td>\n",
       "      <td>-0.891108</td>\n",
       "      <td>0.695957</td>\n",
       "      <td>idw</td>\n",
       "    </tr>\n",
       "    <tr>\n",
       "      <th>18870704</th>\n",
       "      <td>1.970543</td>\n",
       "      <td>3.201369</td>\n",
       "      <td>1.926431</td>\n",
       "      <td>mmgn</td>\n",
       "      <td>0.512244</td>\n",
       "      <td>2.283635</td>\n",
       "      <td>0.583434</td>\n",
       "      <td>idw</td>\n",
       "      <td>14.195013</td>\n",
       "      <td>19.535840</td>\n",
       "      <td>11.726861</td>\n",
       "      <td>mmgn</td>\n",
       "      <td>0.841997</td>\n",
       "      <td>-0.531824</td>\n",
       "      <td>0.841992</td>\n",
       "      <td>idw</td>\n",
       "    </tr>\n",
       "    <tr>\n",
       "      <th>18931102</th>\n",
       "      <td>2.366137</td>\n",
       "      <td>3.042758</td>\n",
       "      <td>4.279555</td>\n",
       "      <td>idw</td>\n",
       "      <td>0.648505</td>\n",
       "      <td>1.443137</td>\n",
       "      <td>1.124812</td>\n",
       "      <td>idw</td>\n",
       "      <td>17.715671</td>\n",
       "      <td>16.895563</td>\n",
       "      <td>44.820801</td>\n",
       "      <td>ok</td>\n",
       "      <td>0.578012</td>\n",
       "      <td>0.551751</td>\n",
       "      <td>-0.347935</td>\n",
       "      <td>idw</td>\n",
       "    </tr>\n",
       "    <tr>\n",
       "      <th>18960629</th>\n",
       "      <td>1.331481</td>\n",
       "      <td>3.154360</td>\n",
       "      <td>1.810096</td>\n",
       "      <td>idw</td>\n",
       "      <td>0.463859</td>\n",
       "      <td>2.332571</td>\n",
       "      <td>0.728006</td>\n",
       "      <td>idw</td>\n",
       "      <td>6.904200</td>\n",
       "      <td>17.886671</td>\n",
       "      <td>6.759269</td>\n",
       "      <td>mmgn</td>\n",
       "      <td>0.855982</td>\n",
       "      <td>-1.306745</td>\n",
       "      <td>0.710604</td>\n",
       "      <td>idw</td>\n",
       "    </tr>\n",
       "    <tr>\n",
       "      <th>18990407</th>\n",
       "      <td>2.006628</td>\n",
       "      <td>6.625489</td>\n",
       "      <td>3.886483</td>\n",
       "      <td>idw</td>\n",
       "      <td>0.665399</td>\n",
       "      <td>4.984438</td>\n",
       "      <td>1.150425</td>\n",
       "      <td>idw</td>\n",
       "      <td>12.885067</td>\n",
       "      <td>17.690434</td>\n",
       "      <td>26.785406</td>\n",
       "      <td>idw</td>\n",
       "      <td>0.879137</td>\n",
       "      <td>-0.760759</td>\n",
       "      <td>0.592009</td>\n",
       "      <td>idw</td>\n",
       "    </tr>\n",
       "    <tr>\n",
       "      <th>...</th>\n",
       "      <td>...</td>\n",
       "      <td>...</td>\n",
       "      <td>...</td>\n",
       "      <td>...</td>\n",
       "      <td>...</td>\n",
       "      <td>...</td>\n",
       "      <td>...</td>\n",
       "      <td>...</td>\n",
       "      <td>...</td>\n",
       "      <td>...</td>\n",
       "      <td>...</td>\n",
       "      <td>...</td>\n",
       "      <td>...</td>\n",
       "      <td>...</td>\n",
       "      <td>...</td>\n",
       "      <td>...</td>\n",
       "    </tr>\n",
       "    <tr>\n",
       "      <th>20210609</th>\n",
       "      <td>2.120235</td>\n",
       "      <td>3.091622</td>\n",
       "      <td>2.185787</td>\n",
       "      <td>idw</td>\n",
       "      <td>0.924351</td>\n",
       "      <td>2.387241</td>\n",
       "      <td>1.116736</td>\n",
       "      <td>idw</td>\n",
       "      <td>24.058714</td>\n",
       "      <td>18.576019</td>\n",
       "      <td>26.105190</td>\n",
       "      <td>ok</td>\n",
       "      <td>0.496391</td>\n",
       "      <td>-0.023875</td>\n",
       "      <td>0.416238</td>\n",
       "      <td>idw</td>\n",
       "    </tr>\n",
       "    <tr>\n",
       "      <th>20220104</th>\n",
       "      <td>3.942320</td>\n",
       "      <td>5.843722</td>\n",
       "      <td>4.870460</td>\n",
       "      <td>idw</td>\n",
       "      <td>1.567619</td>\n",
       "      <td>3.863904</td>\n",
       "      <td>2.116874</td>\n",
       "      <td>idw</td>\n",
       "      <td>29.255494</td>\n",
       "      <td>35.979783</td>\n",
       "      <td>49.982815</td>\n",
       "      <td>idw</td>\n",
       "      <td>0.720341</td>\n",
       "      <td>-0.876975</td>\n",
       "      <td>0.572961</td>\n",
       "      <td>idw</td>\n",
       "    </tr>\n",
       "    <tr>\n",
       "      <th>20230224</th>\n",
       "      <td>3.822437</td>\n",
       "      <td>5.080181</td>\n",
       "      <td>4.104940</td>\n",
       "      <td>idw</td>\n",
       "      <td>1.506384</td>\n",
       "      <td>3.202071</td>\n",
       "      <td>1.839905</td>\n",
       "      <td>idw</td>\n",
       "      <td>28.765271</td>\n",
       "      <td>24.849781</td>\n",
       "      <td>42.954346</td>\n",
       "      <td>ok</td>\n",
       "      <td>0.597967</td>\n",
       "      <td>-0.063667</td>\n",
       "      <td>0.557561</td>\n",
       "      <td>idw</td>\n",
       "    </tr>\n",
       "    <tr>\n",
       "      <th>20240105</th>\n",
       "      <td>6.806410</td>\n",
       "      <td>9.409883</td>\n",
       "      <td>8.867543</td>\n",
       "      <td>idw</td>\n",
       "      <td>2.745800</td>\n",
       "      <td>6.477326</td>\n",
       "      <td>3.792924</td>\n",
       "      <td>idw</td>\n",
       "      <td>42.397618</td>\n",
       "      <td>40.473933</td>\n",
       "      <td>102.879074</td>\n",
       "      <td>ok</td>\n",
       "      <td>0.712775</td>\n",
       "      <td>-0.001043</td>\n",
       "      <td>0.571119</td>\n",
       "      <td>idw</td>\n",
       "    </tr>\n",
       "    <tr>\n",
       "      <th>20250331</th>\n",
       "      <td>3.285777</td>\n",
       "      <td>5.000239</td>\n",
       "      <td>3.751624</td>\n",
       "      <td>idw</td>\n",
       "      <td>1.317328</td>\n",
       "      <td>3.014638</td>\n",
       "      <td>1.640530</td>\n",
       "      <td>idw</td>\n",
       "      <td>27.617684</td>\n",
       "      <td>42.306359</td>\n",
       "      <td>34.840031</td>\n",
       "      <td>idw</td>\n",
       "      <td>0.512214</td>\n",
       "      <td>-2.427064</td>\n",
       "      <td>0.238976</td>\n",
       "      <td>idw</td>\n",
       "    </tr>\n",
       "  </tbody>\n",
       "</table>\n",
       "<p>100 rows × 16 columns</p>\n",
       "</div>"
      ],
      "text/plain": [
       "            RMSE_idw   RMSE_ok  RMSE_mmgn best_RMSE   MAE_idw    MAE_ok  \\\n",
       "dataset_id                                                                \n",
       "18840905    1.632345  2.211450   1.492393      mmgn  0.541123  1.611181   \n",
       "18870704    1.970543  3.201369   1.926431      mmgn  0.512244  2.283635   \n",
       "18931102    2.366137  3.042758   4.279555       idw  0.648505  1.443137   \n",
       "18960629    1.331481  3.154360   1.810096       idw  0.463859  2.332571   \n",
       "18990407    2.006628  6.625489   3.886483       idw  0.665399  4.984438   \n",
       "...              ...       ...        ...       ...       ...       ...   \n",
       "20210609    2.120235  3.091622   2.185787       idw  0.924351  2.387241   \n",
       "20220104    3.942320  5.843722   4.870460       idw  1.567619  3.863904   \n",
       "20230224    3.822437  5.080181   4.104940       idw  1.506384  3.202071   \n",
       "20240105    6.806410  9.409883   8.867543       idw  2.745800  6.477326   \n",
       "20250331    3.285777  5.000239   3.751624       idw  1.317328  3.014638   \n",
       "\n",
       "            MAE_mmgn best_MAE  Max Abs Error_idw  Max Abs Error_ok  \\\n",
       "dataset_id                                                           \n",
       "18840905    0.534051     mmgn           9.919333          7.867488   \n",
       "18870704    0.583434      idw          14.195013         19.535840   \n",
       "18931102    1.124812      idw          17.715671         16.895563   \n",
       "18960629    0.728006      idw           6.904200         17.886671   \n",
       "18990407    1.150425      idw          12.885067         17.690434   \n",
       "...              ...      ...                ...               ...   \n",
       "20210609    1.116736      idw          24.058714         18.576019   \n",
       "20220104    2.116874      idw          29.255494         35.979783   \n",
       "20230224    1.839905      idw          28.765271         24.849781   \n",
       "20240105    3.792924      idw          42.397618         40.473933   \n",
       "20250331    1.640530      idw          27.617684         42.306359   \n",
       "\n",
       "            Max Abs Error_mmgn best_Max Abs Error   R^2_idw    R^2_ok  \\\n",
       "dataset_id                                                              \n",
       "18840905              9.027256                 ok  0.702479 -0.891108   \n",
       "18870704             11.726861               mmgn  0.841997 -0.531824   \n",
       "18931102             44.820801                 ok  0.578012  0.551751   \n",
       "18960629              6.759269               mmgn  0.855982 -1.306745   \n",
       "18990407             26.785406                idw  0.879137 -0.760759   \n",
       "...                        ...                ...       ...       ...   \n",
       "20210609             26.105190                 ok  0.496391 -0.023875   \n",
       "20220104             49.982815                idw  0.720341 -0.876975   \n",
       "20230224             42.954346                 ok  0.597967 -0.063667   \n",
       "20240105            102.879074                 ok  0.712775 -0.001043   \n",
       "20250331             34.840031                idw  0.512214 -2.427064   \n",
       "\n",
       "            R^2_mmgn best_R^2  \n",
       "dataset_id                     \n",
       "18840905    0.695957      idw  \n",
       "18870704    0.841992      idw  \n",
       "18931102   -0.347935      idw  \n",
       "18960629    0.710604      idw  \n",
       "18990407    0.592009      idw  \n",
       "...              ...      ...  \n",
       "20210609    0.416238      idw  \n",
       "20220104    0.572961      idw  \n",
       "20230224    0.557561      idw  \n",
       "20240105    0.571119      idw  \n",
       "20250331    0.238976      idw  \n",
       "\n",
       "[100 rows x 16 columns]"
      ]
     },
     "execution_count": 8,
     "metadata": {},
     "output_type": "execute_result"
    }
   ],
   "source": [
    "all_data"
   ]
  },
  {
   "cell_type": "markdown",
   "id": "216c0830-acde-4cef-b1cc-f7fc1e623d3b",
   "metadata": {},
   "source": [
    "## 2. Hyperparameters analysis"
   ]
  },
  {
   "cell_type": "code",
   "execution_count": 9,
   "id": "e6462051-169f-4905-841e-def4493974f6",
   "metadata": {},
   "outputs": [],
   "source": [
    "import matplotlib.pyplot as plt\n",
    "import seaborn as sns\n",
    "\n",
    "sns.set_style(\"dark\")"
   ]
  },
  {
   "cell_type": "markdown",
   "id": "47db3759-ce87-44ed-a2e1-d5875cb8fc84",
   "metadata": {},
   "source": [
    "### 2a. Ordinary Kriging"
   ]
  },
  {
   "cell_type": "code",
   "execution_count": 10,
   "id": "d4e37236-2daf-4056-8b2e-285f50745deb",
   "metadata": {},
   "outputs": [],
   "source": [
    "ok_hparams = pd.read_csv(OK_RESULTS / \"hparams_summary.csv\")"
   ]
  },
  {
   "cell_type": "code",
   "execution_count": 11,
   "id": "3fe1ca51-8de0-4ee4-b77c-0ec023a0055f",
   "metadata": {},
   "outputs": [
    {
     "data": {
      "text/html": [
       "<div>\n",
       "<style scoped>\n",
       "    .dataframe tbody tr th:only-of-type {\n",
       "        vertical-align: middle;\n",
       "    }\n",
       "\n",
       "    .dataframe tbody tr th {\n",
       "        vertical-align: top;\n",
       "    }\n",
       "\n",
       "    .dataframe thead th {\n",
       "        text-align: right;\n",
       "    }\n",
       "</style>\n",
       "<table border=\"1\" class=\"dataframe\">\n",
       "  <thead>\n",
       "    <tr style=\"text-align: right;\">\n",
       "      <th></th>\n",
       "      <th>nlags</th>\n",
       "      <th>anisotropy_scaling</th>\n",
       "      <th>coordinates_type</th>\n",
       "      <th>variogram_model</th>\n",
       "      <th>opt_loss</th>\n",
       "    </tr>\n",
       "  </thead>\n",
       "  <tbody>\n",
       "    <tr>\n",
       "      <th>0</th>\n",
       "      <td>2</td>\n",
       "      <td>5.000000</td>\n",
       "      <td>euclidean</td>\n",
       "      <td>linear</td>\n",
       "      <td>1.659052</td>\n",
       "    </tr>\n",
       "    <tr>\n",
       "      <th>1</th>\n",
       "      <td>29</td>\n",
       "      <td>3.990088</td>\n",
       "      <td>geographic</td>\n",
       "      <td>power</td>\n",
       "      <td>3.390836</td>\n",
       "    </tr>\n",
       "    <tr>\n",
       "      <th>2</th>\n",
       "      <td>40</td>\n",
       "      <td>5.000000</td>\n",
       "      <td>geographic</td>\n",
       "      <td>power</td>\n",
       "      <td>1.538154</td>\n",
       "    </tr>\n",
       "    <tr>\n",
       "      <th>3</th>\n",
       "      <td>9</td>\n",
       "      <td>0.058223</td>\n",
       "      <td>geographic</td>\n",
       "      <td>gaussian</td>\n",
       "      <td>2.375506</td>\n",
       "    </tr>\n",
       "    <tr>\n",
       "      <th>4</th>\n",
       "      <td>16</td>\n",
       "      <td>5.000000</td>\n",
       "      <td>euclidean</td>\n",
       "      <td>exponential</td>\n",
       "      <td>1.583755</td>\n",
       "    </tr>\n",
       "  </tbody>\n",
       "</table>\n",
       "</div>"
      ],
      "text/plain": [
       "   nlags  anisotropy_scaling coordinates_type variogram_model  opt_loss\n",
       "0      2            5.000000        euclidean          linear  1.659052\n",
       "1     29            3.990088       geographic           power  3.390836\n",
       "2     40            5.000000       geographic           power  1.538154\n",
       "3      9            0.058223       geographic        gaussian  2.375506\n",
       "4     16            5.000000        euclidean     exponential  1.583755"
      ]
     },
     "execution_count": 11,
     "metadata": {},
     "output_type": "execute_result"
    }
   ],
   "source": [
    "ok_hparams = ok_hparams.drop(\"dataset_id\", axis=1)\n",
    "ok_hparams.head()"
   ]
  },
  {
   "cell_type": "code",
   "execution_count": 12,
   "id": "f5d8cde8-580e-41e8-b57d-2214605ba05e",
   "metadata": {},
   "outputs": [
    {
     "data": {
      "image/png": "[encoded data removed]",
      "text/plain": [
       "<Figure size 600x300 with 1 Axes>"
      ]
     },
     "metadata": {},
     "output_type": "display_data"
    }
   ],
   "source": [
    "fig, ax = plt.subplots(figsize=(6, 3))\n",
    "ok_hparams[\"nlags\"].plot.hist(bins=10, ax=ax)\n",
    "ax.set_xlabel(\"No. of lags\");"
   ]
  },
  {
   "cell_type": "code",
   "execution_count": 13,
   "id": "1c227a13-6fbc-4e9f-90c4-aff2cbac0402",
   "metadata": {},
   "outputs": [
    {
     "data": {
      "image/png": "[encoded data removed]",
      "text/plain": [
       "<Figure size 600x300 with 1 Axes>"
      ]
     },
     "metadata": {},
     "output_type": "display_data"
    }
   ],
   "source": [
    "fig, ax = plt.subplots(figsize=(6, 3))\n",
    "ok_hparams[\"anisotropy_scaling\"].plot.hist(bins=10, ax=ax)\n",
    "ax.set_xlabel(\"Anisotropy scaling factor\");"
   ]
  },
  {
   "cell_type": "code",
   "execution_count": 14,
   "id": "d8b3949c-2201-4009-84d6-de20944ca31c",
   "metadata": {},
   "outputs": [
    {
     "data": {
      "image/png": "[encoded data removed]",
      "text/plain": [
       "<Figure size 600x300 with 1 Axes>"
      ]
     },
     "metadata": {},
     "output_type": "display_data"
    }
   ],
   "source": [
    "fig, ax = plt.subplots(figsize=(6, 3))\n",
    "ok_hparams.groupby(\"coordinates_type\").count()[\"nlags\"].plot.bar(ax=ax)\n",
    "ax.set_xlabel(\"Coordinate type\");"
   ]
  },
  {
   "cell_type": "code",
   "execution_count": 15,
   "id": "fddbad30-b20e-4491-9606-332aafb0c56c",
   "metadata": {},
   "outputs": [
    {
     "data": {
      "image/png": "[encoded data removed]",
      "text/plain": [
       "<Figure size 600x300 with 1 Axes>"
      ]
     },
     "metadata": {},
     "output_type": "display_data"
    }
   ],
   "source": [
    "fig, ax = plt.subplots(figsize=(6, 3))\n",
    "ok_hparams.groupby(\"variogram_model\").count()[\"nlags\"].plot.bar(ax=ax)\n",
    "ax.set_xlabel(\"Variogram model\");"
   ]
  },
  {
   "cell_type": "markdown",
   "id": "06f47bbb-78f0-4560-a515-e858fc438edc",
   "metadata": {},
   "source": [
    "### 2b. IDW"
   ]
  },
  {
   "cell_type": "code",
   "execution_count": 16,
   "id": "7d57c3c8-bd3f-4c77-b5d2-5b8b399a3074",
   "metadata": {},
   "outputs": [],
   "source": [
    "idw_hparams = pd.read_csv(IDW_RESULTS / \"hparams_summary.csv\")"
   ]
  },
  {
   "cell_type": "code",
   "execution_count": 17,
   "id": "376a5088-9903-494d-9098-ccce3d7de070",
   "metadata": {},
   "outputs": [
    {
     "data": {
      "text/html": [
       "<div>\n",
       "<style scoped>\n",
       "    .dataframe tbody tr th:only-of-type {\n",
       "        vertical-align: middle;\n",
       "    }\n",
       "\n",
       "    .dataframe tbody tr th {\n",
       "        vertical-align: top;\n",
       "    }\n",
       "\n",
       "    .dataframe thead th {\n",
       "        text-align: right;\n",
       "    }\n",
       "</style>\n",
       "<table border=\"1\" class=\"dataframe\">\n",
       "  <thead>\n",
       "    <tr style=\"text-align: right;\">\n",
       "      <th></th>\n",
       "      <th>Unnamed: 0</th>\n",
       "      <th>k</th>\n",
       "      <th>power</th>\n",
       "      <th>opt_loss</th>\n",
       "    </tr>\n",
       "  </thead>\n",
       "  <tbody>\n",
       "    <tr>\n",
       "      <th>0</th>\n",
       "      <td>0</td>\n",
       "      <td>7</td>\n",
       "      <td>2.639309</td>\n",
       "      <td>0.399391</td>\n",
       "    </tr>\n",
       "    <tr>\n",
       "      <th>1</th>\n",
       "      <td>1</td>\n",
       "      <td>45</td>\n",
       "      <td>3.894711</td>\n",
       "      <td>0.461060</td>\n",
       "    </tr>\n",
       "    <tr>\n",
       "      <th>2</th>\n",
       "      <td>2</td>\n",
       "      <td>13</td>\n",
       "      <td>2.347221</td>\n",
       "      <td>0.478380</td>\n",
       "    </tr>\n",
       "    <tr>\n",
       "      <th>3</th>\n",
       "      <td>3</td>\n",
       "      <td>14</td>\n",
       "      <td>2.124421</td>\n",
       "      <td>0.323162</td>\n",
       "    </tr>\n",
       "    <tr>\n",
       "      <th>4</th>\n",
       "      <td>4</td>\n",
       "      <td>34</td>\n",
       "      <td>2.574446</td>\n",
       "      <td>0.579034</td>\n",
       "    </tr>\n",
       "  </tbody>\n",
       "</table>\n",
       "</div>"
      ],
      "text/plain": [
       "   Unnamed: 0   k     power  opt_loss\n",
       "0           0   7  2.639309  0.399391\n",
       "1           1  45  3.894711  0.461060\n",
       "2           2  13  2.347221  0.478380\n",
       "3           3  14  2.124421  0.323162\n",
       "4           4  34  2.574446  0.579034"
      ]
     },
     "execution_count": 17,
     "metadata": {},
     "output_type": "execute_result"
    }
   ],
   "source": [
    "idw_hparams = idw_hparams.drop(\"dataset_id\", axis=1)\n",
    "idw_hparams.head()"
   ]
  },
  {
   "cell_type": "code",
   "execution_count": 18,
   "id": "20c61975-345a-4c78-ac66-7937b2dc05b2",
   "metadata": {},
   "outputs": [
    {
     "data": {
      "image/png": "[encoded data removed]",
      "text/plain": [
       "<Figure size 600x300 with 1 Axes>"
      ]
     },
     "metadata": {},
     "output_type": "display_data"
    }
   ],
   "source": [
    "fig, ax = plt.subplots(figsize=(6, 3))\n",
    "idw_hparams[\"k\"].plot.hist(bins=10, ax=ax)\n",
    "ax.set_xlabel(\"No. of neighbours\");"
   ]
  },
  {
   "cell_type": "code",
   "execution_count": 19,
   "id": "ff45fad2-f19e-4c5b-b20a-ce6562cc21b0",
   "metadata": {},
   "outputs": [
    {
     "data": {
      "image/png": "[encoded data removed]",
      "text/plain": [
       "<Figure size 600x300 with 1 Axes>"
      ]
     },
     "metadata": {},
     "output_type": "display_data"
    }
   ],
   "source": [
    "fig, ax = plt.subplots(figsize=(6, 3))\n",
    "idw_hparams[\"power\"].plot.hist(bins=10, ax=ax)\n",
    "ax.set_xlabel(\"Power factor\");"
   ]
  },
  {
   "cell_type": "markdown",
   "id": "5a47f4b1-0c74-40f1-9265-0a332e13a368",
   "metadata": {},
   "source": [
    "### 2c. MMGN"
   ]
  },
  {
   "cell_type": "code",
   "execution_count": 20,
   "id": "224d9d64-de89-476f-8caa-effe0379af39",
   "metadata": {},
   "outputs": [],
   "source": [
    "mmgn_hparams = pd.read_csv(MMGN_RESULTS / \"hparams_summary.csv\")"
   ]
  },
  {
   "cell_type": "code",
   "execution_count": 21,
   "id": "262eb328-0175-4230-a8e0-485407bd3283",
   "metadata": {},
   "outputs": [
    {
     "data": {
      "text/html": [
       "<div>\n",
       "<style scoped>\n",
       "    .dataframe tbody tr th:only-of-type {\n",
       "        vertical-align: middle;\n",
       "    }\n",
       "\n",
       "    .dataframe tbody tr th {\n",
       "        vertical-align: top;\n",
       "    }\n",
       "\n",
       "    .dataframe thead th {\n",
       "        text-align: right;\n",
       "    }\n",
       "</style>\n",
       "<table border=\"1\" class=\"dataframe\">\n",
       "  <thead>\n",
       "    <tr style=\"text-align: right;\">\n",
       "      <th></th>\n",
       "      <th>dataset_id</th>\n",
       "      <th>lr</th>\n",
       "      <th>weight_decay</th>\n",
       "      <th>batch_size</th>\n",
       "      <th>hidden_dim</th>\n",
       "      <th>latent_dim</th>\n",
       "      <th>n_layers</th>\n",
       "      <th>input_scale</th>\n",
       "      <th>alpha</th>\n",
       "      <th>opt_loss</th>\n",
       "    </tr>\n",
       "  </thead>\n",
       "  <tbody>\n",
       "    <tr>\n",
       "      <th>0</th>\n",
       "      <td>18990407</td>\n",
       "      <td>0.010032</td>\n",
       "      <td>0.036598</td>\n",
       "      <td>284</td>\n",
       "      <td>512</td>\n",
       "      <td>64</td>\n",
       "      <td>6</td>\n",
       "      <td>689</td>\n",
       "      <td>76.387272</td>\n",
       "      <td>0.815870</td>\n",
       "    </tr>\n",
       "    <tr>\n",
       "      <th>1</th>\n",
       "      <td>18870704</td>\n",
       "      <td>0.038165</td>\n",
       "      <td>0.000000</td>\n",
       "      <td>1024</td>\n",
       "      <td>64</td>\n",
       "      <td>64</td>\n",
       "      <td>10</td>\n",
       "      <td>1024</td>\n",
       "      <td>100.000000</td>\n",
       "      <td>0.577518</td>\n",
       "    </tr>\n",
       "    <tr>\n",
       "      <th>2</th>\n",
       "      <td>19030303</td>\n",
       "      <td>0.013551</td>\n",
       "      <td>0.002622</td>\n",
       "      <td>852</td>\n",
       "      <td>128</td>\n",
       "      <td>256</td>\n",
       "      <td>4</td>\n",
       "      <td>267</td>\n",
       "      <td>94.980599</td>\n",
       "      <td>0.983210</td>\n",
       "    </tr>\n",
       "    <tr>\n",
       "      <th>3</th>\n",
       "      <td>19041114</td>\n",
       "      <td>0.010032</td>\n",
       "      <td>0.036598</td>\n",
       "      <td>284</td>\n",
       "      <td>512</td>\n",
       "      <td>64</td>\n",
       "      <td>6</td>\n",
       "      <td>689</td>\n",
       "      <td>76.387272</td>\n",
       "      <td>1.439982</td>\n",
       "    </tr>\n",
       "    <tr>\n",
       "      <th>4</th>\n",
       "      <td>18960629</td>\n",
       "      <td>0.013551</td>\n",
       "      <td>0.002622</td>\n",
       "      <td>852</td>\n",
       "      <td>128</td>\n",
       "      <td>256</td>\n",
       "      <td>4</td>\n",
       "      <td>267</td>\n",
       "      <td>94.980599</td>\n",
       "      <td>0.640472</td>\n",
       "    </tr>\n",
       "  </tbody>\n",
       "</table>\n",
       "</div>"
      ],
      "text/plain": [
       "   dataset_id        lr  weight_decay  batch_size  hidden_dim  latent_dim  \\\n",
       "0    18990407  0.010032      0.036598         284         512          64   \n",
       "1    18870704  0.038165      0.000000        1024          64          64   \n",
       "2    19030303  0.013551      0.002622         852         128         256   \n",
       "3    19041114  0.010032      0.036598         284         512          64   \n",
       "4    18960629  0.013551      0.002622         852         128         256   \n",
       "\n",
       "   n_layers  input_scale       alpha  opt_loss  \n",
       "0         6          689   76.387272  0.815870  \n",
       "1        10         1024  100.000000  0.577518  \n",
       "2         4          267   94.980599  0.983210  \n",
       "3         6          689   76.387272  1.439982  \n",
       "4         4          267   94.980599  0.640472  "
      ]
     },
     "execution_count": 21,
     "metadata": {},
     "output_type": "execute_result"
    }
   ],
   "source": [
    "mmgn_hparams.head()"
   ]
  },
  {
   "cell_type": "code",
   "execution_count": 22,
   "id": "47a52348-059f-4125-a758-139638c901c2",
   "metadata": {},
   "outputs": [
    {
     "data": {
      "image/png": "[encoded data removed]",
      "text/plain": [
       "<Figure size 600x300 with 1 Axes>"
      ]
     },
     "metadata": {},
     "output_type": "display_data"
    }
   ],
   "source": [
    "fig, ax = plt.subplots(figsize=(6, 3))\n",
    "mmgn_hparams[\"lr\"].plot.hist(bins=10, ax=ax)\n",
    "ax.set_xlabel(\"Learning rate\");"
   ]
  },
  {
   "cell_type": "code",
   "execution_count": 23,
   "id": "a2b4f53d-f869-4622-975a-a17162ff470a",
   "metadata": {},
   "outputs": [
    {
     "data": {
      "image/png": "[encoded data removed]",
      "text/plain": [
       "<Figure size 600x300 with 1 Axes>"
      ]
     },
     "metadata": {},
     "output_type": "display_data"
    }
   ],
   "source": [
    "fig, ax = plt.subplots(figsize=(6, 3))\n",
    "mmgn_hparams[\"weight_decay\"].plot.hist(bins=10, ax=ax)\n",
    "ax.set_xlabel(\"Weight decay\");"
   ]
  },
  {
   "cell_type": "code",
   "execution_count": 24,
   "id": "733a9848-4696-421d-8a88-b278b0c087a0",
   "metadata": {},
   "outputs": [
    {
     "data": {
      "image/png": "[encoded data removed]",
      "text/plain": [
       "<Figure size 600x300 with 1 Axes>"
      ]
     },
     "metadata": {},
     "output_type": "display_data"
    }
   ],
   "source": [
    "fig, ax = plt.subplots(figsize=(6, 3))\n",
    "mmgn_hparams[\"hidden_dim\"].plot.hist(bins=10, ax=ax)\n",
    "ax.set_xlabel(\"Hidden dim\");"
   ]
  },
  {
   "cell_type": "code",
   "execution_count": 25,
   "id": "a6ab28a6-40ed-4944-a02c-30dbb0b86db2",
   "metadata": {},
   "outputs": [
    {
     "data": {
      "image/png": "[encoded data removed]",
      "text/plain": [
       "<Figure size 600x300 with 1 Axes>"
      ]
     },
     "metadata": {},
     "output_type": "display_data"
    }
   ],
   "source": [
    "fig, ax = plt.subplots(figsize=(6, 3))\n",
    "mmgn_hparams[\"latent_dim\"].plot.hist(bins=10, ax=ax)\n",
    "ax.set_xlabel(\"Latent dim\");"
   ]
  },
  {
   "cell_type": "code",
   "execution_count": 26,
   "id": "bff1b05e-e14d-47df-8afb-f8c4ae50a57d",
   "metadata": {},
   "outputs": [
    {
     "data": {
      "image/png": "[encoded data removed]",
      "text/plain": [
       "<Figure size 600x300 with 1 Axes>"
      ]
     },
     "metadata": {},
     "output_type": "display_data"
    }
   ],
   "source": [
    "fig, ax = plt.subplots(figsize=(6, 3))\n",
    "mmgn_hparams[\"n_layers\"].plot.hist(bins=10, ax=ax)\n",
    "ax.set_xlabel(\"Number of layers\");"
   ]
  },
  {
   "cell_type": "code",
   "execution_count": 27,
   "id": "a4762474-6344-4ece-aadf-b881fded37a6",
   "metadata": {},
   "outputs": [
    {
     "data": {
      "image/png": "[encoded data removed]",
      "text/plain": [
       "<Figure size 600x300 with 1 Axes>"
      ]
     },
     "metadata": {},
     "output_type": "display_data"
    }
   ],
   "source": [
    "fig, ax = plt.subplots(figsize=(6, 3))\n",
    "mmgn_hparams[\"input_scale\"].plot.hist(bins=10, ax=ax)\n",
    "ax.set_xlabel(\"Input scale\");"
   ]
  },
  {
   "cell_type": "code",
   "execution_count": 28,
   "id": "9f7bd5e5-baf3-4922-891a-d1106f1545a8",
   "metadata": {},
   "outputs": [
    {
     "data": {
      "image/png": "[encoded data removed]",
      "text/plain": [
       "<Figure size 600x300 with 1 Axes>"
      ]
     },
     "metadata": {},
     "output_type": "display_data"
    }
   ],
   "source": [
    "fig, ax = plt.subplots(figsize=(6, 3))\n",
    "mmgn_hparams[\"alpha\"].plot.hist(bins=10, ax=ax)\n",
    "ax.set_xlabel(\"Alpha\");"
   ]
  },
  {
   "cell_type": "markdown",
   "id": "d90b036b-c01e-41da-b858-071fb27a5ae3",
   "metadata": {},
   "source": [
    "## 3. Summary statistics"
   ]
  },
  {
   "cell_type": "code",
   "execution_count": 29,
   "id": "2f3d8cc9-41c8-4bce-80c0-9ce60aa19f6a",
   "metadata": {},
   "outputs": [
    {
     "data": {
      "text/html": [
       "<div>\n",
       "<style scoped>\n",
       "    .dataframe tbody tr th:only-of-type {\n",
       "        vertical-align: middle;\n",
       "    }\n",
       "\n",
       "    .dataframe tbody tr th {\n",
       "        vertical-align: top;\n",
       "    }\n",
       "\n",
       "    .dataframe thead th {\n",
       "        text-align: right;\n",
       "    }\n",
       "</style>\n",
       "<table border=\"1\" class=\"dataframe\">\n",
       "  <thead>\n",
       "    <tr style=\"text-align: right;\">\n",
       "      <th></th>\n",
       "      <th>IDW</th>\n",
       "      <th>OK</th>\n",
       "      <th>MMGN</th>\n",
       "    </tr>\n",
       "  </thead>\n",
       "  <tbody>\n",
       "    <tr>\n",
       "      <th>RMSE</th>\n",
       "      <td>3.00 (1.92)</td>\n",
       "      <td>5.39 (3.30)</td>\n",
       "      <td>4.11 (2.46)</td>\n",
       "    </tr>\n",
       "    <tr>\n",
       "      <th>MAE</th>\n",
       "      <td>1.31 (0.80)</td>\n",
       "      <td>3.80 (2.35)</td>\n",
       "      <td>1.93 (1.02)</td>\n",
       "    </tr>\n",
       "    <tr>\n",
       "      <th>R^2</th>\n",
       "      <td>0.67 (0.16)</td>\n",
       "      <td>-0.81 (1.91)</td>\n",
       "      <td>0.46 (0.21)</td>\n",
       "    </tr>\n",
       "    <tr>\n",
       "      <th>Delta max</th>\n",
       "      <td>23.93 (17.15)</td>\n",
       "      <td>24.77 (17.51)</td>\n",
       "      <td>35.83 (21.46)</td>\n",
       "    </tr>\n",
       "  </tbody>\n",
       "</table>\n",
       "</div>"
      ],
      "text/plain": [
       "                     IDW             OK           MMGN\n",
       "RMSE         3.00 (1.92)    5.39 (3.30)    4.11 (2.46)\n",
       "MAE          1.31 (0.80)    3.80 (2.35)    1.93 (1.02)\n",
       "R^2          0.67 (0.16)   -0.81 (1.91)    0.46 (0.21)\n",
       "Delta max  23.93 (17.15)  24.77 (17.51)  35.83 (21.46)"
      ]
     },
     "execution_count": 29,
     "metadata": {},
     "output_type": "execute_result"
    }
   ],
   "source": [
    "def iqr(data):\n",
    "    return data.quantile(0.75) - data.quantile(0.25)\n",
    "\n",
    "summary_statistics = pd.DataFrame({\n",
    "    \"IDW\": [\n",
    "        f\"{round(all_data[\"RMSE_idw\"].median(), 2):.2f} ({round(all_data[\"RMSE_idw\"].agg(iqr), 2):.2f})\",\n",
    "        f\"{round(all_data[\"MAE_idw\"].median(), 2):.2f} ({round(all_data[\"MAE_idw\"].agg(iqr), 2):.2f})\",\n",
    "        f\"{round(all_data[\"R^2_idw\"].median(), 2):.2f} ({round(all_data[\"R^2_idw\"].agg(iqr), 2):.2f})\",\n",
    "        f\"{round(all_data[\"Max Abs Error_idw\"].median(), 2):.2f} ({round(all_data[\"Max Abs Error_idw\"].agg(iqr), 2):.2f})\"\n",
    "    ],\n",
    "    \"OK\": [\n",
    "        f\"{round(all_data[\"RMSE_ok\"].median(), 2):.2f} ({round(all_data[\"RMSE_ok\"].agg(iqr), 2):.2f})\",\n",
    "        f\"{round(all_data[\"MAE_ok\"].median(), 2):.2f} ({round(all_data[\"MAE_ok\"].agg(iqr), 2):.2f})\",\n",
    "        f\"{round(all_data[\"R^2_ok\"].median(), 2):.2f} ({round(all_data[\"R^2_ok\"].agg(iqr), 2):.2f})\",\n",
    "        f\"{round(all_data[\"Max Abs Error_ok\"].median(), 2):.2f} ({round(all_data[\"Max Abs Error_ok\"].agg(iqr), 2):.2f})\"\n",
    "    ],\n",
    "    \"MMGN\": [\n",
    "        f\"{round(all_data[\"RMSE_mmgn\"].median(), 2):.2f} ({round(all_data[\"RMSE_mmgn\"].agg(iqr), 2):.2f})\",\n",
    "        f\"{round(all_data[\"MAE_mmgn\"].median(), 2):.2f} ({round(all_data[\"MAE_mmgn\"].agg(iqr), 2):.2f})\",\n",
    "        f\"{round(all_data[\"R^2_mmgn\"].median(), 2):.2f} ({round(all_data[\"R^2_mmgn\"].agg(iqr), 2):.2f})\",\n",
    "        f\"{round(all_data[\"Max Abs Error_mmgn\"].median(), 2):.2f} ({round(all_data[\"Max Abs Error_mmgn\"].agg(iqr), 2):.2f})\"\n",
    "    ]       \n",
    "}, index=[\"RMSE\", \"MAE\", \"R^2\", \"Delta max\"])\n",
    "summary_statistics"
   ]
  },
  {
   "cell_type": "markdown",
   "id": "28878795-2b4b-45ca-a18c-709164b3d912",
   "metadata": {},
   "source": [
    "## 4. Statistical analysis"
   ]
  },
  {
   "cell_type": "markdown",
   "id": "47efba71-a3cd-4c86-ac96-485a1fd7c0b2",
   "metadata": {},
   "source": [
    "### 4a. Omnibus test\n",
    "\n",
    "We carry out Kruskal-Wallis non-parametric test as quality measures do now follow normal distribution."
   ]
  },
  {
   "cell_type": "code",
   "execution_count": 85,
   "id": "782353ed-48f5-4ca8-90c6-c6e3e33a2535",
   "metadata": {},
   "outputs": [],
   "source": [
    "from scipy.stats import kruskal\n",
    "from scikit_posthocs import posthoc_dunn\n",
    "\n",
    "KRUSKAL_ALPHA = 0.05"
   ]
  },
  {
   "cell_type": "markdown",
   "id": "cc4f3912-b3b5-40dc-9347-f8b2859d4519",
   "metadata": {},
   "source": [
    "#### RMSE"
   ]
  },
  {
   "cell_type": "code",
   "execution_count": 48,
   "id": "4196a707-376b-4760-b233-a5736e4edc62",
   "metadata": {},
   "outputs": [
    {
     "name": "stdout",
     "output_type": "stream",
     "text": [
      "There is statistically significant difference between RMSEs as p-value=4.508034078360774e-16\n"
     ]
    }
   ],
   "source": [
    "h_rmse, p_rmse = kruskal(all_data['RMSE_idw'], all_data['RMSE_ok'], all_data['RMSE_mmgn'])\n",
    "if p_rmse < KRUSKAL_ALPHA:\n",
    "    print(f\"There is statistically significant difference between RMSEs as p-value={p_rmse}\")\n",
    "else:\n",
    "    print(f\"There is **no** statistically significant difference between RMSEs as p-value={p_rmse}\")"
   ]
  },
  {
   "cell_type": "code",
   "execution_count": 86,
   "id": "fa310e9b-c46d-4312-a8db-0f02d64b913b",
   "metadata": {},
   "outputs": [
    {
     "name": "stdout",
     "output_type": "stream",
     "text": [
      "The effect size for RMSE is 0.2312154904526995\n"
     ]
    }
   ],
   "source": [
    "rmse_effect_size = (h_rmse - 3 +1) / (3*len(all_data) - 3)\n",
    "print(f\"The effect size for RMSE is {rmse_effect_size}\")"
   ]
  },
  {
   "cell_type": "code",
   "execution_count": 92,
   "id": "ebffa71b-0d72-48e4-843b-b33dc576b793",
   "metadata": {},
   "outputs": [
    {
     "data": {
      "text/html": [
       "<div>\n",
       "<style scoped>\n",
       "    .dataframe tbody tr th:only-of-type {\n",
       "        vertical-align: middle;\n",
       "    }\n",
       "\n",
       "    .dataframe tbody tr th {\n",
       "        vertical-align: top;\n",
       "    }\n",
       "\n",
       "    .dataframe thead th {\n",
       "        text-align: right;\n",
       "    }\n",
       "</style>\n",
       "<table border=\"1\" class=\"dataframe\">\n",
       "  <thead>\n",
       "    <tr style=\"text-align: right;\">\n",
       "      <th></th>\n",
       "      <th>value</th>\n",
       "      <th>group</th>\n",
       "    </tr>\n",
       "  </thead>\n",
       "  <tbody>\n",
       "    <tr>\n",
       "      <th>0</th>\n",
       "      <td>1.632345</td>\n",
       "      <td>IDW</td>\n",
       "    </tr>\n",
       "    <tr>\n",
       "      <th>1</th>\n",
       "      <td>1.970543</td>\n",
       "      <td>IDW</td>\n",
       "    </tr>\n",
       "    <tr>\n",
       "      <th>2</th>\n",
       "      <td>2.366137</td>\n",
       "      <td>IDW</td>\n",
       "    </tr>\n",
       "    <tr>\n",
       "      <th>3</th>\n",
       "      <td>1.331481</td>\n",
       "      <td>IDW</td>\n",
       "    </tr>\n",
       "    <tr>\n",
       "      <th>4</th>\n",
       "      <td>2.006628</td>\n",
       "      <td>IDW</td>\n",
       "    </tr>\n",
       "    <tr>\n",
       "      <th>...</th>\n",
       "      <td>...</td>\n",
       "      <td>...</td>\n",
       "    </tr>\n",
       "    <tr>\n",
       "      <th>295</th>\n",
       "      <td>2.185787</td>\n",
       "      <td>MMGN</td>\n",
       "    </tr>\n",
       "    <tr>\n",
       "      <th>296</th>\n",
       "      <td>4.870460</td>\n",
       "      <td>MMGN</td>\n",
       "    </tr>\n",
       "    <tr>\n",
       "      <th>297</th>\n",
       "      <td>4.104940</td>\n",
       "      <td>MMGN</td>\n",
       "    </tr>\n",
       "    <tr>\n",
       "      <th>298</th>\n",
       "      <td>8.867543</td>\n",
       "      <td>MMGN</td>\n",
       "    </tr>\n",
       "    <tr>\n",
       "      <th>299</th>\n",
       "      <td>3.751624</td>\n",
       "      <td>MMGN</td>\n",
       "    </tr>\n",
       "  </tbody>\n",
       "</table>\n",
       "<p>300 rows × 2 columns</p>\n",
       "</div>"
      ],
      "text/plain": [
       "        value group\n",
       "0    1.632345   IDW\n",
       "1    1.970543   IDW\n",
       "2    2.366137   IDW\n",
       "3    1.331481   IDW\n",
       "4    2.006628   IDW\n",
       "..        ...   ...\n",
       "295  2.185787  MMGN\n",
       "296  4.870460  MMGN\n",
       "297  4.104940  MMGN\n",
       "298  8.867543  MMGN\n",
       "299  3.751624  MMGN\n",
       "\n",
       "[300 rows x 2 columns]"
      ]
     },
     "execution_count": 92,
     "metadata": {},
     "output_type": "execute_result"
    }
   ],
   "source": [
    "df = pd.DataFrame({\n",
    "    \"value\": list(all_data['RMSE_idw'].values) +\n",
    "             list(all_data['RMSE_ok'].values) +\n",
    "             list(all_data['RMSE_mmgn'].values),\n",
    "    \"group\": ([\"IDW\"] * len(all_data['RMSE_idw']) +\n",
    "              [\"OK\"]  * len(all_data['RMSE_ok']) +\n",
    "              [\"MMGN\"]* len(all_data['RMSE_mmgn']))\n",
    "})\n",
    "df"
   ]
  },
  {
   "cell_type": "code",
   "execution_count": 93,
   "id": "ada6a2c0-9672-47bd-ac5c-3e90c776142a",
   "metadata": {},
   "outputs": [
    {
     "data": {
      "text/html": [
       "<div>\n",
       "<style scoped>\n",
       "    .dataframe tbody tr th:only-of-type {\n",
       "        vertical-align: middle;\n",
       "    }\n",
       "\n",
       "    .dataframe tbody tr th {\n",
       "        vertical-align: top;\n",
       "    }\n",
       "\n",
       "    .dataframe thead th {\n",
       "        text-align: right;\n",
       "    }\n",
       "</style>\n",
       "<table border=\"1\" class=\"dataframe\">\n",
       "  <thead>\n",
       "    <tr style=\"text-align: right;\">\n",
       "      <th></th>\n",
       "      <th>IDW</th>\n",
       "      <th>MMGN</th>\n",
       "      <th>OK</th>\n",
       "    </tr>\n",
       "  </thead>\n",
       "  <tbody>\n",
       "    <tr>\n",
       "      <th>IDW</th>\n",
       "      <td>1.000000e+00</td>\n",
       "      <td>0.000009</td>\n",
       "      <td>1.405999e-16</td>\n",
       "    </tr>\n",
       "    <tr>\n",
       "      <th>MMGN</th>\n",
       "      <td>8.828312e-06</td>\n",
       "      <td>1.000000</td>\n",
       "      <td>1.427010e-04</td>\n",
       "    </tr>\n",
       "    <tr>\n",
       "      <th>OK</th>\n",
       "      <td>1.405999e-16</td>\n",
       "      <td>0.000143</td>\n",
       "      <td>1.000000e+00</td>\n",
       "    </tr>\n",
       "  </tbody>\n",
       "</table>\n",
       "</div>"
      ],
      "text/plain": [
       "               IDW      MMGN            OK\n",
       "IDW   1.000000e+00  0.000009  1.405999e-16\n",
       "MMGN  8.828312e-06  1.000000  1.427010e-04\n",
       "OK    1.405999e-16  0.000143  1.000000e+00"
      ]
     },
     "execution_count": 93,
     "metadata": {},
     "output_type": "execute_result"
    }
   ],
   "source": [
    "dunn_res_rmse = posthoc_dunn(df, val_col='value', group_col='group', p_adjust='holm')\n",
    "dunn_res_rmse"
   ]
  },
  {
   "cell_type": "markdown",
   "id": "b41197e3-fd3a-43ed-a0af-599ee94b50c5",
   "metadata": {},
   "source": [
    "#### MAE"
   ]
  },
  {
   "cell_type": "code",
   "execution_count": 79,
   "id": "b649f19d-e26f-474d-aecd-30731c1e4845",
   "metadata": {},
   "outputs": [
    {
     "name": "stdout",
     "output_type": "stream",
     "text": [
      "There is statistically significant difference between MAEs as p-value=1.4405943186833731e-37\n"
     ]
    }
   ],
   "source": [
    "h_mae, p_mae = kruskal(all_data['MAE_idw'].values, all_data['MAE_ok'].values, all_data['MAE_mmgn'].values, nan_policy=\"raise\")\n",
    "if p_mae < KRUSKAL_ALPHA:\n",
    "    print(f\"There is statistically significant difference between MAEs as p-value={p_mae}\")\n",
    "else:\n",
    "    print(f\"There is **no** statistically significant difference between MAEs as p-value={p_mae}\")"
   ]
  },
  {
   "cell_type": "code",
   "execution_count": 87,
   "id": "c60a95ed-62b0-4b8f-9e8d-5c5515ead90f",
   "metadata": {},
   "outputs": [
    {
     "name": "stdout",
     "output_type": "stream",
     "text": [
      "The effect size for MAE is 0.564515775697171\n"
     ]
    }
   ],
   "source": [
    "mae_effect_size = (h_mae - 3 +1) / (3*len(all_data) - 3)\n",
    "print(f\"The effect size for MAE is {mae_effect_size}\")"
   ]
  },
  {
   "cell_type": "code",
   "execution_count": 97,
   "id": "d1b80caf-9c4f-47b2-91c7-f280f5bec7da",
   "metadata": {},
   "outputs": [
    {
     "data": {
      "text/html": [
       "<div>\n",
       "<style scoped>\n",
       "    .dataframe tbody tr th:only-of-type {\n",
       "        vertical-align: middle;\n",
       "    }\n",
       "\n",
       "    .dataframe tbody tr th {\n",
       "        vertical-align: top;\n",
       "    }\n",
       "\n",
       "    .dataframe thead th {\n",
       "        text-align: right;\n",
       "    }\n",
       "</style>\n",
       "<table border=\"1\" class=\"dataframe\">\n",
       "  <thead>\n",
       "    <tr style=\"text-align: right;\">\n",
       "      <th></th>\n",
       "      <th>value</th>\n",
       "      <th>group</th>\n",
       "    </tr>\n",
       "  </thead>\n",
       "  <tbody>\n",
       "    <tr>\n",
       "      <th>0</th>\n",
       "      <td>0.541123</td>\n",
       "      <td>IDW</td>\n",
       "    </tr>\n",
       "    <tr>\n",
       "      <th>1</th>\n",
       "      <td>0.512244</td>\n",
       "      <td>IDW</td>\n",
       "    </tr>\n",
       "    <tr>\n",
       "      <th>2</th>\n",
       "      <td>0.648505</td>\n",
       "      <td>IDW</td>\n",
       "    </tr>\n",
       "    <tr>\n",
       "      <th>3</th>\n",
       "      <td>0.463859</td>\n",
       "      <td>IDW</td>\n",
       "    </tr>\n",
       "    <tr>\n",
       "      <th>4</th>\n",
       "      <td>0.665399</td>\n",
       "      <td>IDW</td>\n",
       "    </tr>\n",
       "    <tr>\n",
       "      <th>...</th>\n",
       "      <td>...</td>\n",
       "      <td>...</td>\n",
       "    </tr>\n",
       "    <tr>\n",
       "      <th>295</th>\n",
       "      <td>1.116736</td>\n",
       "      <td>MMGN</td>\n",
       "    </tr>\n",
       "    <tr>\n",
       "      <th>296</th>\n",
       "      <td>2.116874</td>\n",
       "      <td>MMGN</td>\n",
       "    </tr>\n",
       "    <tr>\n",
       "      <th>297</th>\n",
       "      <td>1.839905</td>\n",
       "      <td>MMGN</td>\n",
       "    </tr>\n",
       "    <tr>\n",
       "      <th>298</th>\n",
       "      <td>3.792924</td>\n",
       "      <td>MMGN</td>\n",
       "    </tr>\n",
       "    <tr>\n",
       "      <th>299</th>\n",
       "      <td>1.640530</td>\n",
       "      <td>MMGN</td>\n",
       "    </tr>\n",
       "  </tbody>\n",
       "</table>\n",
       "<p>300 rows × 2 columns</p>\n",
       "</div>"
      ],
      "text/plain": [
       "        value group\n",
       "0    0.541123   IDW\n",
       "1    0.512244   IDW\n",
       "2    0.648505   IDW\n",
       "3    0.463859   IDW\n",
       "4    0.665399   IDW\n",
       "..        ...   ...\n",
       "295  1.116736  MMGN\n",
       "296  2.116874  MMGN\n",
       "297  1.839905  MMGN\n",
       "298  3.792924  MMGN\n",
       "299  1.640530  MMGN\n",
       "\n",
       "[300 rows x 2 columns]"
      ]
     },
     "execution_count": 97,
     "metadata": {},
     "output_type": "execute_result"
    }
   ],
   "source": [
    "df = pd.DataFrame({\n",
    "    \"value\": list(all_data['MAE_idw'].values) +\n",
    "             list(all_data['MAE_ok'].values) +\n",
    "             list(all_data['MAE_mmgn'].values),\n",
    "    \"group\": ([\"IDW\"] * len(all_data['MAE_idw']) +\n",
    "              [\"OK\"]  * len(all_data['MAE_ok']) +\n",
    "              [\"MMGN\"]* len(all_data['MAE_mmgn']))\n",
    "})\n",
    "df"
   ]
  },
  {
   "cell_type": "code",
   "execution_count": 98,
   "id": "fd482ef3-7c33-445c-b163-01d3f9e20599",
   "metadata": {},
   "outputs": [
    {
     "data": {
      "text/html": [
       "<div>\n",
       "<style scoped>\n",
       "    .dataframe tbody tr th:only-of-type {\n",
       "        vertical-align: middle;\n",
       "    }\n",
       "\n",
       "    .dataframe tbody tr th {\n",
       "        vertical-align: top;\n",
       "    }\n",
       "\n",
       "    .dataframe thead th {\n",
       "        text-align: right;\n",
       "    }\n",
       "</style>\n",
       "<table border=\"1\" class=\"dataframe\">\n",
       "  <thead>\n",
       "    <tr style=\"text-align: right;\">\n",
       "      <th></th>\n",
       "      <th>IDW</th>\n",
       "      <th>MMGN</th>\n",
       "      <th>OK</th>\n",
       "    </tr>\n",
       "  </thead>\n",
       "  <tbody>\n",
       "    <tr>\n",
       "      <th>IDW</th>\n",
       "      <td>1.000000e+00</td>\n",
       "      <td>3.392899e-06</td>\n",
       "      <td>2.230483e-37</td>\n",
       "    </tr>\n",
       "    <tr>\n",
       "      <th>MMGN</th>\n",
       "      <td>3.392899e-06</td>\n",
       "      <td>1.000000e+00</td>\n",
       "      <td>4.215530e-16</td>\n",
       "    </tr>\n",
       "    <tr>\n",
       "      <th>OK</th>\n",
       "      <td>2.230483e-37</td>\n",
       "      <td>4.215530e-16</td>\n",
       "      <td>1.000000e+00</td>\n",
       "    </tr>\n",
       "  </tbody>\n",
       "</table>\n",
       "</div>"
      ],
      "text/plain": [
       "               IDW          MMGN            OK\n",
       "IDW   1.000000e+00  3.392899e-06  2.230483e-37\n",
       "MMGN  3.392899e-06  1.000000e+00  4.215530e-16\n",
       "OK    2.230483e-37  4.215530e-16  1.000000e+00"
      ]
     },
     "execution_count": 98,
     "metadata": {},
     "output_type": "execute_result"
    }
   ],
   "source": [
    "dunn_res_mae = posthoc_dunn(df, val_col='value', group_col='group', p_adjust='holm')\n",
    "dunn_res_mae"
   ]
  },
  {
   "cell_type": "markdown",
   "id": "d4cff0a1-88a2-405d-82dd-cc3313dede0f",
   "metadata": {},
   "source": [
    "#### $R^2$"
   ]
  },
  {
   "cell_type": "code",
   "execution_count": 70,
   "id": "5ca1800b-8e4e-4d73-b36c-439c2e7fa5ee",
   "metadata": {},
   "outputs": [
    {
     "name": "stdout",
     "output_type": "stream",
     "text": [
      "There is statistically significant difference between R2 as p-value=4.2276565504058494e-46\n"
     ]
    }
   ],
   "source": [
    "h_r2, p_r2 = kruskal(all_data['R^2_idw'], all_data['R^2_ok'], all_data['R^2_mmgn'])\n",
    "if p_r2 < KRUSKAL_ALPHA:\n",
    "    print(f\"There is statistically significant difference between R2 as p-value={p_r2}\")\n",
    "else:\n",
    "    print(f\"There is **no** statistically significant difference between R2 as p-value={p_r2}\")"
   ]
  },
  {
   "cell_type": "code",
   "execution_count": 88,
   "id": "72381b56-1fd1-42e0-ad67-c5cbac086574",
   "metadata": {},
   "outputs": [
    {
     "name": "stdout",
     "output_type": "stream",
     "text": [
      "The effect size for RMSE is 0.6968166090584696\n"
     ]
    }
   ],
   "source": [
    "r2_effect_size = (h_r2- 3 +1) / (3*len(all_data) - 3)\n",
    "print(f\"The effect size for RMSE is {r2_effect_size}\")"
   ]
  },
  {
   "cell_type": "code",
   "execution_count": 101,
   "id": "6762315f-0c26-4d28-b6c9-2e78a56deda2",
   "metadata": {},
   "outputs": [
    {
     "data": {
      "text/html": [
       "<div>\n",
       "<style scoped>\n",
       "    .dataframe tbody tr th:only-of-type {\n",
       "        vertical-align: middle;\n",
       "    }\n",
       "\n",
       "    .dataframe tbody tr th {\n",
       "        vertical-align: top;\n",
       "    }\n",
       "\n",
       "    .dataframe thead th {\n",
       "        text-align: right;\n",
       "    }\n",
       "</style>\n",
       "<table border=\"1\" class=\"dataframe\">\n",
       "  <thead>\n",
       "    <tr style=\"text-align: right;\">\n",
       "      <th></th>\n",
       "      <th>value</th>\n",
       "      <th>group</th>\n",
       "    </tr>\n",
       "  </thead>\n",
       "  <tbody>\n",
       "    <tr>\n",
       "      <th>0</th>\n",
       "      <td>0.702479</td>\n",
       "      <td>IDW</td>\n",
       "    </tr>\n",
       "    <tr>\n",
       "      <th>1</th>\n",
       "      <td>0.841997</td>\n",
       "      <td>IDW</td>\n",
       "    </tr>\n",
       "    <tr>\n",
       "      <th>2</th>\n",
       "      <td>0.578012</td>\n",
       "      <td>IDW</td>\n",
       "    </tr>\n",
       "    <tr>\n",
       "      <th>3</th>\n",
       "      <td>0.855982</td>\n",
       "      <td>IDW</td>\n",
       "    </tr>\n",
       "    <tr>\n",
       "      <th>4</th>\n",
       "      <td>0.879137</td>\n",
       "      <td>IDW</td>\n",
       "    </tr>\n",
       "    <tr>\n",
       "      <th>...</th>\n",
       "      <td>...</td>\n",
       "      <td>...</td>\n",
       "    </tr>\n",
       "    <tr>\n",
       "      <th>295</th>\n",
       "      <td>0.416238</td>\n",
       "      <td>MMGN</td>\n",
       "    </tr>\n",
       "    <tr>\n",
       "      <th>296</th>\n",
       "      <td>0.572961</td>\n",
       "      <td>MMGN</td>\n",
       "    </tr>\n",
       "    <tr>\n",
       "      <th>297</th>\n",
       "      <td>0.557561</td>\n",
       "      <td>MMGN</td>\n",
       "    </tr>\n",
       "    <tr>\n",
       "      <th>298</th>\n",
       "      <td>0.571119</td>\n",
       "      <td>MMGN</td>\n",
       "    </tr>\n",
       "    <tr>\n",
       "      <th>299</th>\n",
       "      <td>0.238976</td>\n",
       "      <td>MMGN</td>\n",
       "    </tr>\n",
       "  </tbody>\n",
       "</table>\n",
       "<p>300 rows × 2 columns</p>\n",
       "</div>"
      ],
      "text/plain": [
       "        value group\n",
       "0    0.702479   IDW\n",
       "1    0.841997   IDW\n",
       "2    0.578012   IDW\n",
       "3    0.855982   IDW\n",
       "4    0.879137   IDW\n",
       "..        ...   ...\n",
       "295  0.416238  MMGN\n",
       "296  0.572961  MMGN\n",
       "297  0.557561  MMGN\n",
       "298  0.571119  MMGN\n",
       "299  0.238976  MMGN\n",
       "\n",
       "[300 rows x 2 columns]"
      ]
     },
     "execution_count": 101,
     "metadata": {},
     "output_type": "execute_result"
    }
   ],
   "source": [
    "df = pd.DataFrame({\n",
    "    \"value\": list(all_data['R^2_idw'].values) +\n",
    "             list(all_data['R^2_ok'].values) +\n",
    "             list(all_data['R^2_mmgn'].values),\n",
    "    \"group\": ([\"IDW\"] * len(all_data['R^2_idw']) +\n",
    "              [\"OK\"]  * len(all_data['R^2_ok']) +\n",
    "              [\"MMGN\"]* len(all_data['R^2_mmgn']))\n",
    "})\n",
    "df"
   ]
  },
  {
   "cell_type": "code",
   "execution_count": 102,
   "id": "97ed8ac2-25e2-4519-b276-d480eb6b2c40",
   "metadata": {},
   "outputs": [
    {
     "data": {
      "text/html": [
       "<div>\n",
       "<style scoped>\n",
       "    .dataframe tbody tr th:only-of-type {\n",
       "        vertical-align: middle;\n",
       "    }\n",
       "\n",
       "    .dataframe tbody tr th {\n",
       "        vertical-align: top;\n",
       "    }\n",
       "\n",
       "    .dataframe thead th {\n",
       "        text-align: right;\n",
       "    }\n",
       "</style>\n",
       "<table border=\"1\" class=\"dataframe\">\n",
       "  <thead>\n",
       "    <tr style=\"text-align: right;\">\n",
       "      <th></th>\n",
       "      <th>IDW</th>\n",
       "      <th>MMGN</th>\n",
       "      <th>OK</th>\n",
       "    </tr>\n",
       "  </thead>\n",
       "  <tbody>\n",
       "    <tr>\n",
       "      <th>IDW</th>\n",
       "      <td>1.000000e+00</td>\n",
       "      <td>3.044286e-08</td>\n",
       "      <td>4.107432e-46</td>\n",
       "    </tr>\n",
       "    <tr>\n",
       "      <th>MMGN</th>\n",
       "      <td>3.044286e-08</td>\n",
       "      <td>1.000000e+00</td>\n",
       "      <td>2.893729e-18</td>\n",
       "    </tr>\n",
       "    <tr>\n",
       "      <th>OK</th>\n",
       "      <td>4.107432e-46</td>\n",
       "      <td>2.893729e-18</td>\n",
       "      <td>1.000000e+00</td>\n",
       "    </tr>\n",
       "  </tbody>\n",
       "</table>\n",
       "</div>"
      ],
      "text/plain": [
       "               IDW          MMGN            OK\n",
       "IDW   1.000000e+00  3.044286e-08  4.107432e-46\n",
       "MMGN  3.044286e-08  1.000000e+00  2.893729e-18\n",
       "OK    4.107432e-46  2.893729e-18  1.000000e+00"
      ]
     },
     "execution_count": 102,
     "metadata": {},
     "output_type": "execute_result"
    }
   ],
   "source": [
    "dunn_res_r2 = posthoc_dunn(df, val_col='value', group_col='group', p_adjust='holm')\n",
    "dunn_res_r2"
   ]
  },
  {
   "cell_type": "markdown",
   "id": "31afdde1-2f7b-4dc1-97f0-fb82dbb1eb42",
   "metadata": {},
   "source": [
    "### $\\Delta_{MAX}$"
   ]
  },
  {
   "cell_type": "code",
   "execution_count": 82,
   "id": "84920831-1314-4d0e-8deb-cdb40d048dfc",
   "metadata": {},
   "outputs": [
    {
     "name": "stdout",
     "output_type": "stream",
     "text": [
      "There is statistically significant difference between Max Abs Error as p-value=7.391295025972689e-07\n"
     ]
    }
   ],
   "source": [
    "h_max, p_max = kruskal(all_data['Max Abs Error_idw'], all_data['Max Abs Error_ok'], all_data['Max Abs Error_mmgn'])\n",
    "if p_max < KRUSKAL_ALPHA:\n",
    "    print(f\"There is statistically significant difference between Max Abs Error as p-value={p_max}\")\n",
    "else:\n",
    "    print(f\"There is **no** statistically significant difference between Max Abs Error as p-value={p_max}\")"
   ]
  },
  {
   "cell_type": "code",
   "execution_count": 103,
   "id": "619006b3-4a0f-4831-8b71-02e27325574c",
   "metadata": {},
   "outputs": [
    {
     "name": "stdout",
     "output_type": "stream",
     "text": [
      "The effect size for Max abs error is 0.08833530431669989\n"
     ]
    }
   ],
   "source": [
    "max_effect_size = (h_max - 3 +1) / (3*len(all_data) - 3)\n",
    "print(f\"The effect size for Max abs error is {max_effect_size}\")"
   ]
  },
  {
   "cell_type": "code",
   "execution_count": 105,
   "id": "5d48ab2c-3b93-4bda-9e66-080207fce6d5",
   "metadata": {},
   "outputs": [
    {
     "data": {
      "text/html": [
       "<div>\n",
       "<style scoped>\n",
       "    .dataframe tbody tr th:only-of-type {\n",
       "        vertical-align: middle;\n",
       "    }\n",
       "\n",
       "    .dataframe tbody tr th {\n",
       "        vertical-align: top;\n",
       "    }\n",
       "\n",
       "    .dataframe thead th {\n",
       "        text-align: right;\n",
       "    }\n",
       "</style>\n",
       "<table border=\"1\" class=\"dataframe\">\n",
       "  <thead>\n",
       "    <tr style=\"text-align: right;\">\n",
       "      <th></th>\n",
       "      <th>value</th>\n",
       "      <th>group</th>\n",
       "    </tr>\n",
       "  </thead>\n",
       "  <tbody>\n",
       "    <tr>\n",
       "      <th>0</th>\n",
       "      <td>9.919333</td>\n",
       "      <td>IDW</td>\n",
       "    </tr>\n",
       "    <tr>\n",
       "      <th>1</th>\n",
       "      <td>14.195013</td>\n",
       "      <td>IDW</td>\n",
       "    </tr>\n",
       "    <tr>\n",
       "      <th>2</th>\n",
       "      <td>17.715671</td>\n",
       "      <td>IDW</td>\n",
       "    </tr>\n",
       "    <tr>\n",
       "      <th>3</th>\n",
       "      <td>6.904200</td>\n",
       "      <td>IDW</td>\n",
       "    </tr>\n",
       "    <tr>\n",
       "      <th>4</th>\n",
       "      <td>12.885067</td>\n",
       "      <td>IDW</td>\n",
       "    </tr>\n",
       "    <tr>\n",
       "      <th>...</th>\n",
       "      <td>...</td>\n",
       "      <td>...</td>\n",
       "    </tr>\n",
       "    <tr>\n",
       "      <th>295</th>\n",
       "      <td>26.105190</td>\n",
       "      <td>MMGN</td>\n",
       "    </tr>\n",
       "    <tr>\n",
       "      <th>296</th>\n",
       "      <td>49.982815</td>\n",
       "      <td>MMGN</td>\n",
       "    </tr>\n",
       "    <tr>\n",
       "      <th>297</th>\n",
       "      <td>42.954346</td>\n",
       "      <td>MMGN</td>\n",
       "    </tr>\n",
       "    <tr>\n",
       "      <th>298</th>\n",
       "      <td>102.879074</td>\n",
       "      <td>MMGN</td>\n",
       "    </tr>\n",
       "    <tr>\n",
       "      <th>299</th>\n",
       "      <td>34.840031</td>\n",
       "      <td>MMGN</td>\n",
       "    </tr>\n",
       "  </tbody>\n",
       "</table>\n",
       "<p>300 rows × 2 columns</p>\n",
       "</div>"
      ],
      "text/plain": [
       "          value group\n",
       "0      9.919333   IDW\n",
       "1     14.195013   IDW\n",
       "2     17.715671   IDW\n",
       "3      6.904200   IDW\n",
       "4     12.885067   IDW\n",
       "..          ...   ...\n",
       "295   26.105190  MMGN\n",
       "296   49.982815  MMGN\n",
       "297   42.954346  MMGN\n",
       "298  102.879074  MMGN\n",
       "299   34.840031  MMGN\n",
       "\n",
       "[300 rows x 2 columns]"
      ]
     },
     "execution_count": 105,
     "metadata": {},
     "output_type": "execute_result"
    }
   ],
   "source": [
    "df = pd.DataFrame({\n",
    "    \"value\": list(all_data['Max Abs Error_idw'].values) +\n",
    "             list(all_data['Max Abs Error_ok'].values) +\n",
    "             list(all_data['Max Abs Error_mmgn'].values),\n",
    "    \"group\": ([\"IDW\"] * len(all_data['Max Abs Error_idw']) +\n",
    "              [\"OK\"]  * len(all_data['Max Abs Error_ok']) +\n",
    "              [\"MMGN\"]* len(all_data['Max Abs Error_mmgn']))\n",
    "})\n",
    "df"
   ]
  },
  {
   "cell_type": "code",
   "execution_count": 106,
   "id": "64d30e51-278c-4959-a3f5-72de3cd8033d",
   "metadata": {},
   "outputs": [
    {
     "data": {
      "text/html": [
       "<div>\n",
       "<style scoped>\n",
       "    .dataframe tbody tr th:only-of-type {\n",
       "        vertical-align: middle;\n",
       "    }\n",
       "\n",
       "    .dataframe tbody tr th {\n",
       "        vertical-align: top;\n",
       "    }\n",
       "\n",
       "    .dataframe thead th {\n",
       "        text-align: right;\n",
       "    }\n",
       "</style>\n",
       "<table border=\"1\" class=\"dataframe\">\n",
       "  <thead>\n",
       "    <tr style=\"text-align: right;\">\n",
       "      <th></th>\n",
       "      <th>IDW</th>\n",
       "      <th>MMGN</th>\n",
       "      <th>OK</th>\n",
       "    </tr>\n",
       "  </thead>\n",
       "  <tbody>\n",
       "    <tr>\n",
       "      <th>IDW</th>\n",
       "      <td>1.000000</td>\n",
       "      <td>0.000002</td>\n",
       "      <td>0.323178</td>\n",
       "    </tr>\n",
       "    <tr>\n",
       "      <th>MMGN</th>\n",
       "      <td>0.000002</td>\n",
       "      <td>1.000000</td>\n",
       "      <td>0.000113</td>\n",
       "    </tr>\n",
       "    <tr>\n",
       "      <th>OK</th>\n",
       "      <td>0.323178</td>\n",
       "      <td>0.000113</td>\n",
       "      <td>1.000000</td>\n",
       "    </tr>\n",
       "  </tbody>\n",
       "</table>\n",
       "</div>"
      ],
      "text/plain": [
       "           IDW      MMGN        OK\n",
       "IDW   1.000000  0.000002  0.323178\n",
       "MMGN  0.000002  1.000000  0.000113\n",
       "OK    0.323178  0.000113  1.000000"
      ]
     },
     "execution_count": 106,
     "metadata": {},
     "output_type": "execute_result"
    }
   ],
   "source": [
    "dunn_res_max = posthoc_dunn(df, val_col='value', group_col='group', p_adjust='holm')\n",
    "dunn_res_max"
   ]
  },
  {
   "cell_type": "code",
   "execution_count": null,
   "id": "bdba4c0b-676b-4bf7-8f53-e01df22c5036",
   "metadata": {},
   "outputs": [],
   "source": [
    "sinet_hparams = pd.read_csv(SINET_RESULTS / \"hparams_summary.csv\")"
   ]
  },
  {
   "cell_type": "code",
   "execution_count": null,
   "id": "78f25285-4032-4f6c-b26d-435c7a0bf327",
   "metadata": {},
   "outputs": [],
   "source": [
    "sinet_hparams.head()"
   ]
  },
  {
   "cell_type": "code",
   "execution_count": null,
   "id": "92c4ecb4-913f-4430-be8f-d27a3fd6ec04",
   "metadata": {},
   "outputs": [],
   "source": [
    "fig, ax = plt.subplots(figsize=(6, 3))\n",
    "sinet_hparams[\"lr\"].plot.hist(bins=10, ax=ax)\n",
    "ax.set_xlabel(\"Learning rate\");"
   ]
  },
  {
   "cell_type": "code",
   "execution_count": null,
   "id": "424922eb-ccfa-433f-ac1e-ff602a5b066d",
   "metadata": {},
   "outputs": [],
   "source": [
    "fig, ax = plt.subplots(figsize=(6, 3))\n",
    "sinet_hparams[\"weight_decay\"].plot.hist(bins=10, ax=ax)\n",
    "ax.set_xlabel(\"Weight decay\");"
   ]
  },
  {
   "cell_type": "code",
   "execution_count": null,
   "id": "0967d696-53b1-4bbd-9bdb-fd551ce956e9",
   "metadata": {},
   "outputs": [],
   "source": [
    "fig, ax = plt.subplots(figsize=(6, 3))\n",
    "sinet_hparams[\"scale\"].plot.hist(bins=10, ax=ax)\n",
    "ax.set_xlabel(\"Scale\");"
   ]
  },
  {
   "cell_type": "code",
   "execution_count": null,
   "id": "87ff31cc-16cb-4393-9109-5b5b469296e0",
   "metadata": {},
   "outputs": [],
   "source": [
    "fig, ax = plt.subplots(figsize=(6, 3))\n",
    "sinet_hparams[\"num_epochs\"].plot.hist(bins=10, ax=ax)\n",
    "ax.set_xlabel(\"No. of epochs\");"
   ]
  },
  {
   "cell_type": "code",
   "execution_count": null,
   "id": "6dcb95e4-bb3e-42b1-a290-004977d5888c",
   "metadata": {},
   "outputs": [],
   "source": [
    "fig, ax = plt.subplots(figsize=(6, 3))\n",
    "sinet_hparams[\"batch_size\"].plot.hist(bins=10, ax=ax)\n",
    "ax.set_xlabel(\"Batch size\");"
   ]
  },
  {
   "cell_type": "code",
   "execution_count": null,
   "id": "3c2d8d96-1fa9-448c-9ca0-aa20321b977e",
   "metadata": {},
   "outputs": [],
   "source": [
    "fig, ax = plt.subplots(figsize=(6, 3))\n",
    "sinet_hparams[\"hidden_dim\"].plot.hist(bins=10, ax=ax)\n",
    "ax.set_xlabel(\"Hidden dim\");"
   ]
  },
  {
   "cell_type": "code",
   "execution_count": null,
   "id": "315d77bc-2236-4e12-9644-235c05e7b95f",
   "metadata": {},
   "outputs": [],
   "source": [
    "fig, ax = plt.subplots(figsize=(6, 3))\n",
    "sinet_hparams[\"mse_loss_weight\"].plot.hist(bins=10, ax=ax)\n",
    "ax.set_xlabel(\"MSE loss weight\");"
   ]
  },
  {
   "cell_type": "code",
   "execution_count": null,
   "id": "334e58ae-dbc4-45ac-a63d-c1cb0efdd58a",
   "metadata": {},
   "outputs": [],
   "source": [
    "fig, ax = plt.subplots(figsize=(6, 3))\n",
    "sinet_hparams[\"eikonal_loss_weight\"].plot.hist(bins=10, ax=ax)\n",
    "ax.set_xlabel(\"Eikonal loss weight\");"
   ]
  },
  {
   "cell_type": "code",
   "execution_count": null,
   "id": "773ca76f-1517-4e44-9b44-546474d49048",
   "metadata": {},
   "outputs": [],
   "source": [
    "fig, ax = plt.subplots(figsize=(6, 3))\n",
    "sinet_hparams[\"laplace_loss_weight\"].plot.hist(bins=10, ax=ax)\n",
    "ax.set_xlabel(\"Laplace loss weight\");"
   ]
  },
  {
   "cell_type": "code",
   "execution_count": null,
   "id": "385f1e8a-4c51-4e19-b21d-6f9b68d8c9f2",
   "metadata": {},
   "outputs": [],
   "source": []
  }
 ],
 "metadata": {
  "kernelspec": {
   "display_name": "Python 3 (ipykernel)",
   "language": "python",
   "name": "python3"
  },
  "language_info": {
   "codemirror_mode": {
    "name": "ipython",
    "version": 3
   },
   "file_extension": ".py",
   "mimetype": "text/x-python",
   "name": "python",
   "nbconvert_exporter": "python",
   "pygments_lexer": "ipython3",
   "version": "3.12.3"
  }
 },
 "nbformat": 4,
 "nbformat_minor": 5
}
