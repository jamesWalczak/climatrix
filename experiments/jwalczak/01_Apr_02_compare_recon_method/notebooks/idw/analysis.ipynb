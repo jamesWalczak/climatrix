{
 "cells": [
  {
   "cell_type": "markdown",
   "id": "b2cfc4a4-bdf6-40b0-a69a-4aa82a58ae2a",
   "metadata": {},
   "source": [
    "# Analysis of Inverse Distance Weightining reconstruction method\n",
    "\n",
    "**Author:** Jakub Walczak, PhD"
   ]
  },
  {
   "cell_type": "code",
   "execution_count": 9,
   "id": "5f23fbf7-bce1-436a-8cd4-21f0a599658e",
   "metadata": {},
   "outputs": [],
   "source": [
    "import os\n",
    "import sys\n",
    "from pathlib import Path\n",
    "import importlib\n",
    "from functools import partial\n",
    "\n",
    "import cartopy.crs as ccrs\n",
    "import cartopy.feature as cfeature\n",
    "import matplotlib.pyplot as plt\n",
    "import xarray as xr\n",
    "from bayes_opt import BayesianOptimization\n",
    "import climatrix as cm\n",
    "from climatrix.dataset.axis import Axis\n",
    "from rich.console import Console\n",
    "\n",
    "# NOTE: we add main experiment directory to PATH to enable to import easily\n",
    "# adjust if needed\n",
    "sys.path.insert(0, str(Path(os.path.abspath(\"\")).parent.parent))\n",
    "from src.hyperparam import find_hyperparameters"
   ]
  },
  {
   "cell_type": "code",
   "execution_count": 10,
   "id": "8142275d-105d-4e51-8b8b-0c563e4811ed",
   "metadata": {},
   "outputs": [],
   "source": [
    "console = Console()"
   ]
  },
  {
   "cell_type": "code",
   "execution_count": 54,
   "id": "546d6c03-543a-4f2c-9d94-817897c638a3",
   "metadata": {},
   "outputs": [],
   "source": [
    "NAN_POLICY = \"resample\"\n",
    "\n",
    "SEED = 1\n",
    "\n",
    "# NOTE: paths might need adjustement depending on the directory where Jupyter is run\n",
    "DSET_PATH = Path(os.path.abspath(\"\")).parent.parent.joinpath(\"data\")\n",
    "\n",
    "OPTIM_INIT_POINTS: int = 50\n",
    "OPTIM_N_ITERS: int = 10\n",
    "\n",
    "SAMPLE_VERTICAL: int = 0\n",
    "\n",
    "PLOT_DIR: str = (\n",
    "    Path(os.path.abspath(\"\")).parent.parent / \"results\" / \"idw\" / \"plots\"\n",
    ")\n",
    "PLOT_DIR.mkdir(parents=True, exist_ok=True)\n",
    "\n",
    "METRICS_PATH: str = (\n",
    "    Path(os.path.abspath(\"\")).parent.parent / \"results\" / \"idw\" / \"metrics.csv\"\n",
    ")"
   ]
  },
  {
   "cell_type": "code",
   "execution_count": 45,
   "id": "3a6f4d56-2670-40dd-9bed-17de30ef65a1",
   "metadata": {},
   "outputs": [],
   "source": [
    "cm.seed_all(SEED)"
   ]
  },
  {
   "cell_type": "code",
   "execution_count": 46,
   "id": "eb2c2f33-8889-45e1-b201-ed6894034ac5",
   "metadata": {},
   "outputs": [],
   "source": [
    "def compute_criterion(train_dset, val_dset, **hparams) -> float:\n",
    "    k_min = int(hparams[\"k_min\"])\n",
    "    k = int(hparams[\"k\"])\n",
    "    power = float(hparams[\"power\"])\n",
    "    if k_min > k:\n",
    "        return -100\n",
    "    recon_dset = train_dset.reconstruct(\n",
    "        val_dset.domain,\n",
    "        method=\"idw\",\n",
    "        k=k,\n",
    "        power=power,\n",
    "        k_min=k_min,\n",
    "    )\n",
    "    metrics = cm.Comparison(\n",
    "        recon_dset, val_dset, map_nan_from_source=False\n",
    "    ).compute_report()\n",
    "    # NOTE: minus to force maximizing\n",
    "    return -metrics[\"Max Abs Error\"]"
   ]
  },
  {
   "cell_type": "code",
   "execution_count": 47,
   "id": "2c0c5201-7196-443c-a623-66cbaf606c16",
   "metadata": {},
   "outputs": [],
   "source": [
    "bounds = {\n",
    "    \"k\": (1, 50),\n",
    "    \"power\": (1e-7, 5.0),\n",
    "    \"k_min\": (1, 40),\n",
    "}"
   ]
  },
  {
   "cell_type": "code",
   "execution_count": 48,
   "id": "1b078de2-927e-491a-94df-eb1aad190d84",
   "metadata": {},
   "outputs": [],
   "source": [
    "def optimize_hyperparameters(train_dset, val_dset):\n",
    "    result = find_hyperparameters(\n",
    "        train_dset,\n",
    "        val_dset,\n",
    "        compute_criterion,\n",
    "        bounds=bounds,\n",
    "        n_init_points=OPTIM_INIT_POINTS,\n",
    "        n_iter=OPTIM_N_ITERS,\n",
    "        seed=SEED,\n",
    "        verbose=0,\n",
    "    )\n",
    "\n",
    "    optim_power = result[\"params\"][\"power\"]\n",
    "    optim_k = result[\"params\"][\"k\"]\n",
    "    optim_k_min = result[\"params\"][\"k_min\"]\n",
    "\n",
    "    return optim_power, optim_k, optim_k_min"
   ]
  },
  {
   "cell_type": "code",
   "execution_count": 49,
   "id": "09314b6d-3e99-487a-84d9-22243066b2d4",
   "metadata": {},
   "outputs": [],
   "source": [
    "dset_dates = [path.stem.split(\"_\")[-1] for path in DSET_PATH.glob(\"*.nc\")]"
   ]
  },
  {
   "cell_type": "code",
   "execution_count": null,
   "id": "ad069457-aa99-4eda-8b91-5c75ac65fcf1",
   "metadata": {},
   "outputs": [],
   "source": [
    "with console.status(\"[magenta]Preparing experiment...\") as status:\n",
    "    all_metrics = {}\n",
    "    for d in dset_dates:\n",
    "        status.update(\n",
    "            f\"[magenta]Processing date: {d}...\", spinner=\"bouncingBall\"\n",
    "        )\n",
    "        train_dset = xr.open_dataset(\n",
    "            DSET_PATH / f\"ecad_obs_europe_train_{d}.nc\"\n",
    "        ).cm\n",
    "        val_dset = xr.open_dataset(\n",
    "            DSET_PATH / f\"ecad_obs_europe_val_{d}.nc\"\n",
    "        ).cm\n",
    "        test_dset = xr.open_dataset(\n",
    "            DSET_PATH / f\"ecad_obs_europe_test_{d}.nc\"\n",
    "        ).cm\n",
    "        status.update(\n",
    "            f\"[magenta]Optimizing hyper-parameters for date: {d}...\",\n",
    "            spinner=\"bouncingBall\",\n",
    "        )\n",
    "        power, k, k_min = optimize_hyperparameters(train_dset, val_dset)\n",
    "        status.update(\n",
    "            \"[magenta]Reconstructing with optimised parameters...\",\n",
    "            spinner=\"bouncingBall\",\n",
    "        )\n",
    "        reconstructed_dset = train_dset.reconstruct(\n",
    "            test_dset.domain,\n",
    "            method=\"idw\",\n",
    "            k=k,\n",
    "            power=power,\n",
    "            k_min=k_min,\n",
    "        )\n",
    "        status.update(\n",
    "            f\"[magenta]Saving reconstructed dset to {PLOT_DIR / f\"{d}_reconstructed.png\"}...\",\n",
    "            spinner=\"bouncingBall\",\n",
    "        )\n",
    "        reconstructed_dset.plot(False).get_figure().savefig(\n",
    "            PLOT_DIR / f\"{d}_reconstructed.png\"\n",
    "        )\n",
    "        status.update(\n",
    "            f\"[magenta]Saving test dset to {PLOT_DIR / f\"{d}_test.png\"}...\",\n",
    "            spinner=\"bouncingBall\",\n",
    "        )\n",
    "        test_dset.plot(False).get_figure().savefig(PLOT_DIR / f\"{d}_test.png\")\n",
    "        status.update(\"[magenta]Evaluating...\", spinner=\"bouncingBall\")\n",
    "        cmp = cm.Comparison(reconstructed_dset, test_dset)\n",
    "        cmp.plot_diff().get_figure().savefig(PLOT_DIR / f\"{d}_diffs.png\")\n",
    "        cmp.plot_signed_diff_hist().get_figure().savefig(\n",
    "            PLOT_DIR / f\"{d}_hist.png\"\n",
    "        )\n",
    "        metrics = cmp.compute_report()\n",
    "        all_metrics[d] = metrics\n",
    "    status.update(\"[magenta]Saving quality metrics...\", spinner=\"bouncingBall\")\n",
    "    pd.DataFrame(all_metrics).transpose().to_csv(METRICS_PATH)"
   ]
  }
 ],
 "metadata": {
  "kernelspec": {
   "display_name": "Python 3 (ipykernel)",
   "language": "python",
   "name": "python3"
  },
  "language_info": {
   "codemirror_mode": {
    "name": "ipython",
    "version": 3
   },
   "file_extension": ".py",
   "mimetype": "text/x-python",
   "name": "python",
   "nbconvert_exporter": "python",
   "pygments_lexer": "ipython3",
   "version": "3.12.3"
  }
 },
 "nbformat": 4,
 "nbformat_minor": 5
}
